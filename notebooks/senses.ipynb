{
 "cells": [
  {
   "cell_type": "markdown",
   "metadata": {},
   "source": [
    "<img align=\"right\" src=\"images/tf-small.png\"/>\n",
    "\n",
    "# Senses\n",
    "\n",
    "We visualize the distribution of *sense labels* of verb occurrences, where verb occurrences select senses that depend on the number and nature of key constituents in their context.\n",
    "\n",
    "The verbal sense data has been computed in the \n",
    "[flowchart notebook](https://github.com/ETCBC/valence/blob/master/notebooks/flowchart.ipynb).\n",
    "\n",
    "In this notebook we show how to make use of that data.\n",
    "\n",
    "For more information about the flowchart computations and the results, \n",
    "read the [wiki](https://github.com/ETCBC/valence/wiki/Workflows).\n",
    "\n",
    "Or go straight to the [legend](https://github.com/ETCBC/valence/wiki/Legend) of the sense labels."
   ]
  },
  {
   "cell_type": "markdown",
   "metadata": {},
   "source": [
    "## Authors\n",
    "\n",
    "[Janet Dyk and Dirk Roorda](https://github.com/ETCBC/valence/wiki/Authors)\n",
    "\n",
    "Last modified 2017-09-13."
   ]
  },
  {
   "cell_type": "markdown",
   "metadata": {},
   "source": [
    "## Data\n",
    "We carry out the valence project against the Hebrew Text Database of the ETCBC, version 4b.\n",
    "See the description of the [sources](https://github.com/ETCBC/valence/wiki/Sources)."
   ]
  },
  {
   "cell_type": "code",
   "execution_count": 1,
   "metadata": {
    "collapsed": true
   },
   "outputs": [],
   "source": [
    "import collections\n",
    "from IPython.display import display\n",
    "\n",
    "import matplotlib.pyplot as plt\n",
    "%matplotlib inline\n",
    "\n",
    "import pandas\n",
    "pandas.set_option('display.notebook_repr_html', True)\n",
    "from tf.fabric import Fabric"
   ]
  },
  {
   "cell_type": "code",
   "execution_count": 2,
   "metadata": {
    "collapsed": true
   },
   "outputs": [],
   "source": [
    "source = 'etcbc'\n",
    "version = '4b'"
   ]
  },
  {
   "cell_type": "code",
   "execution_count": 3,
   "metadata": {},
   "outputs": [
    {
     "name": "stdout",
     "output_type": "stream",
     "text": [
      "This is Text-Fabric 2.3.10\n",
      "Api reference : https://github.com/ETCBC/text-fabric/wiki/Api\n",
      "Tutorial      : https://github.com/ETCBC/text-fabric/blob/master/docs/tutorial.ipynb\n",
      "Data sources  : https://github.com/ETCBC/text-fabric-data\n",
      "Data docs     : https://etcbc.github.io/text-fabric-data\n",
      "Shebanq docs  : https://shebanq.ancient-data.org/text\n",
      "Slack team    : https://shebanq.slack.com/signup\n",
      "Questions? Ask shebanq@ancient-data.org for an invite to Slack\n",
      "121 features found and 0 ignored\n"
     ]
    }
   ],
   "source": [
    "ETCBC = f'hebrew/{source}{version}'\n",
    "VALENCE = f'tf/{version}'\n",
    "TF = Fabric(locations=['~/github/text-fabric-data-legacy', '~/github/valence'], modules=[ETCBC, VALENCE])"
   ]
  },
  {
   "cell_type": "code",
   "execution_count": 13,
   "metadata": {},
   "outputs": [
    {
     "name": "stdout",
     "output_type": "stream",
     "text": [
      "  0.00s loading features ...\n",
      "   |     0.10s B predication          from /Users/dirk/github/valence/tf/4b\n",
      "   |     0.00s Feature overview: 115 for nodes; 5 for edges; 1 configs; 7 computed\n",
      "  0.16s All features loaded/computed - for details use loadLog()\n"
     ]
    }
   ],
   "source": [
    "api = TF.load('''\n",
    "    sp vs\n",
    "    lex gloss\n",
    "    predication sense\n",
    "''')\n",
    "api.makeAvailableIn(globals())"
   ]
  },
  {
   "cell_type": "markdown",
   "metadata": {},
   "source": [
    "# Overall sense label distribution\n",
    "\n",
    "Let's start with a distribution of the sense labels themselves.\n",
    "\n",
    "First collect the data. Here are the sense labels."
   ]
  },
  {
   "cell_type": "code",
   "execution_count": 5,
   "metadata": {},
   "outputs": [
    {
     "name": "stdout",
     "output_type": "stream",
     "text": [
      "-- -b -c -i -p c. d- db dc di dp i. k. l. n.\n"
     ]
    }
   ],
   "source": [
    "senseLabels = sorted({F.sense.v(v) for v in F.otype.s('word')} - {None})\n",
    "print(' '.join(senseLabels))"
   ]
  },
  {
   "cell_type": "markdown",
   "metadata": {},
   "source": [
    "We adjust the order of the sense labels manually, for clarity of presentation later on."
   ]
  },
  {
   "cell_type": "code",
   "execution_count": 23,
   "metadata": {},
   "outputs": [
    {
     "name": "stdout",
     "output_type": "stream",
     "text": [
      "-- -i -b -p -c d- di db dp dc n. l. k. i. c.\n"
     ]
    }
   ],
   "source": [
    "senseLabels = '-- -i -b -p -c d- di db dp dc n. l. k. i. c.'.split()\n",
    "print(' '.join(senseLabels))"
   ]
  },
  {
   "cell_type": "markdown",
   "metadata": {},
   "source": [
    "Now we count how many times the labels occur. "
   ]
  },
  {
   "cell_type": "code",
   "execution_count": 24,
   "metadata": {},
   "outputs": [
    {
     "name": "stdout",
     "output_type": "stream",
     "text": [
      " 3m 57s Counted 47346 senses\n",
      " 3m 57s All relevant verbs have been assigned a sense\n"
     ]
    }
   ],
   "source": [
    "senseCount = collections.Counter()\n",
    "noSense = []\n",
    "isPredicate = {'regular', 'copula'}\n",
    "\n",
    "for v in F.otype.s('word'):\n",
    "    sense = F.sense.v(v)\n",
    "    if sense == None:\n",
    "        # skip words that are not verbs in the qal\n",
    "        if F.sp.v(v) != 'verb' or F.vs.v(v) != 'qal': continue\n",
    "        # skip verbs in a phrase that is not a verb phrase, e.g. some participles\n",
    "        # the criterion here is whether the value of feature `predication` is non trivial\n",
    "        p = L.u(v, 'phrase')\n",
    "        if F.predication.v(p) not in isPredicate: continue \n",
    "        noSense.append(v)\n",
    "        continue\n",
    "    senseCount[sense] +=1\n",
    "info('Counted {} senses'.format(sum(senseCount.values())))\n",
    "if noSense:\n",
    "    error('{} verb occurrences do not have a sense'.format(len(noSense)))\n",
    "    for v in noSense[0:10]:\n",
    "        print('{:<20} word {:>6} phrase {:>6} = {:<5}'.format(\n",
    "            '{} {}:{}'.format(*T.sectionFromNode(v)),\n",
    "            v,\n",
    "            L.u(v, 'phrase')[0],\n",
    "            F.lex.v(v)\n",
    "        ))\n",
    "else:\n",
    "    info('All relevant verbs have been assigned a sense')"
   ]
  },
  {
   "cell_type": "markdown",
   "metadata": {},
   "source": [
    "Show the sense counts."
   ]
  },
  {
   "cell_type": "code",
   "execution_count": 25,
   "metadata": {},
   "outputs": [
    {
     "data": {
      "text/plain": [
       "[18147, 3490, 52, 6537, 3142, 10299, 744, 44, 1887, 945, 540, 755, 62, 631, 71]"
      ]
     },
     "execution_count": 25,
     "metadata": {},
     "output_type": "execute_result"
    }
   ],
   "source": [
    "x = range(len(senseLabels))\n",
    "s = [senseCount[sl] for sl in senseLabels]\n",
    "s"
   ]
  },
  {
   "cell_type": "markdown",
   "metadata": {},
   "source": [
    "Plot a chart with overall sense counts."
   ]
  },
  {
   "cell_type": "code",
   "execution_count": 26,
   "metadata": {},
   "outputs": [
    {
     "data": {
      "text/plain": [
       "<matplotlib.text.Text at 0x187d1b438>"
      ]
     },
     "execution_count": 26,
     "metadata": {},
     "output_type": "execute_result"
    },
    {
     "data": {
      "image/png": "[encoded data removed]",
      "text/plain": [
       "<matplotlib.figure.Figure at 0x189483dd8>"
      ]
     },
     "metadata": {},
     "output_type": "display_data"
    }
   ],
   "source": [
    "fig = plt.figure()\n",
    "plt.bar(x, s, tick_label=senseLabels, align='center')\n",
    "plt.title('verb sense labels')"
   ]
  },
  {
   "cell_type": "markdown",
   "metadata": {},
   "source": [
    "# Sense label distribution per verb\n",
    "\n",
    "We show the sense label distribution for the most frequent verbs.\n",
    "\n",
    "First we need a function that plots a distribution, given a verb.\n",
    "The verb is given by its lexeme."
   ]
  },
  {
   "cell_type": "code",
   "execution_count": 78,
   "metadata": {},
   "outputs": [],
   "source": [
    "x = range(len(senseLabels))\n",
    "\n",
    "def getSenseDistr(lex):\n",
    "    occurrences = [v for v in F.otype.s('word') if F.lex.v(v).rstrip('[=]') == lex]\n",
    "    senseCount = collections.Counter()\n",
    "    for v in occurrences:\n",
    "        sense = F.sense.v(v)\n",
    "        if not sense: sense = ''\n",
    "        senseCount[sense] +=1\n",
    "\n"
   ]
  },
  {
   "cell_type": "code",
   "execution_count": 81,
   "metadata": {},
   "outputs": [
    {
     "name": "stdout",
     "output_type": "stream",
     "text": [
      "5379\n"
     ]
    }
   ],
   "source": [
    "getSenseDistr('>MR')"
   ]
  },
  {
   "cell_type": "code",
   "execution_count": null,
   "metadata": {
    "collapsed": true
   },
   "outputs": [],
   "source": []
  }
 ],
 "metadata": {
  "kernelspec": {
   "display_name": "Python 3",
   "language": "python",
   "name": "python3"
  },
  "language_info": {
   "codemirror_mode": {
    "name": "ipython",
    "version": 3
   },
   "file_extension": ".py",
   "mimetype": "text/x-python",
   "name": "python",
   "nbconvert_exporter": "python",
   "pygments_lexer": "ipython3",
   "version": "3.6.2"
  }
 },
 "nbformat": 4,
 "nbformat_minor": 2
}
