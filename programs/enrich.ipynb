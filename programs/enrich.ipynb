{
 "cells": [
  {
   "cell_type": "code",
   "execution_count": null,
   "metadata": {
    "lines_to_next_cell": 0
   },
   "outputs": [],
   "source": []
  },
  {
   "cell_type": "markdown",
   "metadata": {},
   "source": [
    "<img align=\"right\" src=\"images/dans-small.png\"/>\n",
    "<img align=\"right\" src=\"images/tf-small.png\"/>\n",
    "<img align=\"right\" src=\"images/etcbc.png\"/>\n",
    "\n",
    "\n",
    "# Corrections and enrichment\n",
    "\n",
    "In order to do\n",
    "[verbal valence analysis](flowchart.ipynb)\n",
    "on verbs, we need to correct some coding errors.\n",
    "\n",
    "We also need to enrich constituents surrounding the\n",
    "verb occurrences with higher level features, that can be used\n",
    "as input for the flow chart decisions.\n",
    "\n",
    "Read more in the [wiki](https://github.com/ETCBC/valence/wiki/Workflows)."
   ]
  },
  {
   "cell_type": "markdown",
   "metadata": {},
   "source": [
    "# Pipeline\n",
    "See [operation](https://github.com/ETCBC/pipeline/blob/master/README.md#operation)\n",
    "for how to run this script in the pipeline."
   ]
  },
  {
   "cell_type": "markdown",
   "metadata": {
    "lines_to_next_cell": 2
   },
   "source": [
    "This notebook processes excel sheets with manual corrections and enrichments.\n",
    "These have been entered against the `4b` version.\n",
    "However, the `4b` version in this repository has been regenerated from scratch,\n",
    "and in that process the node numbers have changed.\n",
    "As the sheets rely on node numbers to let the entered data flow back to the right nodes,\n",
    "these sheets no longer work on this version.\n",
    "It should be possible to identify the material in those sheets on the basis of\n",
    "book, chapter and verse info.\n",
    "But we leave that as an exercise to posterity.\n",
    "\n",
    "\n",
    "For all other versions, we keep the mechanism in place, but for now we work with zero manual input\n",
    "for those versions.\n",
    "\n",
    "As far as *corrections* are concerned: we expect to see them turn up in the continuous version `c`\n",
    "of the core [BHSA](https://github.com/ETCBC/bhsa) data.\n",
    "\n",
    "As far as *enrichments* are concerned: there are very few manual enrichments.\n",
    "Most of the cases are handled by the algorithm in the notebook.\n",
    "\n",
    "We recommend to harvest exceptions in the notebook itself, it has already a mechanism to apply\n",
    "verb specific logic."
   ]
  },
  {
   "cell_type": "code",
   "execution_count": 107,
   "metadata": {
    "lines_to_next_cell": 2
   },
   "outputs": [],
   "source": [
    "import sys\n",
    "import os\n",
    "import collections\n",
    "import yaml\n",
    "from copy import deepcopy\n",
    "import utils\n",
    "from tf.fabric import Fabric\n",
    "from tf.core.helpers import formatMeta"
   ]
  },
  {
   "cell_type": "code",
   "execution_count": 2,
   "metadata": {},
   "outputs": [],
   "source": [
    "if \"SCRIPT\" not in locals():\n",
    "    SCRIPT = False\n",
    "    FORCE = True\n",
    "    CORE_NAME = \"bhsa\"\n",
    "    NAME = \"valence\"\n",
    "    VERSION = \"2021\""
   ]
  },
  {
   "cell_type": "code",
   "execution_count": 3,
   "metadata": {
    "lines_to_next_cell": 2
   },
   "outputs": [],
   "source": [
    "def stop(good=False):\n",
    "    if SCRIPT:\n",
    "        sys.exit(0 if good else 1)"
   ]
  },
  {
   "cell_type": "markdown",
   "metadata": {},
   "source": [
    "## Authors\n",
    "\n",
    "[Janet Dyk and Dirk Roorda](https://github.com/ETCBC/valence/wiki/Authors)\n",
    "\n",
    "Last modified 2017-09-13."
   ]
  },
  {
   "cell_type": "markdown",
   "metadata": {},
   "source": [
    "## References\n",
    "\n",
    "[References](https://github.com/ETCBC/valence/wiki/References)"
   ]
  },
  {
   "cell_type": "markdown",
   "metadata": {},
   "source": [
    "## Data\n",
    "We have carried out the valence project against the Hebrew Text Database BHSA, version `4b`.\n",
    "See the description of the [sources](https://github.com/ETCBC/valence/wiki/Sources).\n",
    "\n",
    "However, we can run our stuff also against the newer versions."
   ]
  },
  {
   "cell_type": "markdown",
   "metadata": {},
   "source": [
    "## Implementation\n",
    "\n",
    "Start the engines. We use the Python package\n",
    "[text-fabric](https://github.com/Dans-labs/text-fabric)\n",
    "to process the data of the Hebrew Text Database smoothly and efficiently."
   ]
  },
  {
   "cell_type": "markdown",
   "metadata": {},
   "source": [
    "# Setting up the context: source file and target directories\n",
    "\n",
    "The conversion is executed in an environment of directories, so that sources, temp files and\n",
    "results are in convenient places and do not have to be shifted around."
   ]
  },
  {
   "cell_type": "markdown",
   "metadata": {
    "lines_to_next_cell": 2
   },
   "source": [
    "In[3]:"
   ]
  },
  {
   "cell_type": "code",
   "execution_count": 4,
   "metadata": {},
   "outputs": [],
   "source": [
    "repoBase = os.path.expanduser(\"~/github/etcbc\")\n",
    "coreRepo = \"{}/{}\".format(repoBase, CORE_NAME)\n",
    "thisRepo = \"{}/{}\".format(repoBase, NAME)"
   ]
  },
  {
   "cell_type": "code",
   "execution_count": 5,
   "metadata": {},
   "outputs": [],
   "source": [
    "coreTf = \"{}/tf/{}\".format(coreRepo, VERSION)"
   ]
  },
  {
   "cell_type": "code",
   "execution_count": 6,
   "metadata": {},
   "outputs": [],
   "source": [
    "thisSource = \"{}/source/{}\".format(thisRepo, VERSION)\n",
    "thisTemp = \"{}/_temp/{}\".format(thisRepo, VERSION)\n",
    "thisTempTf = \"{}/tf\".format(thisTemp)"
   ]
  },
  {
   "cell_type": "code",
   "execution_count": 7,
   "metadata": {
    "lines_to_next_cell": 2
   },
   "outputs": [],
   "source": [
    "thisTf = \"{}/tf/{}\".format(thisRepo, VERSION)"
   ]
  },
  {
   "cell_type": "markdown",
   "metadata": {},
   "source": [
    "# Test\n",
    "\n",
    "Check whether this conversion is needed in the first place.\n",
    "Only when run as a script."
   ]
  },
  {
   "cell_type": "markdown",
   "metadata": {
    "lines_to_next_cell": 2
   },
   "source": [
    "In[4]:"
   ]
  },
  {
   "cell_type": "code",
   "execution_count": 8,
   "metadata": {
    "lines_to_next_cell": 2
   },
   "outputs": [],
   "source": [
    "if SCRIPT:\n",
    "    (good, work) = utils.mustRun(\n",
    "        None, \"{}/.tf/{}.tfx\".format(thisTf, \"valence\"), force=FORCE\n",
    "    )\n",
    "    print(good, work)\n",
    "    if not good:\n",
    "        stop(good=False)\n",
    "    if not work:\n",
    "        stop(good=True)"
   ]
  },
  {
   "cell_type": "markdown",
   "metadata": {},
   "source": [
    "# Loading the feature data\n",
    "\n",
    "We load the features we need from the BHSA core database."
   ]
  },
  {
   "cell_type": "markdown",
   "metadata": {
    "lines_to_next_cell": 2
   },
   "source": [
    "In[5]:"
   ]
  },
  {
   "cell_type": "code",
   "execution_count": 9,
   "metadata": {
    "lines_to_next_cell": 2
   },
   "outputs": [
    {
     "name": "stdout",
     "output_type": "stream",
     "text": [
      "..............................................................................................\n",
      ".       0.00s Load the existing TF dataset                                                   .\n",
      "..............................................................................................\n",
      "This is Text-Fabric 9.1.7\n",
      "Api reference : https://annotation.github.io/text-fabric/tf/cheatsheet.html\n",
      "\n",
      "114 features found and 0 ignored\n"
     ]
    }
   ],
   "source": [
    "utils.caption(4, \"Load the existing TF dataset\")\n",
    "TF = Fabric(locations=coreTf, modules=[\"\"])"
   ]
  },
  {
   "cell_type": "markdown",
   "metadata": {},
   "source": [
    "We instruct the API to load data."
   ]
  },
  {
   "cell_type": "markdown",
   "metadata": {
    "lines_to_next_cell": 2
   },
   "source": [
    "In[6]:"
   ]
  },
  {
   "cell_type": "code",
   "execution_count": 10,
   "metadata": {
    "lines_to_next_cell": 2
   },
   "outputs": [
    {
     "name": "stdout",
     "output_type": "stream",
     "text": [
      "  0.00s loading features ...\n",
      "   |     0.00s Dataset without structure sections in otext:no structure functions in the T-API\n",
      "    11s All features loaded/computed - for details use TF.isLoaded()\n"
     ]
    },
    {
     "data": {
      "text/plain": [
       "[('Computed',\n",
       "  'computed-data',\n",
       "  ('C Computed', 'Call AllComputeds', 'Cs ComputedString')),\n",
       " ('Features', 'edge-features', ('E Edge', 'Eall AllEdges', 'Es EdgeString')),\n",
       " ('Fabric', 'loading', ('TF',)),\n",
       " ('Locality', 'locality', ('L Locality',)),\n",
       " ('Nodes', 'navigating-nodes', ('N Nodes',)),\n",
       " ('Features',\n",
       "  'node-features',\n",
       "  ('F Feature', 'Fall AllFeatures', 'Fs FeatureString')),\n",
       " ('Search', 'search', ('S Search',)),\n",
       " ('Text', 'text', ('T Text',))]"
      ]
     },
     "execution_count": 10,
     "metadata": {},
     "output_type": "execute_result"
    }
   ],
   "source": [
    "api = TF.load(\n",
    "    \"\"\"\n",
    "    lex gloss lex_utf8\n",
    "    sp vs lex uvf prs nametype ls\n",
    "    function rela typ\n",
    "    mother\n",
    "\"\"\"\n",
    ")\n",
    "api.makeAvailableIn(globals())"
   ]
  },
  {
   "cell_type": "markdown",
   "metadata": {},
   "source": [
    "# Locations"
   ]
  },
  {
   "cell_type": "markdown",
   "metadata": {
    "lines_to_next_cell": 2
   },
   "source": [
    "In[7]:"
   ]
  },
  {
   "cell_type": "code",
   "execution_count": 11,
   "metadata": {},
   "outputs": [],
   "source": [
    "linkShebanq = \"https://shebanq.ancient-data.org/hebrew/text\"\n",
    "linkPassage = \"?book={}&chapter={}&verse={}\"\n",
    "linkAppearance = \"&version={}&mr=m&qw=n&tp=txt_tb1&tr=hb&wget=x&qget=v&nget=x\".format(\n",
    "    VERSION\n",
    ")"
   ]
  },
  {
   "cell_type": "code",
   "execution_count": 12,
   "metadata": {},
   "outputs": [],
   "source": [
    "resultDir = \"{}/results\".format(thisTemp)\n",
    "allResults = \"{}/all.csv\".format(resultDir)\n",
    "selectedResults = \"{}/selected.csv\".format(resultDir)\n",
    "kinds = (\"corr_blank\", \"corr_filled\", \"enrich_blank\", \"enrich_filled\")\n",
    "kdir = {}\n",
    "for k in kinds:\n",
    "    kd = \"{}/{}\".format(thisSource, k)\n",
    "    kdir[k] = kd\n",
    "    if not os.path.exists(kd):\n",
    "        os.makedirs(kd)\n",
    "if not os.path.exists(resultDir):\n",
    "    os.makedirs(resultDir)"
   ]
  },
  {
   "cell_type": "code",
   "execution_count": 13,
   "metadata": {
    "lines_to_next_cell": 2
   },
   "outputs": [],
   "source": [
    "def vfile(verb, kind):\n",
    "    if kind not in kinds:\n",
    "        utils.caption(0, \"ERROR: Unknown kind `{}`\".format(kind))\n",
    "        return None\n",
    "    baseName = verb.replace(\">\", \"a\").replace(\"<\", \"o\")\n",
    "    return (baseName, \"{}/{}.csv\".format(kdir[kind], baseName))"
   ]
  },
  {
   "cell_type": "markdown",
   "metadata": {},
   "source": [
    "# Domain\n",
    "Here is a subset of verbs that interest us.\n",
    "In fact, we are interested in all verbs, but we have subjected the occurrences of these verbs to closer inspection,\n",
    "together with the contexts they occur in.\n",
    "\n",
    "Manual additions in the correction and enrichment workflow can only happen for selected verbs."
   ]
  },
  {
   "cell_type": "markdown",
   "metadata": {
    "lines_to_next_cell": 2
   },
   "source": [
    "In[8]:"
   ]
  },
  {
   "cell_type": "code",
   "execution_count": 14,
   "metadata": {},
   "outputs": [],
   "source": [
    "verbs_initial = set(\n",
    "    \"\"\"\n",
    "    CJT\n",
    "    BR>\n",
    "    QR>\n",
    "\"\"\".strip().split()\n",
    ")"
   ]
  },
  {
   "cell_type": "code",
   "execution_count": 15,
   "metadata": {},
   "outputs": [],
   "source": [
    "motion_verbs = set(\n",
    "    \"\"\"\n",
    "    <BR\n",
    "    <LH\n",
    "    BW>\n",
    "    CWB\n",
    "    HLK\n",
    "    JRD\n",
    "    JY>\n",
    "    NPL\n",
    "    NWS\n",
    "    SWR\n",
    "\"\"\".strip().split()\n",
    ")"
   ]
  },
  {
   "cell_type": "code",
   "execution_count": 16,
   "metadata": {},
   "outputs": [],
   "source": [
    "double_object_verbs = set(\n",
    "    \"\"\"\n",
    "    NTN\n",
    "    <FH\n",
    "    FJM\n",
    "\"\"\".strip().split()\n",
    ")"
   ]
  },
  {
   "cell_type": "code",
   "execution_count": 17,
   "metadata": {},
   "outputs": [],
   "source": [
    "complex_qal_verbs = set(\n",
    "    \"\"\"\n",
    "    NF>\n",
    "    PQD\n",
    "\"\"\".strip().split()\n",
    ")"
   ]
  },
  {
   "cell_type": "code",
   "execution_count": 18,
   "metadata": {
    "lines_to_next_cell": 2
   },
   "outputs": [],
   "source": [
    "verbs = verbs_initial | motion_verbs | double_object_verbs | complex_qal_verbs"
   ]
  },
  {
   "cell_type": "markdown",
   "metadata": {},
   "source": [
    "# 1. Correction workflow\n",
    "\n",
    "## 1.1 Phrase function\n",
    "\n",
    "We need to correct some values of the phrase function.\n",
    "When we receive the corrections, we check whether they have legal values.\n",
    "Here we look up the possible values."
   ]
  },
  {
   "cell_type": "markdown",
   "metadata": {
    "lines_to_next_cell": 2
   },
   "source": [
    "In[9]:"
   ]
  },
  {
   "cell_type": "code",
   "execution_count": 19,
   "metadata": {
    "lines_to_next_cell": 2
   },
   "outputs": [],
   "source": [
    "predicate_functions = {\n",
    "    \"Pred\",\n",
    "    \"PreS\",\n",
    "    \"PreO\",\n",
    "    \"PreC\",\n",
    "    \"PtcO\",\n",
    "    \"PrcS\",\n",
    "}"
   ]
  },
  {
   "cell_type": "markdown",
   "metadata": {
    "lines_to_next_cell": 2
   },
   "source": [
    "In[10]:"
   ]
  },
  {
   "cell_type": "code",
   "execution_count": 20,
   "metadata": {
    "lines_to_next_cell": 2
   },
   "outputs": [],
   "source": [
    "legal_values = dict(\n",
    "    function={F.function.v(p) for p in F.otype.s(\"phrase\")},\n",
    ")"
   ]
  },
  {
   "cell_type": "markdown",
   "metadata": {},
   "source": [
    "We generate a list of occurrences of those verbs, organized by the lexeme of the verb.\n",
    "We need some extra values, to indicate other coding errors."
   ]
  },
  {
   "cell_type": "markdown",
   "metadata": {
    "lines_to_next_cell": 2
   },
   "source": [
    "In[11]:"
   ]
  },
  {
   "cell_type": "code",
   "execution_count": 21,
   "metadata": {
    "lines_to_next_cell": 2
   },
   "outputs": [],
   "source": [
    "error_values = dict(\n",
    "    function=dict(\n",
    "        BoundErr=\"this constituent is part of another constituent and does not merit its own function/type/rela value\",\n",
    "    ),\n",
    ")"
   ]
  },
  {
   "cell_type": "markdown",
   "metadata": {},
   "source": [
    "We add the `error_values` to the legal values."
   ]
  },
  {
   "cell_type": "markdown",
   "metadata": {
    "lines_to_next_cell": 2
   },
   "source": [
    "In[12]:"
   ]
  },
  {
   "cell_type": "code",
   "execution_count": 22,
   "metadata": {
    "lines_to_next_cell": 2
   },
   "outputs": [
    {
     "name": "stdout",
     "output_type": "stream",
     "text": [
      "|         11s {'function': {'NCoS', 'Supp', 'Conj', 'Adju', 'Subj', 'ExsS', 'IntS', 'BoundErr', 'PreC', 'Nega', 'Ques', 'PtcO', 'Exst', 'PreS', 'Frnt', 'Loca', 'Pred', 'PrAd', 'Cmpl', 'PrcS', 'Rela', 'NCop', 'Intj', 'ModS', 'EPPr', 'Time', 'PreO', 'Objc', 'Voct', 'Modi'}}\n"
     ]
    }
   ],
   "source": [
    "for feature in set(legal_values.keys()) | set(error_values.keys()):\n",
    "    ev = error_values.get(feature, {})\n",
    "    if ev:\n",
    "        lv = legal_values.setdefault(feature, set())\n",
    "        lv |= set(ev.keys())\n",
    "if not SCRIPT:\n",
    "    utils.caption(0, \"{}\".format(legal_values))"
   ]
  },
  {
   "cell_type": "markdown",
   "metadata": {
    "lines_to_next_cell": 2
   },
   "source": [
    "In[13]:"
   ]
  },
  {
   "cell_type": "code",
   "execution_count": 23,
   "metadata": {},
   "outputs": [
    {
     "name": "stdout",
     "output_type": "stream",
     "text": [
      "..............................................................................................\n",
      ".         11s Finding occurrences ...                                                        .\n",
      "..............................................................................................\n"
     ]
    }
   ],
   "source": [
    "utils.caption(4, \"Finding occurrences ...\")\n",
    "occs = collections.defaultdict(\n",
    "    list\n",
    ")  # dictionary of verb occurrence nodes per verb lexeme\n",
    "npoccs = collections.defaultdict(list)  # same, but those not occurring in a \"predicate\"\n",
    "clause_verb = collections.defaultdict(\n",
    "    list\n",
    ")  # dictionary of verb occurrence nodes per clause node\n",
    "sel_clause_verb = collections.defaultdict(\n",
    "    list\n",
    ")  # dictionary of selected verb occurrence nodes per clause node\n",
    "clause_verb_index = collections.defaultdict(\n",
    "    set\n",
    ")  # mapping from clauses to its main verb(s)\n",
    "sel_clause_verb_index = collections.defaultdict(\n",
    "    set\n",
    ")  # mapping from clauses to its main verb(s), for selected verbs\n",
    "verb_clause_index = collections.defaultdict(\n",
    "    list\n",
    ")  # mapping from verbs to the clauses of which it is main verb\n",
    "sel_verb_clause_index = collections.defaultdict(\n",
    "    list\n",
    ")  # mapping from selected verbs to the clauses of which it is main verb"
   ]
  },
  {
   "cell_type": "code",
   "execution_count": 24,
   "metadata": {},
   "outputs": [],
   "source": [
    "nw = 0\n",
    "sel_nw = 0\n",
    "for w in F.otype.s(\"word\"):\n",
    "    if F.sp.v(w) != \"verb\":\n",
    "        continue\n",
    "    lex = F.lex.v(w).rstrip(\"[=\")\n",
    "    nw += 1\n",
    "    pf = F.function.v(L.u(w, \"phrase\")[0])\n",
    "    if pf not in predicate_functions:\n",
    "        npoccs[lex].append(w)\n",
    "    occs[lex].append(w)\n",
    "    cn = L.u(w, \"clause\")[0]\n",
    "    clause_verb[cn].append(w)\n",
    "    clause_verb_index[cn].add(lex)\n",
    "    verb_clause_index[lex].append(cn)\n",
    "    if lex in verbs:\n",
    "        sel_nw += 1\n",
    "        sel_clause_verb[cn].append(w)\n",
    "        sel_clause_verb_index[cn].add(lex)"
   ]
  },
  {
   "cell_type": "code",
   "execution_count": 25,
   "metadata": {},
   "outputs": [
    {
     "data": {
      "text/plain": [
       "defaultdict(list,\n",
       "            {427559: [3],\n",
       "             427569: [59],\n",
       "             427570: [69],\n",
       "             427577: [96],\n",
       "             427582: [126],\n",
       "             427590: [161],\n",
       "             427591: [172],\n",
       "             427597: [191],\n",
       "             427600: [205],\n",
       "             427602: [216],\n",
       "             427616: [283],\n",
       "             427617: [315],\n",
       "             427629: [381],\n",
       "             427646: [449],\n",
       "             427649: [468],\n",
       "             427655: [498],\n",
       "             427658: [535],\n",
       "             427659: [545],\n",
       "             427660: [550],\n",
       "             427670: [594],\n",
       "             427680: [660],\n",
       "             427687: [694],\n",
       "             427689: [706],\n",
       "             427693: [724],\n",
       "             427694: [727],\n",
       "             427696: [736],\n",
       "             427698: [739],\n",
       "             427704: [780],\n",
       "             427710: [825],\n",
       "             427717: [865],\n",
       "             427732: [935],\n",
       "             427749: [1007],\n",
       "             427751: [1030],\n",
       "             427753: [1037],\n",
       "             427755: [1042],\n",
       "             427757: [1051],\n",
       "             427759: [1079],\n",
       "             427765: [1112],\n",
       "             427768: [1132],\n",
       "             427776: [1179],\n",
       "             427803: [1291],\n",
       "             427809: [1312],\n",
       "             427811: [1321],\n",
       "             427813: [1345],\n",
       "             427829: [1396],\n",
       "             427830: [1399],\n",
       "             427833: [1415],\n",
       "             427838: [1433],\n",
       "             427840: [1449],\n",
       "             427842: [1458],\n",
       "             427861: [1548],\n",
       "             427864: [1561],\n",
       "             427865: [1563],\n",
       "             427867: [1576],\n",
       "             427894: [1710],\n",
       "             427895: [1721],\n",
       "             427899: [1752],\n",
       "             427902: [1764],\n",
       "             427920: [1827],\n",
       "             427928: [1861],\n",
       "             427932: [1879],\n",
       "             427942: [1918],\n",
       "             427944: [1930],\n",
       "             427951: [1959],\n",
       "             427976: [2086],\n",
       "             427977: [2091],\n",
       "             427980: [2109],\n",
       "             427982: [2116],\n",
       "             427985: [2126],\n",
       "             427984: [2132],\n",
       "             427986: [2137],\n",
       "             427988: [2142],\n",
       "             427989: [2148],\n",
       "             427992: [2163],\n",
       "             428036: [2424],\n",
       "             428040: [2455],\n",
       "             428052: [2529],\n",
       "             428077: [2676],\n",
       "             428086: [2721],\n",
       "             428090: [2740],\n",
       "             428092: [2760],\n",
       "             428096: [2781],\n",
       "             428104: [2834],\n",
       "             428107: [2850],\n",
       "             428108: [2856],\n",
       "             428111: [2874],\n",
       "             428115: [2890],\n",
       "             428117: [2907],\n",
       "             428118: [2912],\n",
       "             428120: [2916],\n",
       "             428126: [2948],\n",
       "             428128: [2972],\n",
       "             428132: [3004],\n",
       "             428138: [3028],\n",
       "             428140: [3037],\n",
       "             428142: [3043],\n",
       "             428151: [3127],\n",
       "             428152: [3134],\n",
       "             428157: [3156],\n",
       "             428158: [3199],\n",
       "             428167: [3281],\n",
       "             428170: [3337],\n",
       "             428173: [3355],\n",
       "             428172: [3362],\n",
       "             428178: [3386],\n",
       "             428182: [3407],\n",
       "             428202: [3565],\n",
       "             428206: [3591, 3598, 3600],\n",
       "             428209: [3634],\n",
       "             428213: [3668],\n",
       "             428215: [3675, 3676, 3678],\n",
       "             428221: [3715],\n",
       "             428225: [3733],\n",
       "             428229: [3755],\n",
       "             428236: [3794],\n",
       "             428239: [3821],\n",
       "             428245: [3859],\n",
       "             428246: [3897],\n",
       "             428252: [3912],\n",
       "             428253: [3939],\n",
       "             428257: [3965],\n",
       "             428265: [4013],\n",
       "             428275: [4085],\n",
       "             428278: [4098],\n",
       "             428285: [4148],\n",
       "             428297: [4209],\n",
       "             428304: [4250],\n",
       "             428306: [4266],\n",
       "             428324: [4375],\n",
       "             428338: [4446],\n",
       "             428339: [4451],\n",
       "             428345: [4475],\n",
       "             428375: [4679],\n",
       "             428381: [4725],\n",
       "             428388: [4790],\n",
       "             428389: [4794],\n",
       "             428407: [4930],\n",
       "             428427: [5032],\n",
       "             428429: [5043],\n",
       "             428437: [5074],\n",
       "             428440: [5084],\n",
       "             428442: [5086],\n",
       "             428449: [5116],\n",
       "             428505: [5454],\n",
       "             428506: [5460],\n",
       "             428507: [5464],\n",
       "             428512: [5489],\n",
       "             428514: [5506],\n",
       "             428521: [5532],\n",
       "             428523: [5540],\n",
       "             428525: [5552],\n",
       "             428528: [5577],\n",
       "             428529: [5581],\n",
       "             428530: [5583],\n",
       "             428531: [5587],\n",
       "             428532: [5591],\n",
       "             428536: [5618],\n",
       "             428544: [5661],\n",
       "             428545: [5668],\n",
       "             428547: [5680],\n",
       "             428552: [5699],\n",
       "             428567: [5748],\n",
       "             428576: [5816],\n",
       "             428578: [5824],\n",
       "             428587: [5849],\n",
       "             428591: [5867],\n",
       "             428595: [5898],\n",
       "             428598: [5927],\n",
       "             428599: [5933],\n",
       "             428601: [5944],\n",
       "             428602: [5955],\n",
       "             428618: [6040],\n",
       "             428622: [6069],\n",
       "             428633: [6126],\n",
       "             428638: [6153],\n",
       "             428640: [6160],\n",
       "             428645: [6181],\n",
       "             428646: [6192],\n",
       "             428648: [6197],\n",
       "             428653: [6229],\n",
       "             428659: [6279],\n",
       "             428666: [6319],\n",
       "             428667: [6321],\n",
       "             428671: [6343],\n",
       "             428677: [6397],\n",
       "             428678: [6403],\n",
       "             428679: [6409],\n",
       "             428681: [6423],\n",
       "             428683: [6435],\n",
       "             428685: [6442],\n",
       "             428697: [6509],\n",
       "             428698: [6521],\n",
       "             428699: [6532],\n",
       "             428700: [6536],\n",
       "             428701: [6538],\n",
       "             428705: [6560],\n",
       "             428712: [6593],\n",
       "             428714: [6604],\n",
       "             428727: [6661],\n",
       "             428737: [6700],\n",
       "             428738: [6704],\n",
       "             428742: [6719],\n",
       "             428748: [6740],\n",
       "             428750: [6746],\n",
       "             428762: [6785],\n",
       "             428763: [6790],\n",
       "             428773: [6838],\n",
       "             428774: [6842],\n",
       "             428776: [6851],\n",
       "             428779: [6866],\n",
       "             428780: [6869],\n",
       "             428781: [6877],\n",
       "             428790: [6913],\n",
       "             428791: [6919],\n",
       "             428793: [6931],\n",
       "             428796: [6945],\n",
       "             428799: [6957],\n",
       "             428802: [6977],\n",
       "             428812: [7057],\n",
       "             428817: [7091],\n",
       "             428818: [7100],\n",
       "             428825: [7122],\n",
       "             428832: [7148],\n",
       "             428839: [7186],\n",
       "             428840: [7189],\n",
       "             428844: [7203],\n",
       "             428852: [7235],\n",
       "             428858: [7263],\n",
       "             428864: [7282],\n",
       "             428867: [7301],\n",
       "             428875: [7344],\n",
       "             428877: [7351],\n",
       "             428879: [7363],\n",
       "             428885: [7385],\n",
       "             428887: [7398],\n",
       "             428889: [7406],\n",
       "             428890: [7412],\n",
       "             428893: [7439],\n",
       "             428912: [7571],\n",
       "             428915: [7583],\n",
       "             428919: [7598],\n",
       "             428929: [7643],\n",
       "             428936: [7679],\n",
       "             428941: [7709],\n",
       "             428954: [7819],\n",
       "             428959: [7834],\n",
       "             428964: [7853],\n",
       "             428970: [7877],\n",
       "             428971: [7881],\n",
       "             428973: [7887],\n",
       "             428979: [7907],\n",
       "             428982: [7923],\n",
       "             428984: [7930],\n",
       "             428986: [7942],\n",
       "             428987: [7944],\n",
       "             428995: [7970, 7971],\n",
       "             429000: [7997],\n",
       "             429014: [8051],\n",
       "             429025: [8088],\n",
       "             429029: [8102],\n",
       "             429035: [8135],\n",
       "             429036: [8140],\n",
       "             429043: [8162],\n",
       "             429046: [8170],\n",
       "             429045: [8172],\n",
       "             429050: [8185],\n",
       "             429058: [8218],\n",
       "             429061: [8232],\n",
       "             429065: [8259],\n",
       "             429068: [8275],\n",
       "             429084: [8338],\n",
       "             429090: [8359],\n",
       "             429104: [8410],\n",
       "             429107: [8421],\n",
       "             429108: [8425],\n",
       "             429112: [8445],\n",
       "             429118: [8455],\n",
       "             429122: [8468],\n",
       "             429127: [8484],\n",
       "             429128: [8487],\n",
       "             429129: [8491],\n",
       "             429134: [8522],\n",
       "             429137: [8532],\n",
       "             429138: [8536],\n",
       "             429140: [8542],\n",
       "             429147: [8567],\n",
       "             429148: [8572],\n",
       "             429149: [8586],\n",
       "             429150: [8591],\n",
       "             429154: [8603],\n",
       "             429162: [8634],\n",
       "             429170: [8690],\n",
       "             429176: [8714],\n",
       "             429180: [8725],\n",
       "             429183: [8748],\n",
       "             429192: [8795],\n",
       "             429195: [8806],\n",
       "             429207: [8848],\n",
       "             429214: [8876],\n",
       "             429220: [8895],\n",
       "             429226: [8918],\n",
       "             429227: [8921],\n",
       "             429228: [8925],\n",
       "             429229: [8932],\n",
       "             429230: [8938],\n",
       "             429239: [9021],\n",
       "             429246: [9061],\n",
       "             429255: [9105],\n",
       "             429256: [9112],\n",
       "             429261: [9135],\n",
       "             429270: [9172],\n",
       "             429281: [9219],\n",
       "             429284: [9236],\n",
       "             429293: [9283],\n",
       "             429306: [9339],\n",
       "             429309: [9355],\n",
       "             429312: [9368],\n",
       "             429315: [9374],\n",
       "             429319: [9389],\n",
       "             429324: [9406],\n",
       "             429327: [9426],\n",
       "             429329: [9434],\n",
       "             429331: [9441],\n",
       "             429333: [9451],\n",
       "             429332: [9452],\n",
       "             429336: [9462],\n",
       "             429348: [9519],\n",
       "             429350: [9526],\n",
       "             429353: [9543],\n",
       "             429354: [9547],\n",
       "             429359: [9570],\n",
       "             429368: [9624],\n",
       "             429370: [9631],\n",
       "             429375: [9656],\n",
       "             429383: [9698],\n",
       "             429392: [9727],\n",
       "             429405: [9810],\n",
       "             429407: [9821],\n",
       "             429411: [9838],\n",
       "             429412: [9841],\n",
       "             429415: [9851],\n",
       "             429419: [9875],\n",
       "             429424: [9898],\n",
       "             429427: [9911],\n",
       "             429435: [9939],\n",
       "             429437: [9952],\n",
       "             429440: [9963],\n",
       "             429453: [10029],\n",
       "             429458: [10050],\n",
       "             429457: [10052],\n",
       "             429466: [10086],\n",
       "             429470: [10113],\n",
       "             429480: [10169],\n",
       "             429484: [10195],\n",
       "             429486: [10206],\n",
       "             429497: [10254],\n",
       "             429498: [10261],\n",
       "             429505: [10299],\n",
       "             429508: [10314],\n",
       "             429512: [10341],\n",
       "             429514: [10347],\n",
       "             429516: [10357],\n",
       "             429518: [10373],\n",
       "             429531: [10415],\n",
       "             429532: [10419],\n",
       "             429537: [10446],\n",
       "             429541: [10471],\n",
       "             429548: [10495],\n",
       "             429552: [10514],\n",
       "             429556: [10531],\n",
       "             429558: [10539],\n",
       "             429559: [10545],\n",
       "             429563: [10563],\n",
       "             429568: [10581],\n",
       "             429576: [10635],\n",
       "             429578: [10642],\n",
       "             429595: [10761],\n",
       "             429602: [10789],\n",
       "             429621: [10869],\n",
       "             429624: [10884],\n",
       "             429626: [10911],\n",
       "             429631: [10921],\n",
       "             429634: [10929],\n",
       "             429635: [10934],\n",
       "             429642: [10962],\n",
       "             429655: [11020],\n",
       "             429656: [11066],\n",
       "             429667: [11111],\n",
       "             429672: [11136],\n",
       "             429676: [11173],\n",
       "             429680: [11192],\n",
       "             429681: [11200, 11201],\n",
       "             429682: [11208],\n",
       "             429685: [11218],\n",
       "             429691: [11247],\n",
       "             429695: [11272],\n",
       "             429697: [11283],\n",
       "             429698: [11286],\n",
       "             429701: [11313],\n",
       "             429704: [11323],\n",
       "             429706: [11348],\n",
       "             429710: [11364],\n",
       "             429712: [11381],\n",
       "             429724: [11414],\n",
       "             429728: [11428],\n",
       "             429734: [11455],\n",
       "             429736: [11462],\n",
       "             429738: [11468],\n",
       "             429745: [11484],\n",
       "             429798: [11700],\n",
       "             429801: [11715],\n",
       "             429805: [11734],\n",
       "             429807: [11744],\n",
       "             429811: [11763],\n",
       "             429822: [11793],\n",
       "             429824: [11821],\n",
       "             429830: [11851],\n",
       "             429833: [11866],\n",
       "             429836: [11875],\n",
       "             429840: [11900],\n",
       "             429841: [11906],\n",
       "             429843: [11914],\n",
       "             429847: [11933],\n",
       "             429851: [11947],\n",
       "             429862: [11989],\n",
       "             429864: [11995],\n",
       "             429869: [12008],\n",
       "             429881: [12045],\n",
       "             429889: [12085],\n",
       "             429896: [12114],\n",
       "             429901: [12130],\n",
       "             429907: [12156],\n",
       "             429908: [12167],\n",
       "             429909: [12172],\n",
       "             429919: [12213],\n",
       "             429924: [12226],\n",
       "             429926: [12231],\n",
       "             429928: [12240],\n",
       "             429930: [12247],\n",
       "             429932: [12255],\n",
       "             429941: [12301],\n",
       "             429943: [12312],\n",
       "             429944: [12315],\n",
       "             429945: [12317],\n",
       "             429947: [12328],\n",
       "             429950: [12339],\n",
       "             429952: [12346],\n",
       "             429953: [12348],\n",
       "             429955: [12357],\n",
       "             429958: [12373],\n",
       "             429959: [12378],\n",
       "             429965: [12402],\n",
       "             429966: [12404],\n",
       "             429979: [12489],\n",
       "             429981: [12505],\n",
       "             430016: [12700],\n",
       "             430017: [12706],\n",
       "             430030: [12774],\n",
       "             430040: [12813],\n",
       "             430042: [12822],\n",
       "             430043: [12828],\n",
       "             430045: [12837],\n",
       "             430058: [12885],\n",
       "             430063: [12912],\n",
       "             430067: [12930],\n",
       "             430074: [12957],\n",
       "             430078: [12971],\n",
       "             430082: [12997],\n",
       "             430085: [13011],\n",
       "             430091: [13036],\n",
       "             430095: [13062],\n",
       "             430113: [13150],\n",
       "             430122: [13179],\n",
       "             430124: [13190],\n",
       "             430133: [13239, 13240],\n",
       "             430142: [13284],\n",
       "             430144: [13292],\n",
       "             430147: [13305],\n",
       "             430151: [13326],\n",
       "             430152: [13333],\n",
       "             430158: [13362],\n",
       "             430162: [13379],\n",
       "             430166: [13395],\n",
       "             430170: [13411],\n",
       "             430179: [13451],\n",
       "             430182: [13467],\n",
       "             430185: [13483],\n",
       "             430194: [13515],\n",
       "             430196: [13525],\n",
       "             430199: [13538],\n",
       "             430206: [13559],\n",
       "             430208: [13572],\n",
       "             430213: [13590],\n",
       "             430222: [13647],\n",
       "             430231: [13672],\n",
       "             430232: [13679],\n",
       "             430234: [13687],\n",
       "             430236: [13694],\n",
       "             430242: [13715],\n",
       "             430244: [13723],\n",
       "             430250: [13742],\n",
       "             430251: [13746],\n",
       "             430258: [13770],\n",
       "             430260: [13785],\n",
       "             430262: [13794],\n",
       "             430270: [13831],\n",
       "             430276: [13849],\n",
       "             430278: [13853],\n",
       "             430280: [13857],\n",
       "             430281: [13861],\n",
       "             430287: [13905],\n",
       "             430288: [13914],\n",
       "             430289: [13920],\n",
       "             430298: [13940],\n",
       "             430334: [14051],\n",
       "             430348: [14091],\n",
       "             430360: [14142, 14143],\n",
       "             430361: [14153],\n",
       "             430362: [14157],\n",
       "             430363: [14162],\n",
       "             430377: [14209],\n",
       "             430379: [14217],\n",
       "             430389: [14247],\n",
       "             430392: [14258],\n",
       "             430400: [14289],\n",
       "             430401: [14295],\n",
       "             430404: [14308],\n",
       "             430412: [14326],\n",
       "             430430: [14409],\n",
       "             430440: [14446],\n",
       "             430441: [14450],\n",
       "             430443: [14458],\n",
       "             430451: [14501],\n",
       "             430457: [14520],\n",
       "             430463: [14553],\n",
       "             430465: [14569],\n",
       "             430467: [14579],\n",
       "             430477: [14636],\n",
       "             430480: [14651],\n",
       "             430482: [14671],\n",
       "             430483: [14677],\n",
       "             430486: [14688],\n",
       "             430488: [14698],\n",
       "             430493: [14723],\n",
       "             430494: [14725],\n",
       "             430500: [14749],\n",
       "             430507: [14788],\n",
       "             430508: [14790],\n",
       "             430510: [14802],\n",
       "             430524: [14859],\n",
       "             430525: [14862],\n",
       "             430527: [14871],\n",
       "             430533: [14907],\n",
       "             430534: [14909],\n",
       "             430537: [14919],\n",
       "             430540: [14937],\n",
       "             430542: [14945],\n",
       "             430544: [14951],\n",
       "             430545: [14955],\n",
       "             430554: [15014],\n",
       "             430568: [15062],\n",
       "             430574: [15082],\n",
       "             430582: [15113],\n",
       "             430591: [15167],\n",
       "             430601: [15205],\n",
       "             430604: [15213],\n",
       "             430624: [15301],\n",
       "             430625: [15305],\n",
       "             430632: [15341],\n",
       "             430634: [15352],\n",
       "             430637: [15365],\n",
       "             430638: [15369],\n",
       "             430639: [15372],\n",
       "             430644: [15397],\n",
       "             430648: [15412],\n",
       "             430649: [15417],\n",
       "             430651: [15428],\n",
       "             430653: [15443],\n",
       "             430655: [15451],\n",
       "             430657: [15460],\n",
       "             430659: [15472],\n",
       "             430668: [15510],\n",
       "             430677: [15539],\n",
       "             430678: [15545],\n",
       "             430684: [15569],\n",
       "             430689: [15587],\n",
       "             430705: [15641],\n",
       "             430708: [15653],\n",
       "             430709: [15661],\n",
       "             430715: [15683],\n",
       "             430716: [15688],\n",
       "             430722: [15714],\n",
       "             430727: [15730],\n",
       "             430730: [15747],\n",
       "             430731: [15750],\n",
       "             430736: [15772],\n",
       "             430737: [15777],\n",
       "             430739: [15790],\n",
       "             430741: [15800],\n",
       "             430748: [15833],\n",
       "             430749: [15842],\n",
       "             430750: [15845],\n",
       "             430752: [15849],\n",
       "             430759: [15879],\n",
       "             430760: [15883],\n",
       "             430761: [15888],\n",
       "             430768: [15919],\n",
       "             430770: [15928],\n",
       "             430778: [15957],\n",
       "             430785: [15983],\n",
       "             430786: [15989],\n",
       "             430788: [16000],\n",
       "             430797: [16030],\n",
       "             430807: [16065],\n",
       "             430809: [16073],\n",
       "             430811: [16079],\n",
       "             430812: [16083],\n",
       "             430813: [16089],\n",
       "             430816: [16093],\n",
       "             430817: [16099],\n",
       "             430820: [16132],\n",
       "             430827: [16163],\n",
       "             430829: [16198],\n",
       "             430830: [16203],\n",
       "             430839: [16257],\n",
       "             430842: [16269],\n",
       "             430847: [16293],\n",
       "             430848: [16306],\n",
       "             430849: [16313],\n",
       "             430852: [16327],\n",
       "             430854: [16350],\n",
       "             430864: [16401],\n",
       "             430869: [16426],\n",
       "             430872: [16440],\n",
       "             430881: [16491],\n",
       "             430890: [16528],\n",
       "             430893: [16538],\n",
       "             430896: [16549],\n",
       "             430902: [16572],\n",
       "             430905: [16581],\n",
       "             430907: [16595],\n",
       "             430912: [16612],\n",
       "             430913: [16619],\n",
       "             430925: [16674],\n",
       "             430928: [16679],\n",
       "             430932: [16707],\n",
       "             430933: [16715],\n",
       "             430943: [16754],\n",
       "             430944: [16759],\n",
       "             430950: [16796],\n",
       "             430958: [16847],\n",
       "             430969: [16894],\n",
       "             430971: [16900],\n",
       "             430977: [16923, 16924],\n",
       "             430992: [16976],\n",
       "             430994: [16995],\n",
       "             430995: [17000],\n",
       "             430997: [17011],\n",
       "             431017: [17090],\n",
       "             431022: [17117],\n",
       "             431047: [17223],\n",
       "             431051: [17235],\n",
       "             431059: [17266],\n",
       "             431061: [17275],\n",
       "             431062: [17282],\n",
       "             431065: [17300],\n",
       "             431082: [17368],\n",
       "             431083: [17379],\n",
       "             431087: [17418],\n",
       "             431094: [17449],\n",
       "             431095: [17451],\n",
       "             431096: [17457],\n",
       "             431101: [17475],\n",
       "             431113: [17540],\n",
       "             431115: [17547],\n",
       "             431116: [17554],\n",
       "             431117: [17556],\n",
       "             431124: [17593],\n",
       "             431130: [17624],\n",
       "             431133: [17644],\n",
       "             431134: [17650],\n",
       "             431138: [17675],\n",
       "             431142: [17688],\n",
       "             431146: [17712],\n",
       "             431149: [17745],\n",
       "             431151: [17757],\n",
       "             431152: [17762],\n",
       "             431159: [17788],\n",
       "             431167: [17827],\n",
       "             431175: [17859],\n",
       "             431177: [17868],\n",
       "             431178: [17871],\n",
       "             431182: [17908],\n",
       "             431184: [17915],\n",
       "             431185: [17920],\n",
       "             431189: [17934],\n",
       "             431197: [17960],\n",
       "             431216: [18017],\n",
       "             431220: [18039],\n",
       "             431225: [18078],\n",
       "             431227: [18086],\n",
       "             431230: [18108],\n",
       "             431233: [18131],\n",
       "             431237: [18147],\n",
       "             431239: [18151],\n",
       "             431242: [18159],\n",
       "             431273: [18272],\n",
       "             431280: [18291],\n",
       "             431281: [18293],\n",
       "             431288: [18322],\n",
       "             431291: [18347],\n",
       "             431297: [18372],\n",
       "             431300: [18393],\n",
       "             431301: [18397],\n",
       "             431302: [18403],\n",
       "             431304: [18413],\n",
       "             431310: [18447],\n",
       "             431311: [18453],\n",
       "             431328: [18541],\n",
       "             431329: [18543],\n",
       "             431331: [18555],\n",
       "             431335: [18571],\n",
       "             431337: [18582],\n",
       "             431342: [18595],\n",
       "             431344: [18605],\n",
       "             431353: [18643],\n",
       "             431356: [18651],\n",
       "             431358: [18657],\n",
       "             431364: [18689],\n",
       "             431365: [18695],\n",
       "             431371: [18721],\n",
       "             431378: [18750],\n",
       "             431381: [18769],\n",
       "             431384: [18785],\n",
       "             431394: [18832],\n",
       "             431404: [18883],\n",
       "             431405: [18891],\n",
       "             431410: [18917],\n",
       "             431414: [18945],\n",
       "             431415: [18948],\n",
       "             431433: [19043],\n",
       "             431436: [19052],\n",
       "             431438: [19058],\n",
       "             431443: [19083],\n",
       "             431448: [19099],\n",
       "             431449: [19102],\n",
       "             431452: [19121],\n",
       "             431453: [19123],\n",
       "             431462: [19169],\n",
       "             431467: [19190],\n",
       "             431472: [19222],\n",
       "             431474: [19233],\n",
       "             431478: [19247],\n",
       "             431480: [19257],\n",
       "             431486: [19281],\n",
       "             431488: [19287],\n",
       "             431489: [19294],\n",
       "             431490: [19299],\n",
       "             431491: [19304],\n",
       "             431497: [19335],\n",
       "             431501: [19358],\n",
       "             431512: [19388],\n",
       "             431514: [19393],\n",
       "             431515: [19398],\n",
       "             431525: [19445],\n",
       "             431535: [19508],\n",
       "             431555: [19652],\n",
       "             431559: [19672],\n",
       "             431649: [20203],\n",
       "             431652: [20224],\n",
       "             431685: [20368, 20369],\n",
       "             431689: [20390],\n",
       "             431693: [20410],\n",
       "             431698: [20421],\n",
       "             431700: [20433],\n",
       "             431702: [20441],\n",
       "             431716: [20482],\n",
       "             431717: [20485],\n",
       "             431725: [20519],\n",
       "             431727: [20522],\n",
       "             431744: [20582],\n",
       "             431746: [20589],\n",
       "             431755: [20625],\n",
       "             431757: [20633],\n",
       "             431758: [20638],\n",
       "             431759: [20644],\n",
       "             431760: [20646],\n",
       "             431765: [20663],\n",
       "             431770: [20682],\n",
       "             431773: [20689],\n",
       "             431775: [20706],\n",
       "             431776: [20711],\n",
       "             431779: [20728],\n",
       "             431784: [20740],\n",
       "             431789: [20765],\n",
       "             431801: [20797],\n",
       "             431808: [20823],\n",
       "             431813: [20854],\n",
       "             431819: [20880],\n",
       "             431822: [20888],\n",
       "             431825: [20899],\n",
       "             431828: [20910],\n",
       "             431836: [20948],\n",
       "             431842: [20972],\n",
       "             431844: [20981],\n",
       "             431846: [20991],\n",
       "             431853: [21019],\n",
       "             431858: [21039],\n",
       "             431861: [21058],\n",
       "             431863: [21064],\n",
       "             431870: [21093],\n",
       "             431877: [21117],\n",
       "             431881: [21128],\n",
       "             431882: [21131],\n",
       "             431886: [21145],\n",
       "             431890: [21155],\n",
       "             431894: [21168],\n",
       "             431895: [21171],\n",
       "             431898: [21179],\n",
       "             431899: [21181],\n",
       "             431910: [21237],\n",
       "             431926: [21298],\n",
       "             431928: [21302],\n",
       "             431939: [21344],\n",
       "             431947: [21369],\n",
       "             431951: [21383],\n",
       "             431953: [21388],\n",
       "             431954: [21392],\n",
       "             431957: [21401],\n",
       "             431958: [21406],\n",
       "             431960: [21414],\n",
       "             431961: [21419],\n",
       "             431963: [21436],\n",
       "             431970: [21464],\n",
       "             431973: [21479],\n",
       "             431974: [21486],\n",
       "             431977: [21493],\n",
       "             431989: [21565],\n",
       "             431996: [21597],\n",
       "             432002: [21622],\n",
       "             432010: [21659],\n",
       "             432011: [21663],\n",
       "             432017: [21690],\n",
       "             432018: [21692],\n",
       "             432022: [21705],\n",
       "             432023: [21709],\n",
       "             432027: [21719],\n",
       "             432029: [21726],\n",
       "             432031: [21732],\n",
       "             432035: [21744],\n",
       "             432037: [21750],\n",
       "             432038: [21752],\n",
       "             432040: [21760],\n",
       "             432043: [21774],\n",
       "             432044: [21781],\n",
       "             432048: [21792],\n",
       "             432050: [21798],\n",
       "             432055: [21819],\n",
       "             432058: [21831],\n",
       "             432063: [21859],\n",
       "             432064: [21868],\n",
       "             432067: [21889],\n",
       "             432066: [21893],\n",
       "             432071: [21912],\n",
       "             432075: [21950],\n",
       "             432077: [21968],\n",
       "             432085: [22012],\n",
       "             432104: [22092],\n",
       "             432109: [22114],\n",
       "             432114: [22137],\n",
       "             432115: [22142],\n",
       "             432116: [22146],\n",
       "             432120: [22168],\n",
       "             432122: [22177],\n",
       "             432124: [22194],\n",
       "             432125: [22197],\n",
       "             432139: [22265],\n",
       "             432144: [22296],\n",
       "             432145: [22302],\n",
       "             432146: [22318],\n",
       "             432147: [22326],\n",
       "             432155: [22373],\n",
       "             432157: [22391],\n",
       "             432163: [22443],\n",
       "             432171: [22492],\n",
       "             432179: [22533],\n",
       "             432190: [22592],\n",
       "             432193: [22602],\n",
       "             432197: [22616],\n",
       "             432212: [22672],\n",
       "             432214: [22690],\n",
       "             432217: [22729],\n",
       "             432219: [22736],\n",
       "             432224: [22757],\n",
       "             432233: [22808],\n",
       "             432241: [22841],\n",
       "             432246: [22869],\n",
       "             432248: [22876],\n",
       "             432258: [22945],\n",
       "             432261: [22955],\n",
       "             432262: [22959],\n",
       "             432263: [22962],\n",
       "             432265: [22987],\n",
       "             432284: [23093],\n",
       "             432285: [23100],\n",
       "             432286: [23108],\n",
       "             432288: [23119],\n",
       "             432291: [23135],\n",
       "             432293: [23140],\n",
       "             432297: [23168],\n",
       "             432298: [23174],\n",
       "             432299: [23185],\n",
       "             432302: [23203],\n",
       "             432303: [23210],\n",
       "             432304: [23216],\n",
       "             432307: [23239],\n",
       "             432308: [23250],\n",
       "             432315: [23279],\n",
       "             432317: [23292],\n",
       "             432319: [23315],\n",
       "             432324: [23341],\n",
       "             432331: [23380],\n",
       "             432333: [23386],\n",
       "             432339: [23418],\n",
       "             432349: [23456],\n",
       "             432353: [23469],\n",
       "             432357: [23491],\n",
       "             432358: [23494],\n",
       "             432360: [23502],\n",
       "             432366: [23527],\n",
       "             432374: [23554],\n",
       "             432385: [23592],\n",
       "             432389: [23600],\n",
       "             432397: [23623],\n",
       "             432413: [23669],\n",
       "             432415: [23675],\n",
       "             432426: [23721],\n",
       "             432431: [23740],\n",
       "             432432: [23741],\n",
       "             432433: [23750],\n",
       "             432436: [23759],\n",
       "             432443: [23783],\n",
       "             432457: [23832],\n",
       "             432463: [23858],\n",
       "             432465: [23865],\n",
       "             432466: [23872],\n",
       "             432467: [23876],\n",
       "             432468: [23882],\n",
       "             432470: [23892],\n",
       "             432474: [23913],\n",
       "             432476: [23921],\n",
       "             432480: [23932],\n",
       "             432481: [23936],\n",
       "             432486: [23961],\n",
       "             432502: [24020],\n",
       "             432503: [24022],\n",
       "             432507: [24039],\n",
       "             432525: [24100],\n",
       "             432526: [24102],\n",
       "             432527: [24108],\n",
       "             432529: [24113],\n",
       "             432532: [24125],\n",
       "             432533: [24131],\n",
       "             432534: [24134],\n",
       "             432539: [24158],\n",
       "             432541: [24165],\n",
       "             432550: [24195],\n",
       "             432553: [24205],\n",
       "             432569: [24266],\n",
       "             432573: [24282],\n",
       "             432578: [24301],\n",
       "             432582: [24318],\n",
       "             432585: [24330],\n",
       "             432587: [24339],\n",
       "             432590: [24366],\n",
       "             432589: [24370],\n",
       "             432594: [24382],\n",
       "             432595: [24389],\n",
       "             432604: [24432],\n",
       "             432609: [24451],\n",
       "             432613: [24471],\n",
       "             432615: [24479],\n",
       "             432617: [24492],\n",
       "             432620: [24502],\n",
       "             432619: [24509],\n",
       "             432622: [24515],\n",
       "             432629: [24545, 24546],\n",
       "             432632: [24556],\n",
       "             432636: [24575],\n",
       "             432637: [24582],\n",
       "             432640: [24591],\n",
       "             432644: [24605],\n",
       "             432645: [24611],\n",
       "             432646: [24614],\n",
       "             432647: [24619],\n",
       "             432648: [24628],\n",
       "             432650: [24634],\n",
       "             432652: [24644],\n",
       "             432655: [24656],\n",
       "             432656: [24661],\n",
       "             ...})"
      ]
     },
     "execution_count": 25,
     "metadata": {},
     "output_type": "execute_result"
    }
   ],
   "source": [
    "sel_verb_clause_index = dict(\n",
    "    (lex, cns) for (lex, cns) in verb_clause_index.items() if lex in verbs\n",
    ")\n",
    "sel_clause_verb"
   ]
  },
  {
   "cell_type": "code",
   "execution_count": 26,
   "metadata": {},
   "outputs": [
    {
     "name": "stdout",
     "output_type": "stream",
     "text": [
      "|         14s \tDone\n",
      "|         14s \tAll:      1380 verbs with  73710 verb occurrences in 70150 clauses\n",
      "|         14s \tSelected:   18 verbs with  16209 verb occurrences in 16052 clauses\n"
     ]
    }
   ],
   "source": [
    "utils.caption(0, \"\\tDone\")\n",
    "utils.caption(\n",
    "    0,\n",
    "    \"\\tAll:      {:>4} verbs with {:>6} verb occurrences in {} clauses\".format(\n",
    "        len(verb_clause_index), nw, len(clause_verb)\n",
    "    ),\n",
    ")\n",
    "utils.caption(\n",
    "    0,\n",
    "    \"\\tSelected: {:>4} verbs with {:>6} verb occurrences in {} clauses\".format(\n",
    "        len(sel_verb_clause_index), sel_nw, len(sel_clause_verb)\n",
    "    ),\n",
    ")"
   ]
  },
  {
   "cell_type": "code",
   "execution_count": 27,
   "metadata": {
    "lines_to_next_cell": 2
   },
   "outputs": [
    {
     "name": "stdout",
     "output_type": "stream",
     "text": [
      "|         14s \t<BR   556 occurrences of which   33 outside a predicate phrase\n",
      "|         14s \t<FH  2629 occurrences of which   59 outside a predicate phrase\n",
      "|         14s \t<LH   890 occurrences of which   10 outside a predicate phrase\n",
      "|         14s \tBR>    54 occurrences of which    3 outside a predicate phrase\n",
      "|         14s \tBW>  2570 occurrences of which   27 outside a predicate phrase\n",
      "|         14s \tCJT    85 occurrences of which    1 outside a predicate phrase\n",
      "|         14s \tCWB  1056 occurrences of which   22 outside a predicate phrase\n",
      "|         14s \tFJM   609 occurrences of which    3 outside a predicate phrase\n",
      "|         14s \tHLK  1554 occurrences of which   32 outside a predicate phrase\n",
      "|         14s \tJRD   377 occurrences of which   16 outside a predicate phrase\n",
      "|         14s \tJY>  1069 occurrences of which   32 outside a predicate phrase\n",
      "|         14s \tNF>   656 occurrences of which   53 outside a predicate phrase\n",
      "|         14s \tNPL   445 occurrences of which   11 outside a predicate phrase\n",
      "|         14s \tNTN  2017 occurrences of which   10 outside a predicate phrase\n",
      "|         14s \tNWS   159 occurrences of which    4 outside a predicate phrase\n",
      "|         14s \tPQD   303 occurrences of which   72 outside a predicate phrase\n",
      "|         14s \tQR>   883 occurrences of which   12 outside a predicate phrase\n",
      "|         14s \tSWR   297 occurrences of which    1 outside a predicate phrase\n"
     ]
    }
   ],
   "source": [
    "for verb in sorted(verbs):\n",
    "    utils.caption(\n",
    "        0,\n",
    "        \"\\t{} {:>5} occurrences of which {:>4} outside a predicate phrase\".format(\n",
    "            verb,\n",
    "            len(occs[verb]),\n",
    "            len(npoccs[verb]),\n",
    "        ),\n",
    "    )"
   ]
  },
  {
   "cell_type": "markdown",
   "metadata": {},
   "source": [
    "# 1.2 Blank sheet generation\n",
    "Generate correction sheets.\n",
    "They are CSV files. Every row corresponds to a verb occurrence.\n",
    "The fields per row are the node numbers of the clause in which the verb occurs, the node number of the verb occurrence, the text of the verb occurrence (in ETCBC transliteration, consonantal) a passage label (book, chapter, verse), and then 4 columns for each phrase in the clause:\n",
    "\n",
    "* phrase node number\n",
    "* phrase text (ETCBC transliterated consonantal)\n",
    "* original value of the `function` feature\n",
    "* corrected value of the `function` feature (generated as empty)"
   ]
  },
  {
   "cell_type": "markdown",
   "metadata": {
    "lines_to_next_cell": 2
   },
   "source": [
    "In[14]:"
   ]
  },
  {
   "cell_type": "code",
   "execution_count": 28,
   "metadata": {},
   "outputs": [
    {
     "name": "stdout",
     "output_type": "stream",
     "text": [
      "..............................................................................................\n",
      ".         14s Generating blank correction sheets ...                                         .\n",
      "..............................................................................................\n",
      "|         14s \tas /Users/werk/github/etcbc/valence/source/2021/corr_blank/{verb}.csv\n"
     ]
    }
   ],
   "source": [
    "utils.caption(4, \"Generating blank correction sheets ...\")\n",
    "sheetKind = \"corr_blank\"\n",
    "utils.caption(0, \"\\tas {}\".format(vfile(\"{verb}\", sheetKind)[1]))"
   ]
  },
  {
   "cell_type": "code",
   "execution_count": 29,
   "metadata": {},
   "outputs": [],
   "source": [
    "phrases_seen = collections.Counter()"
   ]
  },
  {
   "cell_type": "code",
   "execution_count": 30,
   "metadata": {},
   "outputs": [],
   "source": [
    "def gen_sheet(verb):\n",
    "    rows = []\n",
    "    fieldsep = \";\"\n",
    "    field_names = \"\"\"\n",
    "        clause#\n",
    "        word#\n",
    "        passage\n",
    "        link\n",
    "        verb\n",
    "        stem\n",
    "    \"\"\".strip().split()\n",
    "    max_phrases = 0\n",
    "    clauses_seen = set()\n",
    "    for wn in occs[verb]:\n",
    "        cln = L.u(wn, \"clause\")[0]\n",
    "        if cln in clauses_seen:\n",
    "            continue\n",
    "        clauses_seen.add(cln)\n",
    "        vn = L.u(wn, \"verse\")[0]\n",
    "        (bookName, ch, vs) = T.sectionFromNode(vn, lang=\"la\")\n",
    "        passage_label = \"{} {}:{}\".format(*T.sectionFromNode(vn))\n",
    "        ln = linkShebanq + (linkPassage.format(bookName, ch, vs)) + linkAppearance\n",
    "        lnx = '''\"=HYPERLINK(\"\"{}\"\"; \"\"link\"\")\"'''.format(ln)\n",
    "        vt = T.text([wn], fmt=\"text-trans-plain\")\n",
    "        vstem = F.vs.v(wn)\n",
    "        np = \"* \" if wn in npoccs[verb] else \"\"\n",
    "        row = [cln, wn, passage_label, lnx, np + vt, vstem]\n",
    "        phrases = L.d(cln, \"phrase\")\n",
    "        n_phrases = len(phrases)\n",
    "        if n_phrases > max_phrases:\n",
    "            max_phrases = n_phrases\n",
    "        for pn in phrases:\n",
    "            phrases_seen[pn] += 1\n",
    "            pt = T.text(L.d(pn, \"word\"), fmt=\"text-trans-plain\")\n",
    "            pf = F.function.v(pn)\n",
    "            pnp = np if pf in predicate_functions else \"\"\n",
    "            row.extend((pn, pnp + pt, pf, \"\"))\n",
    "        rows.append(row)\n",
    "    for i in range(max_phrases):\n",
    "        field_names.extend(\n",
    "            \"\"\"\n",
    "            phr{i}#\n",
    "            phr{i}_txt\n",
    "            phr{i}_function\n",
    "            phr{i}_corr\n",
    "        \"\"\".format(\n",
    "                i=i + 1\n",
    "            )\n",
    "            .strip()\n",
    "            .split()\n",
    "        )\n",
    "    location = vfile(verb, sheetKind)\n",
    "    if location is None:\n",
    "        return\n",
    "    (baseName, fileName) = location\n",
    "    row_file = open(fileName, \"w\")\n",
    "    row_file.write(\"{}\\n\".format(fieldsep.join(field_names)))\n",
    "    for row in rows:\n",
    "        row_file.write(\"{}\\n\".format(fieldsep.join(str(x) for x in row)))\n",
    "    row_file.close()\n",
    "    utils.caption(0, \"\\t\\tfor verb {}\".format(baseName))"
   ]
  },
  {
   "cell_type": "code",
   "execution_count": 31,
   "metadata": {},
   "outputs": [
    {
     "name": "stdout",
     "output_type": "stream",
     "text": [
      "|         14s \t\tfor verb NPL\n",
      "|         14s \t\tfor verb QRa\n",
      "|         14s \t\tfor verb BWa\n",
      "|         14s \t\tfor verb FJM\n",
      "|         14s \t\tfor verb NFa\n",
      "|         14s \t\tfor verb HLK\n",
      "|         14s \t\tfor verb JRD\n",
      "|         15s \t\tfor verb NTN\n",
      "|         15s \t\tfor verb oFH\n",
      "|         15s \t\tfor verb PQD\n",
      "|         15s \t\tfor verb NWS\n",
      "|         15s \t\tfor verb SWR\n",
      "|         15s \t\tfor verb oBR\n",
      "|         15s \t\tfor verb oLH\n",
      "|         15s \t\tfor verb JYa\n",
      "|         15s \t\tfor verb CWB\n",
      "|         15s \t\tfor verb CJT\n",
      "|         15s \t\tfor verb BRa\n"
     ]
    }
   ],
   "source": [
    "for verb in verbs:\n",
    "    gen_sheet(verb)"
   ]
  },
  {
   "cell_type": "code",
   "execution_count": 32,
   "metadata": {
    "lines_to_next_cell": 2
   },
   "outputs": [
    {
     "name": "stdout",
     "output_type": "stream",
     "text": [
      "|         15s \t52060  phrases seen 1  time(s)\n",
      "|         15s \t185    phrases seen 2  time(s)\n",
      "|         15s \t9      phrases seen 3  time(s)\n",
      "|         15s \tTotal phrases seen: 52254\n"
     ]
    }
   ],
   "source": [
    "stats = collections.Counter()\n",
    "for (p, times) in phrases_seen.items():\n",
    "    stats[times] += 1\n",
    "for (times, n) in sorted(stats.items(), key=lambda y: (-y[1], y[0])):\n",
    "    utils.caption(0, \"\\t{:<6} phrases seen {:<2} time(s)\".format(n, times))\n",
    "utils.caption(0, \"\\tTotal phrases seen: {}\".format(len(phrases_seen)))"
   ]
  },
  {
   "cell_type": "markdown",
   "metadata": {},
   "source": [
    "# 1.3 Processing corrections\n",
    "We read the filled-in correction sheets and extract the correction data out of it.\n",
    "We store the corrections in a dictionary keyed by the phrase node.\n",
    "We check whether we get multiple corrections for the same phrase."
   ]
  },
  {
   "cell_type": "markdown",
   "metadata": {
    "lines_to_next_cell": 2
   },
   "source": [
    "In[15]:"
   ]
  },
  {
   "cell_type": "code",
   "execution_count": 33,
   "metadata": {},
   "outputs": [
    {
     "name": "stdout",
     "output_type": "stream",
     "text": [
      "..............................................................................................\n",
      ".         15s Processing filled correction sheets ...                                        .\n",
      "..............................................................................................\n",
      "|         15s \tas /Users/werk/github/etcbc/valence/source/2021/corr_filled/{verb}.csv\n"
     ]
    }
   ],
   "source": [
    "utils.caption(4, \"Processing filled correction sheets ...\")\n",
    "sheetKind = \"corr_filled\"\n",
    "utils.caption(0, \"\\tas {}\".format(vfile(\"{verb}\", sheetKind)[1]))"
   ]
  },
  {
   "cell_type": "code",
   "execution_count": 34,
   "metadata": {},
   "outputs": [],
   "source": [
    "phrases_seen = collections.Counter()\n",
    "pf_corr = {}"
   ]
  },
  {
   "cell_type": "code",
   "execution_count": 35,
   "metadata": {},
   "outputs": [],
   "source": [
    "def read_corr():\n",
    "    function_values = legal_values[\"function\"]\n",
    "\n",
    "    for verb in sorted(verbs):\n",
    "        repeated = collections.defaultdict(list)\n",
    "        non_phrase = set()\n",
    "        illegal_fvalue = set()\n",
    "        nodeNumberErrors = []\n",
    "\n",
    "        location = vfile(verb, sheetKind)\n",
    "        if location is None:\n",
    "            continue\n",
    "        (baseName, fileName) = location\n",
    "        if not os.path.exists(fileName):\n",
    "            utils.caption(0, \"\\t\\tNO file for {}\".format(baseName))\n",
    "            continue\n",
    "        else:\n",
    "            utils.caption(0, \"\\t\\tverb {}\".format(baseName))\n",
    "        with open(fileName) as f:\n",
    "            for (i, line) in enumerate(f):\n",
    "                fields = line.rstrip().split(\";\")\n",
    "                cn = int(fields[0])\n",
    "                wn = int(fields[1])\n",
    "                if F.otype.v(cn) != \"clause\":\n",
    "                    nodeNumberErrors.append([i, \"{} is not a clause node\".format(cn)])\n",
    "                if F.otype.v(wn) != \"word\":\n",
    "                    nodeNumberErrors.append([i, \"{} is not a word node\".format(wn)])\n",
    "                words = set(L.d(cn, \"word\"))\n",
    "                phrases = set(L.d(cn, \"phrase\"))\n",
    "                if wn not in words:\n",
    "                    nodeNumberErrors.append(\n",
    "                        [i, \"{} is not a word of clause {}\".format(wn, cn)]\n",
    "                    )\n",
    "                for i in range(1, len(fields) // 4):\n",
    "                    (pn, pc) = (fields[2 + 4 * i], fields[2 + 4 * i + 3])\n",
    "                    if pn != \"\":\n",
    "                        pn = int(pn)\n",
    "                        if F.otype.v(pn) != \"phrase\":\n",
    "                            nodeNumberErrors.append(\n",
    "                                [i, \"{} is not a phrase node\".format(pn)]\n",
    "                            )\n",
    "                        if pn not in phrases:\n",
    "                            nodeNumberErrors.append(\n",
    "                                [i, \"{} is not a phrase of clause {}\".format(pn, cn)]\n",
    "                            )\n",
    "                        pc = pc.strip()\n",
    "                        phrases_seen[pn] += 1\n",
    "                        if pc != \"\":\n",
    "                            good = True\n",
    "                            for i in [1]:\n",
    "                                good = False\n",
    "                                if pn in pf_corr:\n",
    "                                    repeated[pn] += pc\n",
    "                                    continue\n",
    "                                if pc not in function_values:\n",
    "                                    illegal_fvalue.add(pc)\n",
    "                                    continue\n",
    "                                good = True\n",
    "                            if good:\n",
    "                                pf_corr[pn] = pc\n",
    "\n",
    "        utils.caption(\n",
    "            0,\n",
    "            \"\\t{}: Found {:>5} corrections in {}\".format(verb, len(pf_corr), fileName),\n",
    "        )\n",
    "        if len(nodeNumberErrors):\n",
    "            for (i, msg) in nodeNumberErrors:\n",
    "                utils.caption(0, \"ERROR: Line {:>3}: {}\".format(i + 1, msg))\n",
    "        else:\n",
    "            utils.caption(0, \"\\tOK: node numbers in sheet are consistent\")\n",
    "        if len(repeated):\n",
    "            utils.caption(0, \"ERROR: Some phrases have been corrected multiple times!\")\n",
    "            for x in sorted(repeated):\n",
    "                utils.caption(0, \"\\t{:>6}: {}\".format(x, \", \".join(repeated[x])))\n",
    "        else:\n",
    "            utils.caption(\n",
    "                0, \"\\tOK: Corrected phrases did not receive multiple corrections\"\n",
    "            )\n",
    "        if len(non_phrase):\n",
    "            utils.caption(\n",
    "                0,\n",
    "                \"ERROR: Corrections have been applied to non-phrase nodes: {}\".format(\n",
    "                    \",\".join(non_phrase)\n",
    "                ),\n",
    "            )\n",
    "        else:\n",
    "            utils.caption(0, \"\\tOK: all corrected nodes where phrase nodes\")\n",
    "        if len(illegal_fvalue):\n",
    "            utils.caption(\n",
    "                0, \"ERROR: Some corrections supply illegal values for phrase function!\"\n",
    "            )\n",
    "            utils.caption(0, \"\\t`{}`\".format(\"`, `\".join(illegal_fvalue)))\n",
    "        else:\n",
    "            utils.caption(0, \"\\tOK: all corrected values are legal\")\n",
    "    utils.caption(\n",
    "        0, \"\\tFound {} corrections in the phrase function\".format(len(pf_corr))\n",
    "    )"
   ]
  },
  {
   "cell_type": "code",
   "execution_count": 36,
   "metadata": {},
   "outputs": [
    {
     "name": "stdout",
     "output_type": "stream",
     "text": [
      "|         15s \t\tNO file for oBR\n",
      "|         15s \t\tNO file for oFH\n",
      "|         15s \t\tNO file for oLH\n",
      "|         15s \t\tNO file for BRa\n",
      "|         15s \t\tNO file for BWa\n",
      "|         15s \t\tNO file for CJT\n",
      "|         15s \t\tNO file for CWB\n",
      "|         15s \t\tNO file for FJM\n",
      "|         15s \t\tNO file for HLK\n",
      "|         15s \t\tNO file for JRD\n",
      "|         15s \t\tNO file for JYa\n",
      "|         15s \t\tNO file for NFa\n",
      "|         15s \t\tNO file for NPL\n",
      "|         15s \t\tNO file for NTN\n",
      "|         15s \t\tNO file for NWS\n",
      "|         15s \t\tNO file for PQD\n",
      "|         15s \t\tNO file for QRa\n",
      "|         15s \t\tNO file for SWR\n",
      "|         15s \tFound 0 corrections in the phrase function\n"
     ]
    }
   ],
   "source": [
    "read_corr()"
   ]
  },
  {
   "cell_type": "code",
   "execution_count": 37,
   "metadata": {
    "lines_to_next_cell": 2
   },
   "outputs": [
    {
     "name": "stdout",
     "output_type": "stream",
     "text": [
      "|         15s \tTotal phrases seen: 0\n"
     ]
    }
   ],
   "source": [
    "stats = collections.Counter()\n",
    "for (p, times) in phrases_seen.items():\n",
    "    stats[times] += 1\n",
    "for (times, n) in sorted(stats.items(), key=lambda y: (-y[1], y[0])):\n",
    "    utils.caption(0, \"\\t{:<6} phrases seen {:<2} time(s)\".format(n, times))\n",
    "utils.caption(0, \"\\tTotal phrases seen: {}\".format(len(phrases_seen)))"
   ]
  },
  {
   "cell_type": "markdown",
   "metadata": {},
   "source": [
    "# 2. Enrichment workflow\n",
    "\n",
    "We create blank sheets for new feature assignments, based on the corrected data."
   ]
  },
  {
   "cell_type": "markdown",
   "metadata": {
    "lines_to_next_cell": 2
   },
   "source": [
    "In[16]:"
   ]
  },
  {
   "cell_type": "code",
   "execution_count": 38,
   "metadata": {
    "lines_to_next_cell": 2
   },
   "outputs": [
    {
     "name": "stdout",
     "output_type": "stream",
     "text": [
      "..............................................................................................\n",
      ".         15s 6 Enrich field specifications OK                                               .\n",
      "..............................................................................................\n",
      "|         15s \tgrammatical has possible values\n",
      "|         15s \t\tindirect_object\n",
      "|         15s \t\tdirect_object\n",
      "|         15s \t\t*\n",
      "|         15s \t\tK_object\n",
      "|         15s \t\tNA\n",
      "|         15s \t\tprincipal_direct_object\n",
      "|         15s \t\tL_object\n",
      "|         15s \t\tinfinitive_object\n",
      "|         15s \t\tsubject\n",
      "|         15s \t\tNP_direct_object\n",
      "|         15s \tlexical has possible values\n",
      "|         15s \t\tlocation\n",
      "|         15s \t\ttime\n",
      "|         15s \toriginal has possible values\n",
      "|         15s \t\tindirect_object\n",
      "|         15s \t\tdirect_object\n",
      "|         15s \t\t*\n",
      "|         15s \t\tK_object\n",
      "|         15s \t\tNA\n",
      "|         15s \t\tprincipal_direct_object\n",
      "|         15s \t\tL_object\n",
      "|         15s \t\tinfinitive_object\n",
      "|         15s \t\tsubject\n",
      "|         15s \t\tNP_direct_object\n",
      "|         15s \tpredication has possible values\n",
      "|         15s \t\tcopula\n",
      "|         15s \t\tNA\n",
      "|         15s \t\tregular\n",
      "|         15s \tsemantic has possible values\n",
      "|         15s \t\tbenefactive\n",
      "|         15s \t\tinstrument\n",
      "|         15s \t\tmanner\n",
      "|         15s \t\tlocation\n",
      "|         15s \t\ttime\n",
      "|         15s \tvalence has possible values\n",
      "|         15s \t\tcore\n",
      "|         15s \t\tcomplement\n",
      "|         15s \t\tadjunct\n"
     ]
    }
   ],
   "source": [
    "enrich_field_spec = \"\"\"\n",
    "valence\n",
    "    adjunct\n",
    "    complement\n",
    "    core\n",
    "\n",
    "predication\n",
    "    NA\n",
    "    regular\n",
    "    copula\n",
    "\n",
    "grammatical\n",
    "    NA\n",
    "    subject\n",
    "    principal_direct_object\n",
    "    direct_object\n",
    "    NP_direct_object\n",
    "    indirect_object\n",
    "    L_object\n",
    "    K_object\n",
    "    infinitive_object\n",
    "    *\n",
    "\n",
    "original\n",
    "    NA\n",
    "    subject\n",
    "    principal_direct_object\n",
    "    direct_object\n",
    "    NP_direct_object\n",
    "    indirect_object\n",
    "    L_object\n",
    "    K_object\n",
    "    infinitive_object\n",
    "    *\n",
    "\n",
    "lexical\n",
    "    location\n",
    "    time\n",
    "\n",
    "semantic\n",
    "    benefactive\n",
    "    time\n",
    "    location\n",
    "    instrument\n",
    "    manner\n",
    "\"\"\"\n",
    "enrich_fields = collections.OrderedDict()\n",
    "cur_e = None\n",
    "for line in enrich_field_spec.strip().split(\"\\n\"):\n",
    "    if line.startswith(\" \"):\n",
    "        enrich_fields.setdefault(cur_e, set()).add(line.strip())\n",
    "    else:\n",
    "        cur_e = line.strip()\n",
    "nef = len(enrich_fields)\n",
    "if None in enrich_fields:\n",
    "    utils.caption(0, \"ERROR: Invalid enrich field specification\")\n",
    "else:\n",
    "    utils.caption(4, \"{} Enrich field specifications OK\".format(nef))\n",
    "for (ef, fields) in sorted(enrich_fields.items()):\n",
    "    utils.caption(0, \"\\t{} has possible values\".format(ef))\n",
    "    for field in fields:\n",
    "        utils.caption(0, \"\\t\\t{}\".format(field))"
   ]
  },
  {
   "cell_type": "markdown",
   "metadata": {
    "lines_to_next_cell": 2
   },
   "source": [
    "In[17]:"
   ]
  },
  {
   "cell_type": "code",
   "execution_count": 39,
   "metadata": {
    "lines_to_next_cell": 2
   },
   "outputs": [],
   "source": [
    "enrich_baseline_rules = dict(\n",
    "    phrase=\"\"\"Adju\tAdjunct\tadjunct\tNA\tNA\t\t\t\n",
    "Cmpl\tComplement\tcomplement\tNA\t*\t\t\t\n",
    "Conj\tConjunction\tNA\tNA\tNA\t\tNA\tNA\n",
    "EPPr\tEnclitic personal pronoun\tNA\tcopula\tNA\t\t\t\n",
    "ExsS\tExistence with subject suffix\tcore\tcopula\tsubject\t\t\t\n",
    "Exst\tExistence\tcore\tcopula\tNA\t\t\t\n",
    "Frnt\tFronted element\tNA\tNA\tNA\t\tNA\tNA\n",
    "Intj\tInterjection\tNA\tNA\tNA\t\tNA\tNA\n",
    "IntS\tInterjection with subject suffix\tcore\tNA\tsubject\t\t\t\n",
    "Loca\tLocative\tadjunct\tNA\tNA\t\tlocation\tlocation\n",
    "Modi\tModifier\tNA\tNA\tNA\t\tNA\tNA\n",
    "ModS\tModifier with subject suffix\tcore\tNA\tsubject\t\t\t\n",
    "NCop\tNegative copula\tcore\tcopula\tNA\t\t\t\n",
    "NCoS\tNegative copula with subject suffix\tcore\tcopula\tsubject\t\t\t\n",
    "Nega\tNegation\tNA\tNA\tNA\t\tNA\tNA\n",
    "Objc\tObject\tcomplement\tNA\tdirect_object\t\t\t\n",
    "PrAd\tPredicative adjunct\tadjunct\tNA\tNA\t\t\t\n",
    "PrcS\tPredicate complement with subject suffix\tcore\tregular\tsubject\t\t\t\n",
    "PreC\tPredicate complement\tcore\tregular\tNA\t\t\t\n",
    "Pred\tPredicate\tcore\tregular\tNA\t\t\t\n",
    "PreO\tPredicate with object suffix\tcore\tregular\tdirect_object\t\t\t\n",
    "PreS\tPredicate with subject suffix\tcore\tregular\tsubject\t\t\t\n",
    "PtcO\tParticiple with object suffix\tcore\tregular\tdirect_object\t\t\t\n",
    "Ques\tQuestion\tNA\tNA\tNA\t\tNA\tNA\n",
    "Rela\tRelative\tNA\tNA\tNA\t\tNA\tNA\n",
    "Subj\tSubject\tcore\tNA\tsubject\t\t\t\n",
    "Supp\tSupplementary constituent\tadjunct\tNA\tNA\t\t\tbenefactive\n",
    "Time\tTime reference\tadjunct\tNA\tNA\t\ttime\ttime\n",
    "Unkn\tUnknown\tNA\tNA\tNA\t\tNA\tNA\n",
    "Voct\tVocative\tNA\tNA\tNA\t\tNA\tNA\"\"\",  # noqa W291\n",
    "    clause=\"\"\"Objc\tObject\tcomplement\tNA\tdirect_object\t\t\t\n",
    "InfC\tInfinitive Construct clause\tNA\tNA\t\t\t\t\"\"\",  # noqa W291\n",
    ")"
   ]
  },
  {
   "cell_type": "markdown",
   "metadata": {
    "lines_to_next_cell": 2
   },
   "source": [
    "In[18]:"
   ]
  },
  {
   "cell_type": "code",
   "execution_count": 40,
   "metadata": {},
   "outputs": [
    {
     "name": "stdout",
     "output_type": "stream",
     "text": [
      "..............................................................................................\n",
      ".         15s \tChecking enrich baseline rules                                                .\n",
      "..............................................................................................\n"
     ]
    }
   ],
   "source": [
    "utils.caption(4, \"\\tChecking enrich baseline rules\")\n",
    "transform = collections.OrderedDict(((\"phrase\", {}), (\"clause\", {})))\n",
    "errors = 0\n",
    "good = 0"
   ]
  },
  {
   "cell_type": "code",
   "execution_count": 41,
   "metadata": {
    "lines_to_next_cell": 2
   },
   "outputs": [
    {
     "name": "stdout",
     "output_type": "stream",
     "text": [
      "|         15s \tEnrich baseline rules are OK (204 good)\n"
     ]
    }
   ],
   "source": [
    "for kind in (\"phrase\", \"clause\"):\n",
    "    for line in enrich_baseline_rules[kind].split(\"\\n\"):\n",
    "        x = line.split(\"\\t\")\n",
    "        nefields = len(x) - 2\n",
    "        if len(x) - 2 != nef:\n",
    "            utils.caption(\n",
    "                0,\n",
    "                \"ERROR: Wrong number of fields ({} must be {}) in {}:\\n{}\".format(\n",
    "                    nefields, nef, kind, line\n",
    "                ),\n",
    "            )\n",
    "            errors += 1\n",
    "        transform[kind][x[0]] = dict(zip(enrich_fields, x[2:]))\n",
    "    for e in error_values[\"function\"]:\n",
    "        transform[kind][e] = dict(zip(enrich_fields, [\"\"] * nef))\n",
    "\n",
    "    for f in transform[kind]:\n",
    "        for e in enrich_fields:\n",
    "            val = transform[kind][f][e]\n",
    "            if val != \"\" and val != \"NA\" and val not in enrich_fields[e]:\n",
    "                utils.caption(\n",
    "                    0,\n",
    "                    'ERROR: Defaults for `{}` ({}): wrong `{}` value: \"{}\"'.format(\n",
    "                        f, kind, e, val\n",
    "                    ),\n",
    "                )\n",
    "                errors += 1\n",
    "            else:\n",
    "                good += 1\n",
    "if errors:\n",
    "    utils.caption(0, \"ERROR: There were {} errors ({} good)\".format(errors, good))\n",
    "else:\n",
    "    utils.caption(0, \"\\tEnrich baseline rules are OK ({} good)\".format(good))"
   ]
  },
  {
   "cell_type": "markdown",
   "metadata": {},
   "source": [
    "Let us pretty-print the baseline rules of enrichment for easier reference."
   ]
  },
  {
   "cell_type": "markdown",
   "metadata": {
    "lines_to_next_cell": 2
   },
   "source": [
    "In[19]:"
   ]
  },
  {
   "cell_type": "code",
   "execution_count": 42,
   "metadata": {
    "lines_to_next_cell": 2
   },
   "outputs": [
    {
     "name": "stdout",
     "output_type": "stream",
     "text": [
      "func    : valence        predication    grammatical    original       lexical        semantic       \n",
      "[phrase]\n",
      "Adju    : adjunct        NA             NA                                                          \n",
      "BoundErr:                                                                                           \n",
      "Cmpl    : complement     NA             *                                                           \n",
      "Conj    : NA             NA             NA                            NA             NA             \n",
      "EPPr    : NA             copula         NA                                                          \n",
      "ExsS    : core           copula         subject                                                     \n",
      "Exst    : core           copula         NA                                                          \n",
      "Frnt    : NA             NA             NA                            NA             NA             \n",
      "IntS    : core           NA             subject                                                     \n",
      "Intj    : NA             NA             NA                            NA             NA             \n",
      "Loca    : adjunct        NA             NA                            location       location       \n",
      "ModS    : core           NA             subject                                                     \n",
      "Modi    : NA             NA             NA                            NA             NA             \n",
      "NCoS    : core           copula         subject                                                     \n",
      "NCop    : core           copula         NA                                                          \n",
      "Nega    : NA             NA             NA                            NA             NA             \n",
      "Objc    : complement     NA             direct_object                                               \n",
      "PrAd    : adjunct        NA             NA                                                          \n",
      "PrcS    : core           regular        subject                                                     \n",
      "PreC    : core           regular        NA                                                          \n",
      "PreO    : core           regular        direct_object                                               \n",
      "PreS    : core           regular        subject                                                     \n",
      "Pred    : core           regular        NA                                                          \n",
      "PtcO    : core           regular        direct_object                                               \n",
      "Ques    : NA             NA             NA                            NA             NA             \n",
      "Rela    : NA             NA             NA                            NA             NA             \n",
      "Subj    : core           NA             subject                                                     \n",
      "Supp    : adjunct        NA             NA                                           benefactive    \n",
      "Time    : adjunct        NA             NA                            time           time           \n",
      "Unkn    : NA             NA             NA                            NA             NA             \n",
      "Voct    : NA             NA             NA                            NA             NA             \n",
      "[clause]\n",
      "BoundErr:                                                                                           \n",
      "InfC    : NA             NA                                                                         \n",
      "Objc    : complement     NA             direct_object                                               \n"
     ]
    }
   ],
   "source": [
    "if not SCRIPT:\n",
    "    ltpl = \"{:<8}: \" + (\"{:<15}\" * nef)\n",
    "    utils.caption(0, ltpl.format(\"func\", *enrich_fields), continuation=True)\n",
    "    for kind in transform:\n",
    "        utils.caption(0, \"[{}]\".format(kind), continuation=True)\n",
    "        for f in sorted(transform[kind]):\n",
    "            sfs = transform[kind][f]\n",
    "            utils.caption(\n",
    "                0, ltpl.format(f, *[sfs[sf] for sf in enrich_fields]), continuation=True\n",
    "            )"
   ]
  },
  {
   "cell_type": "markdown",
   "metadata": {},
   "source": [
    "## 2.1 Enrichment logic\n",
    "\n",
    "We apply enrichment logic to *all* verbs, not only to selected verbs.\n",
    "But only selected verbs can receive manual enrichment enhancements.\n",
    "\n",
    "For some verbs, selected or not, additional logic specific to that verb can be specified."
   ]
  },
  {
   "cell_type": "markdown",
   "metadata": {},
   "source": [
    "## 2.2 Direct objects\n",
    "\n",
    "We have to do some work to identify (multiple) direct objects and indirect objects.\n",
    "\n",
    "[More on direct objects](https://github.com/ETCBC/valence/wiki/Discussion#direct-objects)"
   ]
  },
  {
   "cell_type": "markdown",
   "metadata": {
    "lines_to_next_cell": 2
   },
   "source": [
    "In[20]:"
   ]
  },
  {
   "cell_type": "code",
   "execution_count": 43,
   "metadata": {},
   "outputs": [],
   "source": [
    "objectfuncs = set(\n",
    "    \"\"\"\n",
    "Objc PreO PtcO\n",
    "\"\"\".strip().split()\n",
    ")"
   ]
  },
  {
   "cell_type": "code",
   "execution_count": 44,
   "metadata": {},
   "outputs": [],
   "source": [
    "cmpl_as_obj_preps = set(\n",
    "    \"\"\"\n",
    "K L\n",
    "\"\"\".strip().split()\n",
    ")"
   ]
  },
  {
   "cell_type": "code",
   "execution_count": 45,
   "metadata": {
    "lines_to_next_cell": 2
   },
   "outputs": [],
   "source": [
    "no_prs = set(\n",
    "    \"\"\"\n",
    "absent n/a\n",
    "\"\"\".strip().split()\n",
    ")"
   ]
  },
  {
   "cell_type": "markdown",
   "metadata": {
    "lines_to_next_cell": 2
   },
   "source": [
    "In[21]:"
   ]
  },
  {
   "cell_type": "code",
   "execution_count": 46,
   "metadata": {
    "lines_to_next_cell": 2
   },
   "outputs": [],
   "source": [
    "body_parts = set(\n",
    "    \"\"\"\n",
    ">NP/ >P/ >PSJM/ >YB</ >ZN/\n",
    "<JN/ <NQ/ <RP/ <YM/ <YM==/\n",
    "BHN/ BHWN/ BVN/\n",
    "CD=/ CD===/ CKM/ CN/\n",
    "DD/\n",
    "GRGRT/ GRM/ GRWN/ GW/ GW=/ GWJH/ GWPH/ GXWN/\n",
    "FPH/\n",
    "JD/ JRK/ JRKH/\n",
    "KRF/ KSL=/ KTP/\n",
    "L</ LCN/ LCWN/ LXJ/\n",
    "M<H/ MPRQT/ MTL<WT/ MTNJM/ MYX/\n",
    "NBLH=/\n",
    "P<M/ PGR/ PH/ PM/ PNH/ PT=/\n",
    "QRSL/\n",
    "R>C/ RGL/\n",
    "XDH/ XLY/ XMC=/ XRY/\n",
    "YW>R/\n",
    "ZRW</\n",
    "\"\"\".strip().split()\n",
    ")"
   ]
  },
  {
   "cell_type": "markdown",
   "metadata": {
    "lines_to_next_cell": 2
   },
   "source": [
    "In[24]:"
   ]
  },
  {
   "cell_type": "code",
   "execution_count": 47,
   "metadata": {},
   "outputs": [
    {
     "name": "stdout",
     "output_type": "stream",
     "text": [
      "..............................................................................................\n",
      ".         15s Finding direct objects and determining the principal one                       .\n",
      "..............................................................................................\n"
     ]
    }
   ],
   "source": [
    "utils.caption(4, \"Finding direct objects and determining the principal one\")\n",
    "clause_objects = collections.defaultdict(set)\n",
    "objects = collections.defaultdict(set)\n",
    "objects_count = collections.defaultdict(collections.Counter)\n",
    "object_kinds = (\n",
    "    \"principal\",\n",
    "    \"direct\",\n",
    "    \"NP\",\n",
    "    \"L\",\n",
    "    \"K\",\n",
    "    \"clause\",\n",
    "    \"infinitive\",\n",
    ")"
   ]
  },
  {
   "cell_type": "code",
   "execution_count": 48,
   "metadata": {},
   "outputs": [],
   "source": [
    "def is_marked(phr):\n",
    "    # simple criterion for determining whether a direct object is marked:\n",
    "    # has it the object marker somewhere?\n",
    "    words = L.d(p, \"word\")\n",
    "    has_et = False\n",
    "    for w in words:\n",
    "        if F.lex.v(w) == \">T\":\n",
    "            has_et = True\n",
    "            break\n",
    "    return has_et"
   ]
  },
  {
   "cell_type": "code",
   "execution_count": 49,
   "metadata": {},
   "outputs": [],
   "source": [
    "for c in clause_verb:\n",
    "    these_objects = collections.defaultdict(set)\n",
    "    direct_objects_cat = collections.defaultdict(set)\n",
    "\n",
    "    for p in L.d(c, \"phrase\"):\n",
    "        pf = pf_corr.get(\n",
    "            p, F.function.v(p)\n",
    "        )  # NB we take the corrected value for phrase function if there is one\n",
    "        if pf in objectfuncs:\n",
    "            direct_objects_cat[\"p_\" + pf].add(p)\n",
    "            these_objects[\"direct\"].add(p)\n",
    "        elif pf == \"Cmpl\":\n",
    "            pwords = L.d(p, \"word\")\n",
    "            w1 = pwords[0]\n",
    "            w1l = F.lex.v(w1)\n",
    "            w2l = F.lex.v(pwords[1]) if len(pwords) > 1 else None\n",
    "            if (\n",
    "                w1l in cmpl_as_obj_preps\n",
    "                and F.prs.v(w1) in no_prs\n",
    "                and not (w1l == \"L\" and w2l in body_parts)\n",
    "            ):\n",
    "                if w1l == \"K\":\n",
    "                    these_objects[\"K\"].add(p)\n",
    "                elif w1l == \"L\":\n",
    "                    these_objects[\"L\"].add(p)\n",
    "\n",
    "    # find clause objects\n",
    "    for ac in L.d(L.u(c, \"sentence\")[0], \"clause\"):\n",
    "        mothers = list(E.mother.f(ac))\n",
    "        if not (mothers and mothers[0] == c):\n",
    "            continue\n",
    "        cr = F.rela.v(ac)\n",
    "        ct = F.typ.v(ac)\n",
    "        if cr in {\"Objc\"} or ct in {\"InfC\"}:\n",
    "            clause_objects[c].add(ac)\n",
    "            if cr in {\"Objc\"}:\n",
    "                label = cr\n",
    "                direct_objects_cat[\"c_\" + label].add(ac)\n",
    "                these_objects[\"direct\"].add(ac)\n",
    "                these_objects[\"clause\"].add(ac)\n",
    "            elif ct in {\"InfC\"}:\n",
    "                if F.lex.v(L.d(ac, \"word\")[0]) == \"L\":\n",
    "                    these_objects[\"infinitive\"].add(ac)\n",
    "        else:\n",
    "            continue\n",
    "\n",
    "    # order the objects in the natural ordering\n",
    "    direct_objects_order = N.sortNodes(these_objects.get(\"direct\", set()))\n",
    "    nobjects = len(direct_objects_order)\n",
    "\n",
    "    # compute the principal object\n",
    "    principal_object = None\n",
    "\n",
    "    for x in [1]:\n",
    "        # just one object\n",
    "        if nobjects == 1:\n",
    "            # we have chosen not to mark a principal object if there is only one object\n",
    "            # the alternative is to mark it if it is a phrase. Uncomment the next 2 lines if you want this\n",
    "            # theobject = list(dobjects_set)[0]\n",
    "            # if F.otype.v(theobject) == 'phrase': principal_object = theobject\n",
    "            break\n",
    "        # rule 1: suffixes and promoted objects\n",
    "        principal_candidates = direct_objects_cat.get(\n",
    "            \"p_PreO\", set()\n",
    "        ) | direct_objects_cat.get(\"p_PtcO\", set())\n",
    "        if len(principal_candidates) != 0:\n",
    "            principal_object = N.sortNodes(principal_candidates)[0]\n",
    "            break\n",
    "        principal_candidates = direct_objects_cat.get(\"p_Objc\", set())\n",
    "        if len(principal_candidates) != 0:\n",
    "            if len(principal_candidates) == 1:\n",
    "                principal_object = list(principal_candidates)[0]\n",
    "                break\n",
    "            objects_marked = set()\n",
    "            objects_unmarked = set()\n",
    "            for p in principal_candidates:\n",
    "                if is_marked(p):\n",
    "                    objects_marked.add(p)\n",
    "                else:\n",
    "                    objects_unmarked.add(p)\n",
    "            if len(objects_marked) != 0:\n",
    "                principal_object = N.sortNodes(objects_marked)[0]\n",
    "                break\n",
    "            if len(objects_unmarked) != 0:\n",
    "                principal_object = N.sortNodes(objects_unmarked)[0]\n",
    "                break\n",
    "    if principal_object is not None:\n",
    "        these_objects[\"principal\"].add(principal_object)\n",
    "    if len(these_objects[\"infinitive\"]) and not len(these_objects[\"direct\"]):\n",
    "        # we do not mark an infinitive object if there is no proper direct object around\n",
    "        these_objects[\"infinitive\"] = set()\n",
    "    if len(these_objects[\"principal\"]):\n",
    "        these_objects[\"direct\"] -= these_objects[\"principal\"]\n",
    "        for x in these_objects[\"direct\"] - these_objects[\"clause\"]:\n",
    "            # the NP objects are the non-principal phrase like direct objects\n",
    "            these_objects[\"NP\"].add(x)\n",
    "        these_objects[\"direct\"] -= these_objects[\"NP\"]\n",
    "    if (\n",
    "        len(these_objects[\"principal\"]) == 0\n",
    "        and len(these_objects[\"direct\"])\n",
    "        and (\n",
    "            len(these_objects[\"NP\"])\n",
    "            or len(these_objects[\"L\"])\n",
    "            or len(these_objects[\"K\"])\n",
    "            or len(these_objects[\"infinitive\"])\n",
    "        )\n",
    "    ):  # promote the direct objects to principal direct objects\n",
    "        these_objects[\"principal\"] = these_objects[\"direct\"]\n",
    "        these_objects[\"direct\"] = set()\n",
    "\n",
    "    for kind in object_kinds:\n",
    "        n = len(these_objects.get(kind, set()))\n",
    "        objects_count[kind][n] += 1\n",
    "        if n:\n",
    "            objects[kind] |= these_objects[kind]"
   ]
  },
  {
   "cell_type": "code",
   "execution_count": 50,
   "metadata": {},
   "outputs": [
    {
     "name": "stdout",
     "output_type": "stream",
     "text": [
      "|         18s \tDone\n"
     ]
    }
   ],
   "source": [
    "utils.caption(0, \"\\tDone\")"
   ]
  },
  {
   "cell_type": "code",
   "execution_count": 51,
   "metadata": {
    "lines_to_next_cell": 2
   },
   "outputs": [
    {
     "name": "stdout",
     "output_type": "stream",
     "text": [
      "|         18s \t 3649 clauses with  1  principal object\n",
      "|         18s \t66501 clauses with  0  principal objects\n",
      "|         18s \t 3649 clauses with  a  principal object\n",
      "|         18s \t23694 clauses with  1     direct object\n",
      "|         18s \t46456 clauses with  0     direct objects\n",
      "|         18s \t23694 clauses with  a     direct object\n",
      "|         18s \t 1001 clauses with  1         NP object\n",
      "|         18s \t69149 clauses with  0         NP objects\n",
      "|         18s \t 1001 clauses with  a         NP object\n",
      "|         18s \t   33 clauses with  2          L objects\n",
      "|         18s \t 3827 clauses with  1          L object\n",
      "|         18s \t66290 clauses with  0          L objects\n",
      "|         18s \t 3860 clauses with  a          L object\n",
      "|         18s \t  115 clauses with  1          K object\n",
      "|         18s \t70035 clauses with  0          K objects\n",
      "|         18s \t  115 clauses with  a          K object\n",
      "|         18s \t 1310 clauses with  1     clause object\n",
      "|         18s \t68840 clauses with  0     clause objects\n",
      "|         18s \t 1310 clauses with  a     clause object\n",
      "|         18s \t    1 clauses with  3 infinitive objects\n",
      "|         18s \t   18 clauses with  2 infinitive objects\n",
      "|         18s \t 1196 clauses with  1 infinitive object\n",
      "|         18s \t68935 clauses with  0 infinitive objects\n",
      "|         18s \t 1215 clauses with  a infinitive object\n"
     ]
    }
   ],
   "source": [
    "for kind in object_kinds:\n",
    "    total = 0\n",
    "    for (count, n) in sorted(objects_count[kind].items(), key=lambda y: -y[0]):\n",
    "        if count:\n",
    "            total += n\n",
    "        utils.caption(\n",
    "            0,\n",
    "            \"\\t{:>5} clauses with {:>2} {:>10} object{}\".format(\n",
    "                n, count, kind, \"s\" if count != 1 else \"\"\n",
    "            ),\n",
    "        )\n",
    "    utils.caption(\n",
    "        0, \"\\t{:>5} clauses with {:>2} {:>10} object\".format(total, \"a\", kind)\n",
    "    )"
   ]
  },
  {
   "cell_type": "markdown",
   "metadata": {},
   "source": [
    "## 2.3 Indirect objects\n",
    "\n",
    "The BHSA database has not feature that marks indirect objects.\n",
    "We will use computation to determine whether a complement is an indirect object or a locative.\n",
    "This computation is just an approximation.\n",
    "\n",
    "[More on indirect objects](https://github.com/ETCBC/valence/wiki/Discussion#indirect-objects)\n",
    "\n",
    "### The decision\n",
    "\n",
    "We take a decision as follows.\n",
    "Based on indicators $ind$ and $loc$ that are proxies for the degree in which the complement is an indirect object or a locative, we arrive at a decision $L$ (complement is *locative*) or $I$ (complement is *indirect object*) or $C$ (complement is neither *locative* nor *indirect object*) as follows:\n",
    "\n",
    "(1) $ loc > 0 \\wedge ind = 0 \\Rightarrow L $\n",
    "\n",
    "(2) $ loc = 0 \\wedge ind > 0 \\Rightarrow I $\n",
    "\n",
    "(3) $ loc > 0 \\wedge ind > 0 \\wedge\\ loc - 1 > ind \\Rightarrow L$\n",
    "\n",
    "(4) $ loc > 0 \\wedge ind > 0 \\wedge\\ loc + 1 < ind \\Rightarrow I$\n",
    "\n",
    "(5) $ loc > 0 \\wedge ind > 0 \\wedge |ind - loc| <= 1 \\Rightarrow C$"
   ]
  },
  {
   "cell_type": "markdown",
   "metadata": {
    "lines_to_next_cell": 2
   },
   "source": [
    "In[25]:"
   ]
  },
  {
   "cell_type": "code",
   "execution_count": 52,
   "metadata": {},
   "outputs": [],
   "source": [
    "complfuncs = set(\n",
    "    \"\"\"\n",
    "Cmpl PreC\n",
    "\"\"\".strip().split()\n",
    ")"
   ]
  },
  {
   "cell_type": "code",
   "execution_count": 53,
   "metadata": {
    "lines_to_next_cell": 2
   },
   "outputs": [],
   "source": [
    "cmpl_as_iobj_preps = set(\n",
    "    \"\"\"\n",
    "L >L\n",
    "\"\"\".strip().split()\n",
    ")"
   ]
  },
  {
   "cell_type": "markdown",
   "metadata": {
    "lines_to_next_cell": 2
   },
   "source": [
    "In[26]:"
   ]
  },
  {
   "cell_type": "code",
   "execution_count": 54,
   "metadata": {},
   "outputs": [],
   "source": [
    "locative_lexemes = set(\n",
    "    \"\"\"\n",
    ">RY/ >YL/ >XR/\n",
    "<BR/ <BRH/ <BWR/ <C==/ <JR/ <L=/ <LJ=/ <LJH/ <LJL/ <MD=/ <MDH/ <MH/ <MQ/ <MQ===/ <QB/\n",
    "BJN/ BJT/\n",
    "CM CMJM/ CMC/ C<R/\n",
    "DRK/\n",
    "FDH/\n",
    "HR/\n",
    "JM/ JRDN/ JRWCLM/ JFR>L/\n",
    "MDBR/ MW<D/ MWL/ MZBX/ MYRJM/ MQWM/ MR>CWT/ MSB/ MSBH/ MVH==/\n",
    "QDM/\n",
    "SBJB/\n",
    "TJMN/ TXT/ TXWT/\n",
    "YPWN/\n",
    "\"\"\".strip().split()\n",
    ")"
   ]
  },
  {
   "cell_type": "code",
   "execution_count": 55,
   "metadata": {
    "lines_to_next_cell": 2
   },
   "outputs": [],
   "source": [
    "personal_lexemes = set(\n",
    "    \"\"\"\n",
    ">B/ >CH/ >DM/ >DRGZR/ >DWN/ >JC/ >J=/ >KR/ >LJL/ >LMN=/ >LMNH/ >LMNJ/ >LWH/ >LWP/ >M/ \n",
    ">MH/ >MN==/ >MWN=/ >NC/ >NWC/ >PH/ >PRX/ >SJR/ >SJR=/ >SP/ >X/ >XCDRPN/\n",
    ">XWH/ >XWT/\n",
    "<BDH=/ <CWQ/ <D=/ <DH=/ <LMH/ <LWMJM/ <M/ <MD/ <MJT/ <QR=/ <R/ <WJL/ <WL/ <WL==/ <WLL/\n",
    "<WLL=/ <YRH/\n",
    "B<L/ B<LH/ BKJRH/ BKR/ BN/ BR/ BR===/ BT/ BTWLH/ BWQR/ BXRJM/ BXWN/ BXWR/\n",
    "CD==/ CDH/ CGL/ CKN/ CLCJM/ CLJC=/ CMRH=/ CPXH/ CW<R/ CWRR/\n",
    "DJG/ DWD/ DWDH/ DWG/ DWR/\n",
    "F<JR=/ FB/ FHD/ FR/ FRH/ FRJD/ FVN/\n",
    "GBJRH/ GBR/ GBR=/ GBRT/ GLB/ GNB/ GR/ GW==/ GWJ/ GZBR/\n",
    "HDBR/ \n",
    "J<RH/ JBM/ JBMH/ JD<NJ/ JDDWT/ JLD/ JLDH/ JLJD/ JRJB/ JSWR/ JTWM/ JWYR/\n",
    "JYRJM/ \n",
    "KCP=/ KHN/ KLH/ KMR/ KN<NJ=/ KNT/ KRM=/ KRWB/ KRWZ/\n",
    "L>M/ LHQH/ LMD/ LXNH/\n",
    "M<RMJM/ M>WRH/ MCBR/ MCJX/ MCM<T/ MCMR/ MCPXH/ MCQLT/ MD<=/ MD<T/ MG/\n",
    "MJNQT/ MKR=/ ML>K/ MLK/ MLKH/ MLKT/ MLX=/ MLYR/ MMZR/ MNZRJM/ MPLYT/ MYRJ/\n",
    "MPY=/ MQHL/ MQY<H/ MR</ MR>/ MSGR=/ MT/ MWRH/ MYBH=/\n",
    "N<R/ N<R=/ N<RH/ N<RWT/ N<WRJM/ NBJ>/ NBJ>H/ NCJN/ NFJ>/ NGJD/ NJN/ NKD/ \n",
    "NKR/ NPC/ NPJLJM/ NQD/ NSJK/ NTJN/ \n",
    "PLGC/ PLJL/ PLJV/ PLJV=/ PQJD/ PR<H/ PRC/ PRJY/ PRJY=/ PRTMJM/ PRZWN/ \n",
    "PSJL/ PSL/ PVR/ PVRH/ PXH/ PXR/\n",
    "QBYH/ QCRJM/ QCT=/ QHL/ QHLH/ QHLT/ QJM/ QYJN/\n",
    "R<H=/ R<H==/ R<JH/ R<=/ R<WT/ R>H/ RB</ RB=/ RB==/ RBRBNJN/ RGMH/ RHB/ RKB=/\n",
    "RKJL/ RMH/ RQX==/ \n",
    "SBL/ SPR=/ SRJS/ SRK/ SRNJM/ \n",
    "T<RWBWT/ TLMJD/ TLT=/ TPTJ/ TR<=/ TRCT>/ TRTN/ TWCB/ TWL<H/ TWLDWT/ TWTX/\n",
    "VBX/ VBX=/ VBXH=/ VPSR/ VPXJM/\n",
    "WLD/\n",
    "XBL==/ XBL======/ XBR/ XBR=/ XBR==/ XBRH/ XBRT=/ XJ=/ XLC/ XM=/ XMWT/\n",
    "XMWY=/ XNJK/ XR=/ XRC/ XRC====/ XRP=/ XRVM/ XTN/ XTP/ XZH=/\n",
    "Y<JRH/ Y>Y>JM/ YJ/ YJD==/ YJR==/ YR=/ YRH=/ \n",
    "ZKWR/ ZMR=/ ZR</\n",
    "\"\"\".strip().split()  # noqa W291\n",
    ")"
   ]
  },
  {
   "cell_type": "markdown",
   "metadata": {
    "lines_to_next_cell": 2
   },
   "source": [
    "In[27]:"
   ]
  },
  {
   "cell_type": "code",
   "execution_count": 56,
   "metadata": {},
   "outputs": [
    {
     "name": "stdout",
     "output_type": "stream",
     "text": [
      "..............................................................................................\n",
      ".         18s Determinig kind of complements                                                 .\n",
      "..............................................................................................\n"
     ]
    }
   ],
   "source": [
    "utils.caption(4, \"Determinig kind of complements\")"
   ]
  },
  {
   "cell_type": "code",
   "execution_count": 57,
   "metadata": {},
   "outputs": [],
   "source": [
    "complements_c = collections.defaultdict(lambda: collections.defaultdict(lambda: []))\n",
    "complements = {}\n",
    "complementk = {}\n",
    "kcomplements = collections.Counter()"
   ]
  },
  {
   "cell_type": "code",
   "execution_count": 58,
   "metadata": {},
   "outputs": [],
   "source": [
    "nphrases = 0\n",
    "ncomplements = 0"
   ]
  },
  {
   "cell_type": "code",
   "execution_count": 59,
   "metadata": {},
   "outputs": [],
   "source": [
    "for c in clause_verb:\n",
    "    for p in L.d(c, \"phrase\"):\n",
    "        nphrases += 1\n",
    "        pf = pf_corr.get(p, F.function.v(p))\n",
    "        if pf not in complfuncs:\n",
    "            continue\n",
    "        ncomplements += 1\n",
    "        words = L.d(p, \"word\")\n",
    "        lexemes = [F.lex.v(w) for w in words]\n",
    "        lexeme_set = set(lexemes)\n",
    "\n",
    "        # measuring locativity\n",
    "        lex_locativity = len(locative_lexemes & lexeme_set)\n",
    "        prep_b = len([x for x in lexeme_set if x == \"B\"])\n",
    "        topo = len([x for x in words if F.nametype.v(x) == \"topo\"])\n",
    "        h_loc = len([x for x in words if F.uvf.v(x) == \"H\"])\n",
    "        body_part = 0\n",
    "        if (\n",
    "            len(words) > 1\n",
    "            and F.lex.v(words[0]) == \"L\"\n",
    "            and F.lex.v(words[1]) in body_parts\n",
    "        ):\n",
    "            body_part = 2\n",
    "        loca = lex_locativity + topo + prep_b + h_loc + body_part\n",
    "\n",
    "        # measuring indirect object\n",
    "        prep_l = len(\n",
    "            [\n",
    "                x\n",
    "                for x in words\n",
    "                if F.lex.v(x) in cmpl_as_iobj_preps and F.prs.v(x) not in no_prs\n",
    "            ]\n",
    "        )\n",
    "        prep_lpr = 0\n",
    "        lwn = len(words)\n",
    "        for (n, wn) in enumerate(words):\n",
    "            if F.lex.v(wn) in cmpl_as_iobj_preps:\n",
    "                if n + 1 < lwn:\n",
    "                    nextw = words[n + 1]\n",
    "                    if (\n",
    "                        F.lex.v(nextw) in personal_lexemes\n",
    "                        or F.ls.v(nextw) == \"gntl\"\n",
    "                        or (F.sp.v(nextw) == \"nmpr\" and F.nametype.v(nextw) == \"pers\")\n",
    "                    ):\n",
    "                        prep_lpr += 1\n",
    "        indi = prep_l + prep_lpr\n",
    "\n",
    "        # the verdict\n",
    "        ckind = \"C\"\n",
    "        if loca == 0 and indi > 0:\n",
    "            ckind = \"I\"\n",
    "        elif loca > 0 and indi == 0:\n",
    "            ckind = \"L\"\n",
    "        elif loca > indi + 1:\n",
    "            ckind = \"L\"\n",
    "        elif loca < indi - 1:\n",
    "            ckind = \"I\"\n",
    "        complementk[p] = (loca, indi, ckind)\n",
    "        kcomplements[ckind] += 1\n",
    "        complements_c[c][ckind].append(p)\n",
    "        complements[p] = (pf, ckind)"
   ]
  },
  {
   "cell_type": "code",
   "execution_count": 60,
   "metadata": {
    "lines_to_next_cell": 2
   },
   "outputs": [
    {
     "name": "stdout",
     "output_type": "stream",
     "text": [
      "|         18s \tDone\n",
      "|         18s \tPhrases of kind C :  16805\n",
      "|         18s \tPhrases of kind L :  12367\n",
      "|         18s \tPhrases of kind I :   7839\n",
      "|         18s \tTotal complements :  37011\n",
      "|         18s \tTotal phrases     : 214525\n"
     ]
    }
   ],
   "source": [
    "utils.caption(0, \"\\tDone\")\n",
    "for (label, n) in sorted(kcomplements.items(), key=lambda y: -y[1]):\n",
    "    utils.caption(0, \"\\tPhrases of kind {:<2}: {:>6}\".format(label, n))\n",
    "utils.caption(0, \"\\tTotal complements : {:>6}\".format(ncomplements))\n",
    "utils.caption(0, \"\\tTotal phrases     : {:>6}\".format(nphrases))"
   ]
  },
  {
   "cell_type": "markdown",
   "metadata": {
    "lines_to_next_cell": 2
   },
   "source": [
    "In[28]:"
   ]
  },
  {
   "cell_type": "code",
   "execution_count": 61,
   "metadata": {},
   "outputs": [],
   "source": [
    "def has_L(vl, pn):\n",
    "    words = L.d(pn, \"word\")\n",
    "    return len(words) > 0 and F.lex.v(words[0] == \"L\")"
   ]
  },
  {
   "cell_type": "code",
   "execution_count": 62,
   "metadata": {},
   "outputs": [],
   "source": [
    "def is_lex_personal(vl, pn):\n",
    "    words = L.d(pn, \"word\")\n",
    "    return len(words) > 1 and (\n",
    "        F.lex.v(words[1]) in personal_lexemes or F.nametype.v(words[1]) == \"pers\"\n",
    "    )"
   ]
  },
  {
   "cell_type": "code",
   "execution_count": 63,
   "metadata": {},
   "outputs": [],
   "source": [
    "def is_lex_local(vl, pn):\n",
    "    words = L.d(pn, \"word\")\n",
    "    return len({F.lex.v(w) for w in words} & locative_lexemes) > 0"
   ]
  },
  {
   "cell_type": "code",
   "execution_count": 64,
   "metadata": {
    "lines_to_next_cell": 2
   },
   "outputs": [],
   "source": [
    "def has_H_locale(vl, pn):\n",
    "    words = L.d(pn, \"word\")\n",
    "    return len({w for w in words if F.uvf.v(w) == \"H\"}) > 0"
   ]
  },
  {
   "cell_type": "markdown",
   "metadata": {},
   "source": [
    "## 2.4 Generic logic\n",
    "\n",
    "This is the function that applies the generic rules about (in)direct objects and locatives.\n",
    "It takes a phrase node and a set of new label values, and modifies those values."
   ]
  },
  {
   "cell_type": "markdown",
   "metadata": {
    "lines_to_next_cell": 2
   },
   "source": [
    "In[29]:"
   ]
  },
  {
   "cell_type": "code",
   "execution_count": 65,
   "metadata": {},
   "outputs": [],
   "source": [
    "grule_as_str = {\n",
    "    \"pdos\": \"\"\"direct_object => principal_direct_object\"\"\",\n",
    "    \"pdos-x\": \"\"\"non-object => principal_direct_object\"\"\",\n",
    "    \"ndos\": \"\"\"direct_object => NP_direct_object\"\"\",\n",
    "    \"ndos-x\": \"\"\"non-object => NP_direct_object\"\"\",\n",
    "    \"dos\": \"\"\"non-object => direct_object\"\"\",\n",
    "    \"ldos\": \"\"\"non-object => L_object\"\"\",\n",
    "    \"kdos\": \"\"\"non-object => K_object\"\"\",\n",
    "    \"inds-c\": \"\"\"complement => indirect_object\"\"\",\n",
    "    \"locs-c\": \"\"\"complement => location\"\"\",\n",
    "    \"inds-p\": \"\"\"predicate complement => indirect_object\"\"\",\n",
    "    \"locs-p\": \"\"\"predicate complement => location\"\"\",\n",
    "    \"cdos\": \"\"\"direct-object =(superfluously)=> direct object (clause)\"\"\",\n",
    "    \"cdos-x\": \"\"\"non-object => direct object (clause)\"\"\",\n",
    "    \"idos\": \"\"\"infinitive_object =(superfluously)=> infinitive_object (clause)\"\"\",\n",
    "    \"idos-x\": \"\"\"infinitive clause => infinitive_object\"\"\",\n",
    "}"
   ]
  },
  {
   "cell_type": "code",
   "execution_count": 66,
   "metadata": {},
   "outputs": [],
   "source": [
    "def rule_as_str_g(x, i):\n",
    "    return \"{}-{}\".format(i, grule_as_str[i])"
   ]
  },
  {
   "cell_type": "code",
   "execution_count": 67,
   "metadata": {},
   "outputs": [],
   "source": [
    "rule_as_str = dict(\n",
    "    generic=rule_as_str_g,\n",
    ")"
   ]
  },
  {
   "cell_type": "code",
   "execution_count": 68,
   "metadata": {},
   "outputs": [],
   "source": [
    "def generic_logic_p(pn, values):\n",
    "    gl = None\n",
    "    if pn in objects[\"principal\"]:\n",
    "        oldv = values[\"grammatical\"]\n",
    "        if oldv == \"direct_object\":\n",
    "            gl = \"pdos\"\n",
    "        else:\n",
    "            gl = \"pdos-x\"\n",
    "            values[\"original\"] = oldv\n",
    "        values[\"grammatical\"] = \"principal_direct_object\"\n",
    "    elif pn in objects[\"NP\"]:\n",
    "        oldv = values[\"grammatical\"]\n",
    "        if oldv == \"direct_object\":\n",
    "            gl = \"ndos\"\n",
    "        else:\n",
    "            gl = \"ndos-x\"\n",
    "            values[\"original\"] = oldv\n",
    "        values[\"grammatical\"] = \"NP_direct_object\"\n",
    "    elif pn in objects[\"direct\"]:\n",
    "        oldv = values[\"grammatical\"]\n",
    "        if oldv != \"direct_object\":\n",
    "            gl = \"dos\"\n",
    "            values[\"original\"] = oldv\n",
    "            values[\"grammatical\"] = \"direct_object\"\n",
    "    elif pn in objects[\"L\"]:\n",
    "        oldv = values[\"grammatical\"]\n",
    "        gl = \"ldos\"\n",
    "        values[\"original\"] = oldv\n",
    "        values[\"grammatical\"] = \"L_object\"\n",
    "    elif pn in objects[\"K\"]:\n",
    "        oldv = values[\"grammatical\"]\n",
    "        gl = \"kdos\"\n",
    "        values[\"original\"] = oldv\n",
    "        values[\"grammatical\"] = \"K_object\"\n",
    "    elif pn in complements:\n",
    "        (pf, ck) = complements[pn]\n",
    "        if ck in {\"I\", \"L\"}:\n",
    "            if pf == \"Cmpl\":\n",
    "                if ck == \"I\":\n",
    "                    values[\"grammatical\"] = \"indirect_object\"\n",
    "                    gl = \"inds-c\"\n",
    "                else:\n",
    "                    values[\"lexical\"] = \"location\"\n",
    "                    values[\"semantic\"] = \"location\"\n",
    "                    gl = \"locs-c\"\n",
    "            elif pf == \"PreC\":\n",
    "                if ck == \"I\":\n",
    "                    values[\"grammatical\"] = \"indirect_object\"\n",
    "                    gl = \"inds-p\"\n",
    "                else:\n",
    "                    values[\"lexical\"] = \"location\"\n",
    "                    values[\"semantic\"] = \"location\"\n",
    "                    gl = \"locs-p\"\n",
    "    return gl"
   ]
  },
  {
   "cell_type": "code",
   "execution_count": 69,
   "metadata": {},
   "outputs": [],
   "source": [
    "def generic_logic_c(cn, values):\n",
    "    gl = None\n",
    "    if cn in objects[\"clause\"]:\n",
    "        oldv = values[\"grammatical\"]\n",
    "        if oldv == \"direct_object\":\n",
    "            gl = \"cdos\"\n",
    "        else:\n",
    "            gl = \"cdos-x\"\n",
    "            values[\"original\"] = oldv\n",
    "        values[\"grammatical\"] = \"direct_object\"\n",
    "    elif cn in objects[\"infinitive\"]:\n",
    "        oldv = values[\"grammatical\"]\n",
    "        if oldv == \"infinitive_object\":\n",
    "            gl = \"idos\"\n",
    "        else:\n",
    "            gl = \"idos-x\"\n",
    "            values[\"original\"] = oldv\n",
    "        values[\"grammatical\"] = \"infinitive_object\"\n",
    "    return gl"
   ]
  },
  {
   "cell_type": "code",
   "execution_count": 70,
   "metadata": {
    "lines_to_next_cell": 2
   },
   "outputs": [],
   "source": [
    "generic_logic = dict(\n",
    "    phrase=generic_logic_p,\n",
    "    clause=generic_logic_c,\n",
    ")"
   ]
  },
  {
   "cell_type": "markdown",
   "metadata": {},
   "source": [
    "## 2.5 Verb specific rules\n",
    "\n",
    "The verb-specific enrichment rules are stored in a dictionary, keyed  by the verb lexeme.\n",
    "The rule itself is a list of items.\n",
    "\n",
    "The last item is a tuple of conditions that need to be fulfilled to apply the rule.\n",
    "\n",
    "A condition can take the shape of\n",
    "\n",
    "* a function, taking a phrase or clause node as argument and returning a boolean value\n",
    "* an BHSA feature for phrases or clauses : value,\n",
    "  which is true if and only if that feature has that value for the phrase or clause in question"
   ]
  },
  {
   "cell_type": "markdown",
   "metadata": {
    "lines_to_next_cell": 2
   },
   "source": [
    "In[30]:"
   ]
  },
  {
   "cell_type": "code",
   "execution_count": 71,
   "metadata": {
    "lines_to_next_cell": 2
   },
   "outputs": [],
   "source": [
    "dbl_obj_rules = (\n",
    "    (\n",
    "        (\"semantic\", \"benefactive\"),\n",
    "        (\"function:Adju\", has_L, is_lex_personal),\n",
    "    ),\n",
    "    (\n",
    "        (\"lexical\", \"location\"),\n",
    "        (\"function:Cmpl\", has_H_locale),\n",
    "    ),\n",
    "    (\n",
    "        (\"lexical\", \"location\"),\n",
    "        (\"semantic\", \"location\"),\n",
    "        (\"function:Cmpl\", is_lex_local),\n",
    "    ),\n",
    ")\n",
    "enrich_logic = dict(\n",
    "    phrase={\n",
    "        \"CJT\": dbl_obj_rules,\n",
    "        \"FJM\": dbl_obj_rules,\n",
    "    },\n",
    "    clause={},\n",
    ")"
   ]
  },
  {
   "cell_type": "markdown",
   "metadata": {
    "lines_to_next_cell": 2
   },
   "source": [
    "In[31]:"
   ]
  },
  {
   "cell_type": "code",
   "execution_count": 72,
   "metadata": {},
   "outputs": [],
   "source": [
    "rule_index = collections.defaultdict(lambda: [])"
   ]
  },
  {
   "cell_type": "code",
   "execution_count": 73,
   "metadata": {},
   "outputs": [],
   "source": [
    "def rule_as_str_s(vl, i):\n",
    "    (conditions, sfassignments) = rule_index[vl][i]\n",
    "    label = \"{}-{}\\n\".format(vl, i + 1)\n",
    "    rule = \"\\tIF   {}\".format(\n",
    "        \"\\n\\tAND  \".join(\n",
    "            \"{:<10} = {:<8}\".format(*c.split(\":\"))\n",
    "            if type(c) is str\n",
    "            else \"{:<15}\".format(c.__name__)\n",
    "            for c in conditions\n",
    "        )\n",
    "    )\n",
    "    ass = []\n",
    "    for (i, sfa) in enumerate(sfassignments):\n",
    "        ass.append(\"\\t\\t{:<10} => {:<15}\\n\".format(*sfa))\n",
    "    return \"{}{}\\n\\tTHEN\\n{}\".format(label, rule, \"\".join(ass))"
   ]
  },
  {
   "cell_type": "code",
   "execution_count": 74,
   "metadata": {},
   "outputs": [],
   "source": [
    "rule_as_str[\"specific\"] = rule_as_str_s"
   ]
  },
  {
   "cell_type": "code",
   "execution_count": 75,
   "metadata": {},
   "outputs": [],
   "source": [
    "def check_logic():\n",
    "    utils.caption(4, \"Checking enrichment logic\")\n",
    "    errors = 0\n",
    "    nrules = 0\n",
    "    for kind in sorted(enrich_logic):\n",
    "        for vl in sorted(enrich_logic[kind]):\n",
    "            for items in enrich_logic[kind][vl]:\n",
    "                rule_index[vl].append((items[-1], items[0:-1]))\n",
    "            for (i, (conditions, sfassignments)) in enumerate(rule_index[vl]):\n",
    "                if not SCRIPT:\n",
    "                    utils.caption(0, rule_as_str_s(vl, i), continuation=True)\n",
    "                nrules += 1\n",
    "                for (sf, sfval) in sfassignments:\n",
    "                    if sf not in enrich_fields:\n",
    "                        utils.caption(\n",
    "                            0,\n",
    "                            'ERROR: {}: \"{}\" not a valid enrich field'.format(kind, sf),\n",
    "                            continuation=True,\n",
    "                        )\n",
    "                        errors += 1\n",
    "                    elif sfval not in enrich_fields[sf]:\n",
    "                        utils.caption(\n",
    "                            0,\n",
    "                            'ERROR: {}: `{}`: \"{}\" not a valid enrich field value'.format(\n",
    "                                kind, sf, sfval\n",
    "                            ),\n",
    "                            continuation=True,\n",
    "                        )\n",
    "                        errors += 1\n",
    "                for c in conditions:\n",
    "                    if type(c) == str:\n",
    "                        x = c.split(\":\")\n",
    "                        if len(x) != 2:\n",
    "                            utils.caption(\n",
    "                                0,\n",
    "                                \"ERROR: {}: Wrong feature condition {}\".format(kind, c),\n",
    "                                continuation=True,\n",
    "                            )\n",
    "                            errors += 1\n",
    "                        else:\n",
    "                            (feat, val) = x\n",
    "                            if feat not in legal_values:\n",
    "                                utils.caption(\n",
    "                                    0,\n",
    "                                    \"ERROR: {}: Feature `{}` not in use\".format(\n",
    "                                        kind, feat\n",
    "                                    ),\n",
    "                                    continuation=True,\n",
    "                                )\n",
    "                                errors += 1\n",
    "                            elif val not in legal_values[feat]:\n",
    "                                utils.caption(\n",
    "                                    0,\n",
    "                                    'ERROR: {}: Feature `{}`: not a valid value \"{}\"'.format(\n",
    "                                        kind, feat, val\n",
    "                                    ),\n",
    "                                    continuation=True,\n",
    "                                )\n",
    "                                errors += 1\n",
    "    if errors:\n",
    "        utils.caption(\n",
    "            0, \"\\tERROR: There were {} errors in {} rules\".format(errors, nrules)\n",
    "        )\n",
    "    else:\n",
    "        utils.caption(0, \"\\tAll {} rules OK\".format(nrules))"
   ]
  },
  {
   "cell_type": "code",
   "execution_count": 76,
   "metadata": {
    "lines_to_next_cell": 2
   },
   "outputs": [
    {
     "name": "stdout",
     "output_type": "stream",
     "text": [
      "..............................................................................................\n",
      ".         19s Checking enrichment logic                                                      .\n",
      "..............................................................................................\n",
      "CJT-1\n",
      "\tIF   function   = Adju    \n",
      "\tAND  has_L          \n",
      "\tAND  is_lex_personal\n",
      "\tTHEN\n",
      "\t\tsemantic   => benefactive    \n",
      "\n",
      "CJT-2\n",
      "\tIF   function   = Cmpl    \n",
      "\tAND  has_H_locale   \n",
      "\tTHEN\n",
      "\t\tlexical    => location       \n",
      "\n",
      "CJT-3\n",
      "\tIF   function   = Cmpl    \n",
      "\tAND  is_lex_local   \n",
      "\tTHEN\n",
      "\t\tlexical    => location       \n",
      "\t\tsemantic   => location       \n",
      "\n",
      "FJM-1\n",
      "\tIF   function   = Adju    \n",
      "\tAND  has_L          \n",
      "\tAND  is_lex_personal\n",
      "\tTHEN\n",
      "\t\tsemantic   => benefactive    \n",
      "\n",
      "FJM-2\n",
      "\tIF   function   = Cmpl    \n",
      "\tAND  has_H_locale   \n",
      "\tTHEN\n",
      "\t\tlexical    => location       \n",
      "\n",
      "FJM-3\n",
      "\tIF   function   = Cmpl    \n",
      "\tAND  is_lex_local   \n",
      "\tTHEN\n",
      "\t\tlexical    => location       \n",
      "\t\tsemantic   => location       \n",
      "\n",
      "|         19s \tAll 6 rules OK\n"
     ]
    }
   ],
   "source": [
    "check_logic()"
   ]
  },
  {
   "cell_type": "markdown",
   "metadata": {
    "lines_to_next_cell": 2
   },
   "source": [
    "In[32]:"
   ]
  },
  {
   "cell_type": "code",
   "execution_count": 77,
   "metadata": {},
   "outputs": [],
   "source": [
    "rule_cases = collections.defaultdict(lambda: collections.defaultdict(lambda: {}))"
   ]
  },
  {
   "cell_type": "code",
   "execution_count": 78,
   "metadata": {
    "lines_to_next_cell": 2
   },
   "outputs": [],
   "source": [
    "def apply_logic(kind, vl, n, init_values):\n",
    "    values = deepcopy(init_values)\n",
    "    gr = generic_logic[kind](n, values)\n",
    "    if gr:\n",
    "        rule_cases[\"generic\"][kind].setdefault((\"\", gr), []).append(n)\n",
    "    verb_rules = enrich_logic[kind].get(vl, [])\n",
    "    for (i, items) in enumerate(verb_rules):\n",
    "        conditions = items[-1]\n",
    "        sfassignments = items[0:-1]\n",
    "\n",
    "        ok = True\n",
    "        for condition in conditions:\n",
    "            if type(condition) is str:\n",
    "                (feature, value) = condition.split(\":\")\n",
    "                if feature == \"function\" and kind == \"phrase\":\n",
    "                    fval = pf_corr.get(n, F.function.v(n))\n",
    "                else:\n",
    "                    fval = F.item[feature].v(n)\n",
    "                this_ok = fval == value\n",
    "            else:\n",
    "                this_ok = condition(vl, n)\n",
    "            if not this_ok:\n",
    "                ok = False\n",
    "                break\n",
    "        if ok:\n",
    "            for (sf, sfval) in sfassignments:\n",
    "                values[sf] = sfval\n",
    "            rule_cases[\"specific\"][kind].setdefault((vl, i), []).append(n)\n",
    "    return tuple(values[sf] for sf in enrich_fields)"
   ]
  },
  {
   "cell_type": "markdown",
   "metadata": {},
   "source": [
    "# 2.6 Generate enrichments\n",
    "\n",
    "First we generate enriched values for all relevant phrases.\n",
    "The generated enrichment values are computed on the basis of generic logic.\n",
    "Additionally, verb-bound logic is applied, if it has been specified.\n",
    "\n",
    "We store the enriched features in a dictionary, first keyed by the type of constituent that\n",
    "receives the enrichments (`phrase` or `clause`), and then by the node number of the constituent."
   ]
  },
  {
   "cell_type": "markdown",
   "metadata": {
    "lines_to_next_cell": 2
   },
   "source": [
    "In[33]:"
   ]
  },
  {
   "cell_type": "code",
   "execution_count": 79,
   "metadata": {},
   "outputs": [
    {
     "name": "stdout",
     "output_type": "stream",
     "text": [
      "..............................................................................................\n",
      ".         19s Generating enrichments                                                         .\n",
      "..............................................................................................\n"
     ]
    }
   ],
   "source": [
    "utils.caption(4, \"Generating enrichments\")"
   ]
  },
  {
   "cell_type": "code",
   "execution_count": 80,
   "metadata": {},
   "outputs": [],
   "source": [
    "seen = collections.defaultdict(collections.Counter)\n",
    "enrichFields = dict()"
   ]
  },
  {
   "cell_type": "code",
   "execution_count": 81,
   "metadata": {},
   "outputs": [],
   "source": [
    "def gen_enrich(verb):\n",
    "    clauses_seen = set()\n",
    "\n",
    "    for wn in occs[verb]:\n",
    "        cn = L.u(wn, \"clause\")[0]\n",
    "        if cn in clauses_seen:\n",
    "            continue\n",
    "        clauses_seen.add(cn)\n",
    "        vl = F.lex.v(wn).rstrip(\"[=\")\n",
    "        for pn in L.d(cn, \"phrase\"):\n",
    "            seen[\"phrase\"][pn] += 1\n",
    "            pf = pf_corr.get(pn, F.function.v(pn))\n",
    "            enrichFields[pn] = apply_logic(\"phrase\", vl, pn, transform[\"phrase\"][pf])\n",
    "        for scn in clause_objects[cn]:\n",
    "            seen[\"clause\"][scn] += 1\n",
    "            scty = F.typ.v(scn)\n",
    "            scr = F.rela.v(scn)\n",
    "            enrichFields[scn] = apply_logic(\n",
    "                \"clause\", vl, scn, transform[\"clause\"][scr if scr == \"Objc\" else scty]\n",
    "            )"
   ]
  },
  {
   "cell_type": "code",
   "execution_count": 82,
   "metadata": {
    "lines_to_next_cell": 2
   },
   "outputs": [
    {
     "name": "stdout",
     "output_type": "stream",
     "text": [
      "|         21s \tGenerated enrichment values for 1380 verbs:\n",
      "|         21s \tEnriched values for 221353 nodes\n"
     ]
    }
   ],
   "source": [
    "for verb in verb_clause_index:\n",
    "    gen_enrich(verb)\n",
    "utils.caption(\n",
    "    0, \"\\tGenerated enrichment values for {} verbs:\".format(len(verb_clause_index))\n",
    ")\n",
    "utils.caption(0, \"\\tEnriched values for {:>5} nodes\".format(len(enrichFields)))"
   ]
  },
  {
   "cell_type": "markdown",
   "metadata": {
    "lines_to_next_cell": 2
   },
   "source": [
    "In[34]:"
   ]
  },
  {
   "cell_type": "code",
   "execution_count": 83,
   "metadata": {},
   "outputs": [
    {
     "name": "stdout",
     "output_type": "stream",
     "text": [
      "|         21s \tOverview of rule applications:\n"
     ]
    }
   ],
   "source": [
    "utils.caption(0, \"\\tOverview of rule applications:\")"
   ]
  },
  {
   "cell_type": "code",
   "execution_count": 84,
   "metadata": {},
   "outputs": [
    {
     "name": "stdout",
     "output_type": "stream",
     "text": [
      "|         21s generic-phrase rules:\n",
      "|         21s 1098 x\n",
      "\tndos-direct_object => NP_direct_object\n",
      "\t651877, 652858, 784488, 788921, 887100, 668761, 677673, 680594, 696402, 700206\n",
      "\n",
      "|         21s 3871 x\n",
      "\tpdos-direct_object => principal_direct_object\n",
      "\t651879, 652859, 784489, 786612, 788920, 744790, 746455, 771053, 876080, 887099\n",
      "\n",
      "|         21s  625 x\n",
      "\tlocs-p-predicate complement => location\n",
      "\t783713, 651627, 651990, 652629, 653145, 653431, 653444, 653479, 653804, 653935\n",
      "\n",
      "|         21s 11752 x\n",
      "\tlocs-c-complement => location\n",
      "\t813430, 651631, 652679, 652698, 653908, 654103, 654107, 654156, 654159, 654162\n",
      "\n",
      "|         21s 4185 x\n",
      "\tldos-non-object => L_object\n",
      "\t651737, 651740, 651920, 654030, 655762, 656056, 658726, 659689, 660600, 663723\n",
      "\n",
      "|         21s 6171 x\n",
      "\tinds-c-complement => indirect_object\n",
      "\t651918, 653337, 653815, 654039, 654050, 654261, 654267, 655721, 657064, 657496\n",
      "\n",
      "|         21s  435 x\n",
      "\tinds-p-predicate complement => indirect_object\n",
      "\t652024, 654743, 654831, 655219, 655681, 655800, 656065, 656134, 657065, 657497\n",
      "\n",
      "|         21s  122 x\n",
      "\tkdos-non-object => K_object\n",
      "\t656227, 673721, 678724, 794338, 810504, 812982, 816549, 818382, 822664, 830669\n",
      "\n",
      "|         21s  28259 generic-phrase rule applications\n",
      "|         21s generic-clause rules:\n",
      "|         21s 1301 x\n",
      "\tidos-x-infinitive clause => infinitive_object\n",
      "\t472843, 505963, 514177, 514366, 447672, 447677, 497334, 506313, 428317, 434083\n",
      "\n",
      "|         21s 1334 x\n",
      "\tcdos-direct-object =(superfluously)=> direct object (clause)\n",
      "\t467151, 477595, 428563, 435943, 455885, 457991, 468376, 472603, 485910, 495602\n",
      "\n",
      "|         21s   2635 generic-clause rule applications\n",
      "|         21s  30894 generic rule applications\n",
      "|         21s specific-phrase rules:\n",
      "|         21s  108 x\n",
      "\tFJM-3\n",
      "\tIF   function   = Cmpl    \n",
      "\tAND  is_lex_local   \n",
      "\tTHEN\n",
      "\t\tlexical    => location       \n",
      "\t\tsemantic   => location       \n",
      "\n",
      "\t652033, 654965, 657680, 658074, 658167, 660445, 660553, 661513, 661864, 662462\n",
      "\n",
      "|         21s    1 x\n",
      "\tFJM-2\n",
      "\tIF   function   = Cmpl    \n",
      "\tAND  has_H_locale   \n",
      "\tTHEN\n",
      "\t\tlexical    => location       \n",
      "\n",
      "\t813150\n",
      "\n",
      "|         22s    8 x\n",
      "\tCJT-3\n",
      "\tIF   function   = Cmpl    \n",
      "\tAND  is_lex_local   \n",
      "\tTHEN\n",
      "\t\tlexical    => location       \n",
      "\t\tsemantic   => location       \n",
      "\n",
      "\t652415, 652833, 665775, 677394, 700577, 822733, 836015, 843852\n",
      "\n",
      "|         22s    117 specific-phrase rule applications\n",
      "|         22s    117 specific rule applications\n"
     ]
    }
   ],
   "source": [
    "for scope in rule_cases:\n",
    "    totalscope = 0\n",
    "    for kind in rule_cases[scope]:\n",
    "        utils.caption(0, \"{}-{} rules:\".format(scope, kind))\n",
    "        totalkind = 0\n",
    "        for rule_spec in rule_cases[scope][kind]:\n",
    "            cases = rule_cases[scope][kind][rule_spec]\n",
    "            n = len(cases)\n",
    "            totalscope += n\n",
    "            totalkind += n\n",
    "            if not SCRIPT:\n",
    "                if scope == \"generic\":\n",
    "                    utils.caption(\n",
    "                        0,\n",
    "                        \"{:>4} x\\n\\t{}\\n\\t{}\\n\".format(\n",
    "                            n,\n",
    "                            rule_as_str[scope](*rule_spec),\n",
    "                            \", \".join(str(c) for c in cases[0:10]),\n",
    "                        ),\n",
    "                    )\n",
    "                else:\n",
    "                    utils.caption(\n",
    "                        0,\n",
    "                        \"{:>4} x\\n\\t{}\\n\\t{}\\n\".format(\n",
    "                            n,\n",
    "                            rule_as_str[scope](*rule_spec),\n",
    "                            \", \".join(str(c) for c in cases[0:10]),\n",
    "                        ),\n",
    "                    )\n",
    "        utils.caption(0, \"{:>6} {}-{} rule applications\".format(totalkind, scope, kind))\n",
    "    utils.caption(0, \"{:>6} {} rule applications\".format(totalscope, scope))"
   ]
  },
  {
   "cell_type": "code",
   "execution_count": 85,
   "metadata": {
    "lines_to_next_cell": 2
   },
   "outputs": [
    {
     "name": "stdout",
     "output_type": "stream",
     "text": [
      "|         22s \t204574 phrase seen 1  time(s)\n",
      "|         22s \t  9361 phrase seen 2  time(s)\n",
      "|         22s \t   549 phrase seen 3  time(s)\n",
      "|         22s \t    32 phrase seen 4  time(s)\n",
      "|         22s \t     9 phrase seen 5  time(s)\n",
      "|         22s \t214525 phrase seen in total\n",
      "|         22s \t  6641 clause seen 1  time(s)\n",
      "|         22s \t   177 clause seen 2  time(s)\n",
      "|         22s \t     9 clause seen 3  time(s)\n",
      "|         22s \t     1 clause seen 4  time(s)\n",
      "|         22s \t  6828 clause seen in total\n"
     ]
    }
   ],
   "source": [
    "for kind in seen:\n",
    "    stats = collections.Counter()\n",
    "    for (node, times) in seen[kind].items():\n",
    "        stats[times] += 1\n",
    "    if not SCRIPT:\n",
    "        for (times, n) in sorted(stats.items(), key=lambda y: (-y[1], y[0])):\n",
    "            utils.caption(0, \"\\t{:>6} {} seen {:<2} time(s)\".format(n, kind, times))\n",
    "    utils.caption(0, \"\\t{:>6} {} seen in total\".format(len(seen[kind]), kind))"
   ]
  },
  {
   "cell_type": "markdown",
   "metadata": {},
   "source": [
    "For selected verbs, we write the enrichments to spreadsheets."
   ]
  },
  {
   "cell_type": "markdown",
   "metadata": {
    "lines_to_next_cell": 2
   },
   "source": [
    "In[35]:"
   ]
  },
  {
   "cell_type": "code",
   "execution_count": 86,
   "metadata": {},
   "outputs": [],
   "source": [
    "COMMON_FIELDS = \"\"\"\n",
    "    cnode#\n",
    "    vnode#\n",
    "    onode#\n",
    "    book\n",
    "    chapter\n",
    "    verse\n",
    "    verb_lexeme\n",
    "    verb_stem\n",
    "    verb_occurrence\n",
    "    text\n",
    "    constituent\n",
    "\"\"\".strip().split()"
   ]
  },
  {
   "cell_type": "code",
   "execution_count": 87,
   "metadata": {},
   "outputs": [],
   "source": [
    "PHRASE_FIELDS = \"\"\"\n",
    "    type\n",
    "    function\n",
    "\"\"\".strip().split()"
   ]
  },
  {
   "cell_type": "code",
   "execution_count": 88,
   "metadata": {},
   "outputs": [],
   "source": [
    "CLAUSE_FIELDS = \"\"\"\n",
    "    type\n",
    "    rela\n",
    "\"\"\".strip().split()"
   ]
  },
  {
   "cell_type": "code",
   "execution_count": 89,
   "metadata": {
    "lines_to_next_cell": 2
   },
   "outputs": [
    {
     "name": "stdout",
     "output_type": "stream",
     "text": [
      "cnode#\n",
      "vnode#\n",
      "onode#\n",
      "book\n",
      "chapter\n",
      "verse\n",
      "verb_lexeme\n",
      "verb_stem\n",
      "verb_occurrence\n",
      "text\n",
      "constituent\n",
      "type\n",
      "rela\n",
      "type\n",
      "function\n",
      "valence\n",
      "predication\n",
      "grammatical\n",
      "original\n",
      "lexical\n",
      "semantic\n"
     ]
    }
   ],
   "source": [
    "field_names = COMMON_FIELDS + CLAUSE_FIELDS + PHRASE_FIELDS + list(enrich_fields)\n",
    "pfillrows = len(CLAUSE_FIELDS)\n",
    "cfillrows = len(PHRASE_FIELDS)\n",
    "fillrows = pfillrows + cfillrows + len(enrich_fields)\n",
    "if not SCRIPT:\n",
    "    print(\"\\n\".join(field_names))"
   ]
  },
  {
   "cell_type": "markdown",
   "metadata": {
    "lines_to_next_cell": 2
   },
   "source": [
    "In[36]:"
   ]
  },
  {
   "cell_type": "code",
   "execution_count": 90,
   "metadata": {},
   "outputs": [
    {
     "name": "stdout",
     "output_type": "stream",
     "text": [
      "..............................................................................................\n",
      ".         22s Generate blank enrichment sheets                                               .\n",
      "..............................................................................................\n",
      "|         22s \tas /Users/werk/github/etcbc/valence/source/2021/enrich_blank/{verb}.csv\n"
     ]
    }
   ],
   "source": [
    "utils.caption(4, \"Generate blank enrichment sheets\")\n",
    "sheetKind = \"enrich_blank\"\n",
    "utils.caption(0, \"\\tas {}\".format(vfile(\"{verb}\", sheetKind)[1]))"
   ]
  },
  {
   "cell_type": "code",
   "execution_count": 91,
   "metadata": {},
   "outputs": [],
   "source": [
    "def gen_sheet_enrich(verb):\n",
    "    rows = []\n",
    "    fieldsep = \";\"\n",
    "    clauses_seen = set()\n",
    "    for wn in occs[verb]:\n",
    "        cn = L.u(wn, \"clause\")[0]\n",
    "        if cn in clauses_seen:\n",
    "            continue\n",
    "        clauses_seen.add(cn)\n",
    "        (book_name, chapter, verse) = T.sectionFromNode(cn, lang=\"la\")\n",
    "        book = T.sectionFromNode(cn)[0]\n",
    "        vl = F.lex.v(wn).rstrip(\"[=\")\n",
    "        vstem = F.vs.v(wn)\n",
    "        vt = T.text([wn], fmt=\"text-trans-plain\")\n",
    "        ct = T.text(L.d(cn, \"word\"), fmt=\"text-trans-plain\")\n",
    "\n",
    "        common_fields = (cn, wn, -1, book, chapter, verse, vl, vstem, vt, ct, \"\")\n",
    "        rows.append(common_fields + ((\"\",) * fillrows))\n",
    "        for pn in L.d(cn, \"phrase\"):\n",
    "            seen[\"phrase\"][pn] += 1\n",
    "            pt = T.text(L.d(pn, \"word\"), fmt=\"text-trans-plain\")\n",
    "            common_fields = (\n",
    "                cn,\n",
    "                wn,\n",
    "                pn,\n",
    "                book,\n",
    "                chapter,\n",
    "                verse,\n",
    "                vl,\n",
    "                vstem,\n",
    "                \"\",\n",
    "                pt,\n",
    "                \"phrase\",\n",
    "            )\n",
    "            pty = F.typ.v(pn)\n",
    "            pf = pf_corr.get(pn, F.function.v(pn))\n",
    "            phrase_fields = (\"\",) * pfillrows + (pty, pf) + enrichFields[pn]\n",
    "            rows.append(common_fields + phrase_fields)\n",
    "        for scn in clause_objects[cn]:\n",
    "            seen[\"clause\"][scn] += 1\n",
    "            sct = T.text(L.d(scn, \"word\"), fmt=\"text-trans-plain\")\n",
    "            common_fields = (\n",
    "                cn,\n",
    "                wn,\n",
    "                scn,\n",
    "                book,\n",
    "                chapter,\n",
    "                verse,\n",
    "                vl,\n",
    "                vstem,\n",
    "                \"\",\n",
    "                sct,\n",
    "                \"clause\",\n",
    "            )\n",
    "            scty = F.typ.v(scn)\n",
    "            scr = F.rela.v(scn)\n",
    "            clause_fields = (scty, scr) + (\"\",) * cfillrows + enrichFields[scn]\n",
    "            rows.append(common_fields + clause_fields)\n",
    "\n",
    "    location = vfile(verb, sheetKind)\n",
    "    if location is None:\n",
    "        return\n",
    "    (baseName, fileName) = location\n",
    "\n",
    "    row_file = open(fileName, \"w\")\n",
    "    row_file.write(\"{}\\n\".format(fieldsep.join(field_names)))\n",
    "    for row in rows:\n",
    "        row_file.write(\"{}\\n\".format(fieldsep.join(str(x) for x in row)))\n",
    "    row_file.close()\n",
    "    utils.caption(0, \"\\t\\tfor verb {} ({:>5} rows)\".format(verb, len(rows)))"
   ]
  },
  {
   "cell_type": "code",
   "execution_count": 92,
   "metadata": {},
   "outputs": [
    {
     "name": "stdout",
     "output_type": "stream",
     "text": [
      "|         22s \t\tfor verb NPL ( 1933 rows)\n",
      "|         22s \t\tfor verb QR> ( 3726 rows)\n",
      "|         22s \t\tfor verb BW> (11087 rows)\n",
      "|         22s \t\tfor verb FJM ( 2918 rows)\n",
      "|         22s \t\tfor verb NF> ( 2886 rows)\n",
      "|         22s \t\tfor verb HLK ( 5814 rows)\n",
      "|         22s \t\tfor verb JRD ( 1593 rows)\n",
      "|         23s \t\tfor verb NTN ( 9822 rows)\n",
      "|         23s \t\tfor verb <FH (11315 rows)\n",
      "|         23s \t\tfor verb PQD ( 1283 rows)\n",
      "|         23s \t\tfor verb NWS (  618 rows)\n",
      "|         23s \t\tfor verb SWR ( 1272 rows)\n",
      "|         23s \t\tfor verb <BR ( 2349 rows)\n",
      "|         23s \t\tfor verb <LH ( 3893 rows)\n",
      "|         24s \t\tfor verb JY> ( 4623 rows)\n",
      "|         24s \t\tfor verb CWB ( 4325 rows)\n",
      "|         24s \t\tfor verb CJT (  381 rows)\n",
      "|         24s \t\tfor verb BR> (  219 rows)\n"
     ]
    }
   ],
   "source": [
    "for verb in verbs:\n",
    "    gen_sheet_enrich(verb)"
   ]
  },
  {
   "cell_type": "code",
   "execution_count": 93,
   "metadata": {
    "lines_to_next_cell": 2
   },
   "outputs": [
    {
     "name": "stdout",
     "output_type": "stream",
     "text": [
      "|         24s \tDone\n"
     ]
    }
   ],
   "source": [
    "utils.caption(0, \"\\tDone\")"
   ]
  },
  {
   "cell_type": "markdown",
   "metadata": {
    "lines_to_next_cell": 2
   },
   "source": [
    "In[37]:"
   ]
  },
  {
   "cell_type": "code",
   "execution_count": 94,
   "metadata": {
    "lines_to_next_cell": 2
   },
   "outputs": [],
   "source": [
    "def showcase(n):\n",
    "    otype = F.otype.v(n)\n",
    "    att1 = pf_corr.get(n, F.function.v(n)) if otype == \"phrase\" else F.rela.v(n)\n",
    "    att2 = F.typ.v(n)\n",
    "    utils.caption(\n",
    "        0,\n",
    "        \"\"\"{} ({}-{}) {}\\n{} {}:{}    {}\\n\"\"\".format(\n",
    "            otype,\n",
    "            att1,\n",
    "            att2,\n",
    "            T.text(L.d(n, \"word\"), fmt=\"text-trans-plain\"),\n",
    "            *T.sectionFromNode(n),\n",
    "            T.text(L.d(L.u(n, \"verse\")[0], \"word\"), fmt=\"text-trans-plain\"),\n",
    "        ),\n",
    "        continuation=True,\n",
    "    )"
   ]
  },
  {
   "cell_type": "markdown",
   "metadata": {
    "lines_to_next_cell": 2
   },
   "source": [
    "In[38]:"
   ]
  },
  {
   "cell_type": "code",
   "execution_count": 95,
   "metadata": {
    "lines_to_next_cell": 2
   },
   "outputs": [
    {
     "name": "stdout",
     "output_type": "stream",
     "text": [
      "phrase (Conj-CP) KJ&\n",
      "Genesis 13:6    WL>&NF> >TM H>RY LCBT JXDW KJ&HJH RKWCM RB WL> JKLW LCBT JXDW00 \n",
      "\n",
      "clause (Adju-InfC) L>MR00 \n",
      "Deuteronomy 1:34    WJCM< JHWH >T&QWL DBRJKM WJQYP WJCB< L>MR00 \n",
      "\n"
     ]
    }
   ],
   "source": [
    "if not SCRIPT:\n",
    "    showcase(654844)\n",
    "    showcase(445014)\n",
    "    # showcase(426954)"
   ]
  },
  {
   "cell_type": "markdown",
   "metadata": {
    "lines_to_next_cell": 2
   },
   "source": [
    "In[39]:"
   ]
  },
  {
   "cell_type": "code",
   "execution_count": 96,
   "metadata": {},
   "outputs": [],
   "source": [
    "def check_h(vl, show_results=False):\n",
    "    hl = {}\n",
    "    total = 0\n",
    "    for w in F.otype.s(\"word\"):\n",
    "        if F.sp.v(w) != \"verb\" or F.lex.v(w).rstrip(\"[=/\") != vl:\n",
    "            continue\n",
    "        total += 1\n",
    "        c = L.u(w, \"clause\")[0]\n",
    "        ps = L.d(c, \"phrase\")\n",
    "        phs = {\n",
    "            p for p in ps if len({w for w in L.d(p, \"word\") if F.uvf.v(w) == \"H\"}) > 0\n",
    "        }\n",
    "        for f in (\"Cmpl\", \"Adju\", \"Loca\"):\n",
    "            phc = {\n",
    "                p\n",
    "                for p in ps\n",
    "                if pf_corr.get(p, None) or (pf_corr.get(p, F.function.v(p))) == f\n",
    "            }\n",
    "            if len(phc & phs):\n",
    "                hl.setdefault(f, set()).add(w)\n",
    "    for f in hl:\n",
    "        utils.caption(\n",
    "            0,\n",
    "            \"Verb {}: {} occurrences. He locales in {} phrases: {}\".format(\n",
    "                vl, total, f, len(hl[f])\n",
    "            ),\n",
    "            continuation=True,\n",
    "        )\n",
    "        if show_results:\n",
    "            utils.caption(\n",
    "                0, \"\\t{}\".format(\", \".join(str(x) for x in hl[f])), continuation=True\n",
    "            )"
   ]
  },
  {
   "cell_type": "code",
   "execution_count": 97,
   "metadata": {
    "lines_to_next_cell": 2
   },
   "outputs": [
    {
     "name": "stdout",
     "output_type": "stream",
     "text": [
      "Verb BW>: 2570 occurrences. He locales in Cmpl phrases: 164\n",
      "\t257031, 26121, 184330, 256526, 26130, 146461, 187935, 197153, 95266, 272421, 24619, 184365, 289841, 398385, 201268, 136759, 78904, 5699, 32836, 100419, 100422, 401480, 198223, 24656, 200273, 100947, 24661, 112217, 141916, 186975, 196705, 28771, 34407, 298609, 248946, 5748, 12404, 132212, 162932, 90250, 146058, 153230, 396944, 97428, 134806, 151190, 188057, 21659, 257180, 426143, 136352, 24743, 162984, 200364, 214702, 25780, 4790, 257207, 100536, 158392, 4794, 160448, 214722, 90819, 272584, 139977, 38602, 249035, 113871, 8921, 138462, 19169, 20706, 26853, 282856, 8425, 8938, 43242, 145141, 170743, 397049, 254718, 79616, 154368, 27394, 200963, 176390, 165640, 206090, 208651, 426253, 26383, 106256, 269584, 157461, 257308, 149799, 170796, 211247, 26417, 27441, 126771, 9526, 109373, 246077, 4930, 16707, 26434, 64835, 172354, 249155, 398151, 168785, 154978, 132969, 47467, 47473, 157555, 393587, 100215, 37239, 23418, 23936, 269185, 24451, 78215, 93580, 411020, 26002, 12700, 133532, 19358, 24479, 191396, 93607, 18347, 170923, 157622, 267704, 8634, 63426, 244675, 256967, 167373, 175567, 110546, 5587, 37331, 108500, 11734, 111061, 138708, 20441, 143834, 175575, 99804, 192988, 264152, 170977, 218598, 25065, 269300, 26102, 110586\n",
      "Verb BW>: 2570 occurrences. He locales in Loca phrases: 5\n",
      "\t29644, 285004, 289874, 284980, 289886\n",
      "Verb BW>: 2570 occurrences. He locales in Adju phrases: 2\n",
      "\t322834, 75709\n"
     ]
    }
   ],
   "source": [
    "if not SCRIPT:\n",
    "    check_h(\"BW>\", show_results=True)"
   ]
  },
  {
   "cell_type": "markdown",
   "metadata": {},
   "source": [
    "It would be handy to generate an informational spreadsheet that shows all these cases."
   ]
  },
  {
   "cell_type": "markdown",
   "metadata": {},
   "source": [
    "## 2.6 Process the filled in enrichments\n",
    "\n",
    "We read the enrichments, and perform some consistency checks.\n",
    "If the filled-in sheet does not exist, we take the blank sheet, with the default assignment of the new features.\n",
    "If a phrase got conflicting features, because it occurs in sheets for multiple verbs, the values in the filled-in sheet take precedence over the values in the blank sheet. If both occur in a filled in sheet, a warning will be issued."
   ]
  },
  {
   "cell_type": "markdown",
   "metadata": {
    "lines_to_next_cell": 2
   },
   "source": [
    "In[43]:"
   ]
  },
  {
   "cell_type": "code",
   "execution_count": 98,
   "metadata": {
    "lines_to_next_cell": 2
   },
   "outputs": [],
   "source": [
    "def read_enrich():\n",
    "    of_enriched = {\n",
    "        False: {},  # for enrichments found in blank sheets\n",
    "        True: {},  # for enrichments found in filled sheets\n",
    "    }\n",
    "    repeated = {\n",
    "        False: collections.defaultdict(list),  # for blank sheets\n",
    "        True: collections.defaultdict(list),  # for filled sheets\n",
    "    }\n",
    "    wrong_value = {\n",
    "        False: collections.defaultdict(list),\n",
    "        True: collections.defaultdict(list),\n",
    "    }\n",
    "\n",
    "    non_match = collections.defaultdict(list)\n",
    "    wrong_node = collections.defaultdict(list)\n",
    "\n",
    "    results = []\n",
    "    dev_results = []  # results that deviate from the filled sheet\n",
    "\n",
    "    ERR_LIMIT = 10\n",
    "\n",
    "    ev = \"text-trans-plain\"\n",
    "\n",
    "    for verb in sorted(verbs):\n",
    "        vresults = {\n",
    "            False: {},  # for blank sheets\n",
    "            True: {},  # for filled sheets\n",
    "        }\n",
    "        for check in (\n",
    "            (False, \"blank\"),\n",
    "            (True, \"filled\"),\n",
    "        ):\n",
    "            is_filled = check[0]\n",
    "\n",
    "            location = vfile(verb, \"enrich_{}\".format(check[1]))\n",
    "            if location is None:\n",
    "                continue\n",
    "            (baseName, fileName) = location\n",
    "\n",
    "            if not os.path.exists(fileName):\n",
    "                if not is_filled:\n",
    "                    utils.caption(\n",
    "                        0, \"\\tNO {} enrichment sheet for {}\".format(check[1], baseName)\n",
    "                    )\n",
    "                continue\n",
    "            utils.caption(0, \"\\t{} enrichment sheet for {}\".format(check[1], baseName))\n",
    "\n",
    "            with open(fileName) as fh:\n",
    "                fh.__next__()\n",
    "                for line in fh:\n",
    "                    fields = line.rstrip().split(\";\")\n",
    "                    on = int(fields[2])\n",
    "                    if on < 0:\n",
    "                        continue\n",
    "                    kind = fields[10]\n",
    "                    objects_seen[kind][on] += 1\n",
    "                    vvals = tuple(fields[-nef:])\n",
    "                    for (f, v) in zip(enrich_fields, vvals):\n",
    "                        if (\n",
    "                            v != \"\"\n",
    "                            and v != \"X\"\n",
    "                            and v != \"NA\"\n",
    "                            and v not in enrich_fields[f]\n",
    "                        ):\n",
    "                            wrong_value[is_filled][on].append((verb, f, v))\n",
    "                    vresults[is_filled][on] = vvals\n",
    "                    if on in of_enriched[is_filled]:\n",
    "                        if on not in repeated[is_filled]:\n",
    "                            repeated[is_filled][on] = [of_enriched[is_filled][on]]\n",
    "                        repeated[is_filled][on].append((verb, vvals))\n",
    "                    else:\n",
    "                        of_enriched[is_filled][on] = (verb, vvals)\n",
    "                    if F.otype.v(on) != kind:\n",
    "                        non_match[on].append((verb, kind))\n",
    "            for on in sorted(\n",
    "                vresults[True]\n",
    "            ):  # check whether the phrase ids are not mangled\n",
    "                if on not in vresults[False]:\n",
    "                    wrong_node[on].append(verb)\n",
    "            for on in sorted(\n",
    "                vresults[False]\n",
    "            ):  # now collect all results, give precedence to filled values\n",
    "                if F.otype.v(on) == \"phrase\":\n",
    "                    f_corr = on in pf_corr  # manual correction in phrase function\n",
    "                    f_good = pf_corr.get(on, F.function.v(on))\n",
    "                else:\n",
    "                    f_corr = \"\"\n",
    "                    f_good = \"\"\n",
    "                s_manual = (\n",
    "                    on in vresults[True] and vresults[False][on] != vresults[True][on]\n",
    "                )  # real change\n",
    "\n",
    "                # here we determine which value is going to be put in a feature\n",
    "                # basic rule: if there is an filled-in sheet, take the value from there, else from the blank one\n",
    "                # exception:\n",
    "                # if a value is empty in the filled-in sheet, but not in the blank one, take the non-empty one\n",
    "                #\n",
    "                # Why? Well, sometimes we improve the enrich logic. There may be filled-in sheets based on older\n",
    "                # blank sheets.\n",
    "                # We want to push new values in blank sheets through unfilled in values in the filled sheets.\n",
    "                # If it is intentional to remove a value from the blank sheet,\n",
    "                # you can put an X in the corresponding filled field.\n",
    "                blank_results = vresults[False][on]\n",
    "                these_results = []\n",
    "\n",
    "                for (i, br) in enumerate(blank_results):\n",
    "                    the_value = br\n",
    "                    if s_manual and vresults[True][on][i] != \"\":\n",
    "                        the_value = vresults[True][on][i]\n",
    "                        if the_value == \"X\":\n",
    "                            the_value = \"\"\n",
    "                    these_results.append(the_value)\n",
    "                these_results = tuple(these_results)\n",
    "\n",
    "                # these_results = vresults[True][on] if s_manual else vresults[False][on]\n",
    "\n",
    "                if f_corr or s_manual:\n",
    "                    dev_results.append(\n",
    "                        (on,) + these_results + (f_good, f_corr, s_manual)\n",
    "                    )\n",
    "                results.append((on,) + these_results + (f_good, f_corr, s_manual))\n",
    "\n",
    "    for check in (\n",
    "        (False, \"blank\"),\n",
    "        (True, \"filled\"),\n",
    "    ):\n",
    "        if len(wrong_value[check[0]]):  # illegal values in sheets\n",
    "            wrongs = wrong_value[check[0]]\n",
    "            for x in sorted(wrongs)[0:ERR_LIMIT]:\n",
    "                px = T.text(L.d(x, \"word\"), fmt=ev)\n",
    "                ref_node = L.u(x, \"clause\")[0] if F.otype.v(x) != \"clause\" else x\n",
    "                cx = T.text(L.d(ref_node, \"word\"), fmt=ev)\n",
    "                passage = T.sectionFromNode(x)\n",
    "                utils.caption(\n",
    "                    0,\n",
    "                    \"ERROR: {} Illegal value(s) in {}: {} = {} in {}:\".format(\n",
    "                        passage, check[1], x, px, cx\n",
    "                    ),\n",
    "                    continuation=True,\n",
    "                )\n",
    "                for (verb, f, v) in wrongs[x]:\n",
    "                    utils.caption(\n",
    "                        0,\n",
    "                        'ERROR: \\t\"{}\" is an illegal value for \"{}\" in verb {}'.format(\n",
    "                            v,\n",
    "                            f,\n",
    "                            verb,\n",
    "                        ),\n",
    "                        continuation=True,\n",
    "                    )\n",
    "            ne = len(wrongs)\n",
    "            if ne > ERR_LIMIT:\n",
    "                utils.caption(\n",
    "                    0,\n",
    "                    \" ... AND {} CASES MORE\".format(ne - ERR_LIMIT),\n",
    "                    continuation=True,\n",
    "                )\n",
    "        else:\n",
    "            utils.caption(\n",
    "                0,\n",
    "                \"\\tOK: The used {} enrichment sheets have legal values\".format(\n",
    "                    check[1]\n",
    "                ),\n",
    "            )\n",
    "\n",
    "        nerrors = 0\n",
    "        if len(repeated[check[0]]):  # duplicates in sheets, check consistency\n",
    "            repeats = repeated[check[0]]\n",
    "            for x in sorted(repeats):\n",
    "                overview = collections.defaultdict(list)\n",
    "                for y in repeats[x]:\n",
    "                    overview[y[1]].append(y[0])\n",
    "                px = T.text(L.d(x, \"word\"), fmt=ev)\n",
    "                ref_node = L.u(x, \"clause\")[0] if F.otype.v(x) != \"clause\" else x\n",
    "                cx = T.text(L.d(ref_node, \"word\"), fmt=ev)\n",
    "                passage = T.sectionFromNode(x)\n",
    "                if len(overview) > 1:\n",
    "                    nerrors += 1\n",
    "                    if nerrors < ERR_LIMIT:\n",
    "                        utils.caption(\n",
    "                            0,\n",
    "                            \"ERROR: {} Conflict in {}: {} = {} in {}:\".format(\n",
    "                                passage, check[1], x, px, cx\n",
    "                            ),\n",
    "                            continuation=True,\n",
    "                        )\n",
    "                        for vals in overview:\n",
    "                            utils.caption(\n",
    "                                0,\n",
    "                                \"\\t{:<40} in verb(s) {}\".format(\n",
    "                                    \", \".join(vals),\n",
    "                                    \", \".join(overview[vals]),\n",
    "                                ),\n",
    "                                continuation=True,\n",
    "                            )\n",
    "                elif False:  # for debugging purposes\n",
    "                    # else:\n",
    "                    nerrors += 1\n",
    "                    if nerrors < ERR_LIMIT:\n",
    "                        utils.caption(\n",
    "                            0,\n",
    "                            \"\\t{} Agreement in {} {} = {} in {}: {}\".format(\n",
    "                                passage,\n",
    "                                check[1],\n",
    "                                x,\n",
    "                                px,\n",
    "                                cx,\n",
    "                                \",\".join(list(overview.values())[0]),\n",
    "                            ),\n",
    "                            continuation=True,\n",
    "                        )\n",
    "            ne = nerrors\n",
    "            if ne > ERR_LIMIT:\n",
    "                utils.caption(\n",
    "                    0,\n",
    "                    \" ... AND {} CASES MORE\".format(ne - ERR_LIMIT),\n",
    "                    continuation=True,\n",
    "                )\n",
    "        if nerrors == 0:\n",
    "            utils.caption(\n",
    "                0, \"\\tOK: The used {} enrichment sheets are consistent\".format(check[1])\n",
    "            )\n",
    "\n",
    "    if len(non_match):\n",
    "        utils.caption(\n",
    "            0, \"ERROR: Enrichments have been applied to nodes with non-matching types:\"\n",
    "        )\n",
    "        for x in sorted(non_match)[0:ERR_LIMIT]:\n",
    "            (verb, shouldbe) = non_match[x]\n",
    "            px = T.text(L.d(x, \"word\"), fmt=ev)\n",
    "            utils.caption(\n",
    "                0,\n",
    "                \"ERROR: {}: {} Node {} is not a {} but a {}\".format(\n",
    "                    verb,\n",
    "                    T.sectionFromNode(x),\n",
    "                    x,\n",
    "                    shouldbe,\n",
    "                    F.otype.v(x),\n",
    "                ),\n",
    "                continuation=True,\n",
    "            )\n",
    "        ne = len(non_match)\n",
    "        if ne > ERR_LIMIT:\n",
    "            utils.caption(\n",
    "                0, \" ... AND {} CASES MORE\".format(ne - ERR_LIMIT), continuation=True\n",
    "            )\n",
    "    else:\n",
    "        utils.caption(0, \"\\tOK: all enriched nodes where phrase nodes\")\n",
    "\n",
    "    if len(wrong_node):\n",
    "        utils.caption(0, \"ERROR: Node in filled sheet did not occur in blank sheet:\")\n",
    "        for x in sorted(wrong_node)[0:ERR_LIMIT]:\n",
    "            px = T.text(L.d(x, \"word\"), fmt=ev)\n",
    "            utils.caption(\n",
    "                0,\n",
    "                \"{}: {} node {}\".format(\n",
    "                    wrong_node[x],\n",
    "                    T.sectionFromNode(x),\n",
    "                    x,\n",
    "                ),\n",
    "                continuation=True,\n",
    "            )\n",
    "        ne = len(wrong_node)\n",
    "        if ne > ERR_LIMIT:\n",
    "            utils.caption(\n",
    "                0, \" ... AND {} CASES MORE\".format(ne - ERR_LIMIT), continuation=True\n",
    "            )\n",
    "    else:\n",
    "        utils.caption(0, \"\\tOK: all enriched nodes occurred in the blank sheet\")\n",
    "\n",
    "    if len(dev_results):\n",
    "        utils.caption(\n",
    "            0,\n",
    "            \"\\tOK: there are {} manual correction/enrichment annotations\".format(\n",
    "                len(dev_results)\n",
    "            ),\n",
    "        )\n",
    "        for r in dev_results[0:ERR_LIMIT]:\n",
    "            (x, *vals, f_good, f_corr, s_manual) = r\n",
    "            px = T.text(L.d(x, \"word\"), fmt=ev)\n",
    "            cx = T.text(L.d(L.u(x, \"clause\")[0], \"word\"), fmt=ev)\n",
    "            utils.caption(\n",
    "                0,\n",
    "                \"{:<30} {:>7} => {:<3} {:<3} {}\\n\\t{}\\n\\t\\t{}\".format(\n",
    "                    \"COR\" if f_corr else \"\",\n",
    "                    \"MAN\" if s_manual else \"\",\n",
    "                    \"{} {}:{}\".format(*T.sectionFromNode(x)),\n",
    "                    x,\n",
    "                    \",\".join(vals),\n",
    "                    px,\n",
    "                    cx,\n",
    "                ),\n",
    "                continuation=True,\n",
    "            )\n",
    "        ne = len(dev_results)\n",
    "        if ne > ERR_LIMIT:\n",
    "            utils.caption(\n",
    "                0,\n",
    "                \"... AND {} ANNOTATIONS MORE\".format(ne - ERR_LIMIT),\n",
    "                continuation=True,\n",
    "            )\n",
    "    else:\n",
    "        utils.caption(0, \"\\tthere are no manual correction/enrichment annotations\")\n",
    "    return results"
   ]
  },
  {
   "cell_type": "markdown",
   "metadata": {
    "lines_to_next_cell": 2
   },
   "source": [
    "In[44]:"
   ]
  },
  {
   "cell_type": "code",
   "execution_count": 99,
   "metadata": {},
   "outputs": [
    {
     "name": "stdout",
     "output_type": "stream",
     "text": [
      "..............................................................................................\n",
      ".         24s Processing enrichment sheets ...                                               .\n",
      "..............................................................................................\n"
     ]
    }
   ],
   "source": [
    "utils.caption(4, \"Processing enrichment sheets ...\")\n",
    "sheetKind = \"enrich_filled\""
   ]
  },
  {
   "cell_type": "code",
   "execution_count": 100,
   "metadata": {
    "lines_to_next_cell": 2
   },
   "outputs": [
    {
     "name": "stdout",
     "output_type": "stream",
     "text": [
      "|         24s \tas /Users/werk/github/etcbc/valence/source/2021/enrich_filled/{verb}.csv\n",
      "|         24s \tblank enrichment sheet for oBR\n",
      "|         24s \tblank enrichment sheet for oFH\n",
      "|         24s \tblank enrichment sheet for oLH\n",
      "|         24s \tblank enrichment sheet for BRa\n",
      "|         24s \tblank enrichment sheet for BWa\n",
      "|         24s \tblank enrichment sheet for CJT\n",
      "|         24s \tblank enrichment sheet for CWB\n",
      "|         24s \tblank enrichment sheet for FJM\n",
      "|         24s \tblank enrichment sheet for HLK\n",
      "|         24s \tblank enrichment sheet for JRD\n",
      "|         24s \tblank enrichment sheet for JYa\n",
      "|         24s \tblank enrichment sheet for NFa\n",
      "|         24s \tblank enrichment sheet for NPL\n",
      "|         24s \tblank enrichment sheet for NTN\n",
      "|         24s \tblank enrichment sheet for NWS\n",
      "|         24s \tblank enrichment sheet for PQD\n",
      "|         24s \tblank enrichment sheet for QRa\n",
      "|         24s \tblank enrichment sheet for SWR\n",
      "|         24s \tOK: The used blank enrichment sheets have legal values\n",
      "|         24s \tOK: The used blank enrichment sheets are consistent\n",
      "|         24s \tOK: The used filled enrichment sheets have legal values\n",
      "|         24s \tOK: The used filled enrichment sheets are consistent\n",
      "|         24s \tOK: all enriched nodes where phrase nodes\n",
      "|         24s \tOK: all enriched nodes occurred in the blank sheet\n",
      "|         24s \tthere are no manual correction/enrichment annotations\n"
     ]
    }
   ],
   "source": [
    "utils.caption(0, \"\\tas {}\".format(vfile(\"{verb}\", sheetKind)[1]))\n",
    "objects_seen = collections.defaultdict(collections.Counter)\n",
    "sheetResults = read_enrich()"
   ]
  },
  {
   "cell_type": "markdown",
   "metadata": {
    "lines_to_next_cell": 2
   },
   "source": [
    "In[45]:"
   ]
  },
  {
   "cell_type": "code",
   "execution_count": 101,
   "metadata": {
    "lines_to_next_cell": 2
   },
   "outputs": [],
   "source": [
    "if not SCRIPT:\n",
    "    list(enrichFields.items())[0:10]"
   ]
  },
  {
   "cell_type": "markdown",
   "metadata": {
    "lines_to_next_cell": 2
   },
   "source": [
    "In[46]:"
   ]
  },
  {
   "cell_type": "code",
   "execution_count": 102,
   "metadata": {
    "lines_to_next_cell": 2
   },
   "outputs": [],
   "source": [
    "if not SCRIPT:\n",
    "    sheetResults[0:10]"
   ]
  },
  {
   "cell_type": "markdown",
   "metadata": {},
   "source": [
    "Combine the sheet results with the generic results in one single dictionary, keyed by node number."
   ]
  },
  {
   "cell_type": "markdown",
   "metadata": {
    "lines_to_next_cell": 2
   },
   "source": [
    "In[47]:"
   ]
  },
  {
   "cell_type": "code",
   "execution_count": 103,
   "metadata": {
    "lines_to_next_cell": 2
   },
   "outputs": [
    {
     "name": "stdout",
     "output_type": "stream",
     "text": [
      "..............................................................................................\n",
      ".         24s Combine the manual results with the generic results                            .\n",
      "..............................................................................................\n",
      "|         25s \tAnnotations from sheets for 53743 nodes\n",
      "|         25s \tMerging 221353 annotations from generic enrichment\n",
      "|         25s \tResulting in annotations for 221353 nodes\n"
     ]
    }
   ],
   "source": [
    "utils.caption(4, \"Combine the manual results with the generic results\")\n",
    "allResults = dict()\n",
    "for (n, *features) in sheetResults:\n",
    "    allResults[n] = features\n",
    "utils.caption(0, \"\\tAnnotations from sheets for {} nodes\".format(len(allResults)))\n",
    "utils.caption(\n",
    "    0, \"\\tMerging {} annotations from generic enrichment\".format(len(enrichFields))\n",
    ")\n",
    "for (n, features) in enrichFields.items():\n",
    "    if n in allResults:\n",
    "        continue\n",
    "    allResults[n] = features + (\"\", \"\", False)\n",
    "utils.caption(0, \"\\tResulting in annotations for {} nodes\".format(len(allResults)))"
   ]
  },
  {
   "cell_type": "markdown",
   "metadata": {},
   "source": [
    "# 3 Generate data\n",
    "\n",
    "We write the correction and enrichment data as a data module in text-fabric format."
   ]
  },
  {
   "cell_type": "markdown",
   "metadata": {
    "lines_to_next_cell": 2
   },
   "source": [
    "In[48]:"
   ]
  },
  {
   "cell_type": "code",
   "execution_count": 117,
   "metadata": {},
   "outputs": [],
   "source": [
    "newFeatures = list(enrich_fields.keys()) + [\"function\", \"f_correction\", \"s_manual\"]"
   ]
  },
  {
   "cell_type": "code",
   "execution_count": 118,
   "metadata": {},
   "outputs": [],
   "source": [
    "genericMetaPath = f\"{thisRepo}/yaml/generic.yaml\"\n",
    "enrichMetaPath = f\"{thisRepo}/yaml/enrich.yaml\"\n",
    "\n",
    "with open(genericMetaPath) as fh:\n",
    "    genericMeta = yaml.load(fh, Loader=yaml.FullLoader)\n",
    "    genericMeta[\"version\"] = VERSION\n",
    "with open(enrichMetaPath) as fh:\n",
    "    enrichMeta = formatMeta(yaml.load(fh, Loader=yaml.FullLoader))\n",
    "\n",
    "metaData = {\"\": genericMeta, **enrichMeta}"
   ]
  },
  {
   "cell_type": "code",
   "execution_count": 119,
   "metadata": {
    "lines_to_next_cell": 2
   },
   "outputs": [],
   "source": [
    "for f in newFeatures:\n",
    "    metaData[f][\"valueType\"] = \"str\""
   ]
  },
  {
   "cell_type": "code",
   "execution_count": 120,
   "metadata": {},
   "outputs": [],
   "source": [
    "nodeFeatures = dict()"
   ]
  },
  {
   "cell_type": "code",
   "execution_count": 121,
   "metadata": {},
   "outputs": [],
   "source": [
    "for (node, featureVals) in allResults.items():\n",
    "    for (fName, fVal) in zip(newFeatures, featureVals):\n",
    "        fValRep = fVal\n",
    "        if type(fVal) is bool:\n",
    "            fValRep = \"y\" if fVal else \"\"\n",
    "        nodeFeatures.setdefault(fName, {})[node] = fValRep"
   ]
  },
  {
   "cell_type": "code",
   "execution_count": 122,
   "metadata": {
    "lines_to_next_cell": 2
   },
   "outputs": [],
   "source": [
    "RENAMES = [(\"function\", \"cfunction\")]\n",
    "for (oldF, newF) in RENAMES:\n",
    "    for data in (nodeFeatures, metaData):\n",
    "        data[newF] = data[oldF]\n",
    "        del data[oldF]"
   ]
  },
  {
   "cell_type": "code",
   "execution_count": 123,
   "metadata": {
    "lines_to_next_cell": 2
   },
   "outputs": [
    {
     "name": "stdout",
     "output_type": "stream",
     "text": [
      "..............................................................................................\n",
      ".      8m 46s Writing TF enrichment features                                                 .\n",
      "..............................................................................................\n"
     ]
    },
    {
     "data": {
      "text/plain": [
       "True"
      ]
     },
     "execution_count": 123,
     "metadata": {},
     "output_type": "execute_result"
    }
   ],
   "source": [
    "utils.caption(4, \"Writing TF enrichment features\")\n",
    "TF = Fabric(locations=thisTempTf, silent=True)\n",
    "TF.save(nodeFeatures=nodeFeatures, edgeFeatures={}, metaData=metaData)"
   ]
  },
  {
   "cell_type": "markdown",
   "metadata": {},
   "source": [
    "# Diffs\n",
    "\n",
    "Check differences with previous versions."
   ]
  },
  {
   "cell_type": "markdown",
   "metadata": {
    "lines_to_next_cell": 2
   },
   "source": [
    "In[51]:"
   ]
  },
  {
   "cell_type": "code",
   "execution_count": 51,
   "metadata": {
    "lines_to_next_cell": 2
   },
   "outputs": [
    {
     "name": "stdout",
     "output_type": "stream",
     "text": [
      "..............................................................................................\n",
      ".     17m 47s Check differences with previous version                                        .\n",
      "..............................................................................................\n",
      "|     17m 47s \t9 features to add\n",
      "|     17m 47s \t\tcfunction\n",
      "|     17m 47s \t\tf_correction\n",
      "|     17m 47s \t\tgrammatical\n",
      "|     17m 47s \t\tlexical\n",
      "|     17m 47s \t\toriginal\n",
      "|     17m 47s \t\tpredication\n",
      "|     17m 47s \t\ts_manual\n",
      "|     17m 47s \t\tsemantic\n",
      "|     17m 47s \t\tvalence\n",
      "|     17m 47s \tno features to delete\n",
      "|     17m 47s \t0 features in common\n",
      "|     17m 47s Done\n"
     ]
    }
   ],
   "source": [
    "utils.checkDiffs(thisTempTf, thisTf, only=set(nodeFeatures))"
   ]
  },
  {
   "cell_type": "markdown",
   "metadata": {},
   "source": [
    "# Deliver\n",
    "\n",
    "Copy the new TF features from the temporary location where they have been created to their final destination."
   ]
  },
  {
   "cell_type": "markdown",
   "metadata": {
    "lines_to_next_cell": 2
   },
   "source": [
    "In[52]:"
   ]
  },
  {
   "cell_type": "code",
   "execution_count": 52,
   "metadata": {
    "lines_to_next_cell": 2
   },
   "outputs": [
    {
     "name": "stdout",
     "output_type": "stream",
     "text": [
      "..............................................................................................\n",
      ".     17m 52s Deliver features to /Users/dirk/github/etcbc/valence/tf/2021                   .\n",
      "..............................................................................................\n",
      "|     17m 52s \tvalence\n",
      "|     17m 52s \tpredication\n",
      "|     17m 52s \tgrammatical\n",
      "|     17m 52s \toriginal\n",
      "|     17m 52s \tlexical\n",
      "|     17m 52s \tsemantic\n",
      "|     17m 52s \tf_correction\n",
      "|     17m 52s \ts_manual\n",
      "|     17m 52s \tcfunction\n"
     ]
    }
   ],
   "source": [
    "utils.deliverFeatures(thisTempTf, thisTf, nodeFeatures)"
   ]
  },
  {
   "cell_type": "markdown",
   "metadata": {},
   "source": [
    "# Compile TF"
   ]
  },
  {
   "cell_type": "markdown",
   "metadata": {
    "lines_to_next_cell": 2
   },
   "source": [
    "In[53]:"
   ]
  },
  {
   "cell_type": "code",
   "execution_count": null,
   "metadata": {},
   "outputs": [],
   "source": [
    "utils.caption(4, \"Load and compile the new TF features\")"
   ]
  },
  {
   "cell_type": "code",
   "execution_count": 53,
   "metadata": {
    "lines_to_next_cell": 2
   },
   "outputs": [
    {
     "name": "stdout",
     "output_type": "stream",
     "text": [
      "..............................................................................................\n",
      ".     18m 02s Load and compile the new TF features                                           .\n",
      "..............................................................................................\n",
      "This is Text-Fabric 8.5.13\n",
      "Api reference : https://annotation.github.io/text-fabric/tf/cheatsheet.html\n",
      "\n",
      "97 features found and 0 ignored\n",
      "  0.00s loading features ...\n",
      "   |     0.00s Dataset without structure sections in otext:no structure functions in the T-API\n",
      "   |     0.54s T valence              from ~/github/etcbc/valence/tf/2021\n",
      "   |     0.57s T predication          from ~/github/etcbc/valence/tf/2021\n",
      "   |     0.49s T grammatical          from ~/github/etcbc/valence/tf/2021\n",
      "   |     0.32s T original             from ~/github/etcbc/valence/tf/2021\n",
      "   |     0.41s T lexical              from ~/github/etcbc/valence/tf/2021\n",
      "   |     0.36s T semantic             from ~/github/etcbc/valence/tf/2021\n",
      "   |     0.25s T f_correction         from ~/github/etcbc/valence/tf/2021\n",
      "   |     0.25s T s_manual             from ~/github/etcbc/valence/tf/2021\n",
      "   |     0.31s T cfunction            from ~/github/etcbc/valence/tf/2021\n",
      "  7.49s All features loaded/computed - for details use loadLog()\n"
     ]
    },
    {
     "data": {
      "text/plain": [
       "[('Computed',\n",
       "  'computed-data',\n",
       "  ('C Computed', 'Call AllComputeds', 'Cs ComputedString')),\n",
       " ('Features', 'edge-features', ('E Edge', 'Eall AllEdges', 'Es EdgeString')),\n",
       " ('Fabric', 'loading', ('TF',)),\n",
       " ('Locality', 'locality', ('L Locality',)),\n",
       " ('Nodes', 'navigating-nodes', ('N Nodes',)),\n",
       " ('Features',\n",
       "  'node-features',\n",
       "  ('F Feature', 'Fall AllFeatures', 'Fs FeatureString')),\n",
       " ('Search', 'search', ('S Search',)),\n",
       " ('Text', 'text', ('T Text',))]"
      ]
     },
     "execution_count": 53,
     "metadata": {},
     "output_type": "execute_result"
    }
   ],
   "source": [
    "TF = Fabric(locations=[coreTf, thisTf], modules=[\"\"])\n",
    "api = TF.load(\n",
    "    \"\"\"\n",
    "    lex gloss lex_utf8\n",
    "    sp vs lex rela typ\n",
    "    function\n",
    "\"\"\"\n",
    "    + \" \".join(nodeFeatures)\n",
    ")\n",
    "api.makeAvailableIn(globals())"
   ]
  },
  {
   "cell_type": "markdown",
   "metadata": {},
   "source": [
    "# Examples\n",
    "Take the first 10 phrases and retrieve the corrected and uncorrected function feature.\n",
    "Note that the corrected function feature is only filled in, if it occurs in a clause in which a selected verb occurs."
   ]
  },
  {
   "cell_type": "markdown",
   "metadata": {
    "lines_to_next_cell": 2
   },
   "source": [
    "In[54]:"
   ]
  },
  {
   "cell_type": "code",
   "execution_count": 54,
   "metadata": {
    "lines_to_next_cell": 2
   },
   "outputs": [
    {
     "name": "stdout",
     "output_type": "stream",
     "text": [
      "Time - Time - True\n",
      "Pred - Pred - True\n",
      "Subj - Subj - True\n",
      "Objc - Objc - True\n",
      "Conj -  - True\n",
      "Subj -  - True\n",
      "Pred -  - True\n",
      "PreC -  - True\n",
      "Conj - None - False\n",
      "Subj - None - False\n"
     ]
    }
   ],
   "source": [
    "for i in list(F.otype.s(\"phrase\"))[0:10]:\n",
    "    print(\n",
    "        \"{} - {} - {}\".format(\n",
    "            F.function.v(i),\n",
    "            F.cfunction.v(i),\n",
    "            L.u(i, \"clause\")[0] in clause_verb,\n",
    "        )\n",
    "    )"
   ]
  },
  {
   "cell_type": "markdown",
   "metadata": {
    "lines_to_next_cell": 2
   },
   "source": [
    "In[55]:"
   ]
  },
  {
   "cell_type": "code",
   "execution_count": 55,
   "metadata": {
    "lines_to_next_cell": 2
   },
   "outputs": [],
   "source": [
    "if SCRIPT:\n",
    "    stop(good=True)"
   ]
  },
  {
   "cell_type": "markdown",
   "metadata": {},
   "source": [
    "## Results\n",
    "\n",
    "We put all corrections and enrichments in a single CSV file for checking.\n",
    "\n",
    "We also generate a smaller CSV, with only the data for selected verbs in it."
   ]
  },
  {
   "cell_type": "markdown",
   "metadata": {
    "lines_to_next_cell": 2
   },
   "source": [
    "In[80]:"
   ]
  },
  {
   "cell_type": "code",
   "execution_count": null,
   "metadata": {},
   "outputs": [],
   "source": [
    "f = open(allResults, \"w\")\n",
    "g = open(selectedResults, \"w\")"
   ]
  },
  {
   "cell_type": "code",
   "execution_count": null,
   "metadata": {},
   "outputs": [],
   "source": [
    "NALLFIELDS = 17\n",
    "tpl = (\"{};\" * (NALLFIELDS - 1)) + \"{}\\n\""
   ]
  },
  {
   "cell_type": "code",
   "execution_count": null,
   "metadata": {},
   "outputs": [],
   "source": [
    "utils.caption(0, \"collecting constituents ...\")\n",
    "f.write(\n",
    "    tpl.format(\n",
    "        \"-\",\n",
    "        \"-\",\n",
    "        \"passage\",\n",
    "        \"verb(s) text\",\n",
    "        \"-\",\n",
    "        \"-\",\n",
    "        \"-\",\n",
    "        \"-\",\n",
    "        \"-\",\n",
    "        \"-\",\n",
    "        \"-\",\n",
    "        \"-\",\n",
    "        \"-\",\n",
    "        \"-\",\n",
    "        \"-\",\n",
    "        \"-\",\n",
    "        \"clause text\",\n",
    "        \"clause node\",\n",
    "    )\n",
    ")\n",
    "f.write(\n",
    "    tpl.format(\n",
    "        \"corrected\",\n",
    "        \"enriched\",\n",
    "        \"passage\",\n",
    "        \"-\",\n",
    "        \"object type\",\n",
    "        \"clause rela\",\n",
    "        \"clause type\",\n",
    "        \"phrase function (old)\",\n",
    "        \"phrase function (new)\",\n",
    "        \"phrase type\",\n",
    "        \"valence\",\n",
    "        \"predication\",\n",
    "        \"grammatical\",\n",
    "        \"original\",\n",
    "        \"lexical\",\n",
    "        \"semantic\",\n",
    "        \"object text\",\n",
    "        \"object node\",\n",
    "    )\n",
    ")\n",
    "i = 0\n",
    "h = 0\n",
    "j = 0\n",
    "c = 0\n",
    "d = 0\n",
    "CHUNK_SIZE = 10000\n",
    "sel_verbs = set(verbs)\n",
    "for cn in sorted(clause_verb):\n",
    "    c += 1\n",
    "    vrbs = sorted(clause_verb[cn])\n",
    "    lex_vrbs = {F.lex.v(verb).rstrip(\"[=\") for verb in vrbs}\n",
    "    selected = len(lex_vrbs & sel_verbs) != 0\n",
    "    if selected:\n",
    "        d += 1\n",
    "        sel_vrbs = [v for v in vrbs if F.lex.v(v).rstrip(\"[=\") in verbs]\n",
    "\n",
    "        g.write(\n",
    "            tpl.format(\n",
    "                \"\",\n",
    "                \"\",\n",
    "                \"{} {}:{}\".format(*T.sectionFromNode(cn)),\n",
    "                \" \".join(F.lex.v(verb) for verb in sel_vrbs),\n",
    "                \"\",\n",
    "                \"\",\n",
    "                \"\",\n",
    "                \"\",\n",
    "                \"\",\n",
    "                \"\",\n",
    "                \"\",\n",
    "                \"\",\n",
    "                \"\",\n",
    "                \"\",\n",
    "                \"\",\n",
    "                \"\",\n",
    "                T.text(L.d(cn, \"word\"), fmt=\"text-trans-plain\"),\n",
    "                cn,\n",
    "            )\n",
    "        )\n",
    "\n",
    "    f.write(\n",
    "        tpl.format(\n",
    "            \"\",\n",
    "            \"\",\n",
    "            \"{} {}:{}\".format(*T.sectionFromNode(cn)),\n",
    "            \" \".join(F.lex.v(verb) for verb in vrbs),\n",
    "            \"\",\n",
    "            \"\",\n",
    "            \"\",\n",
    "            \"\",\n",
    "            \"\",\n",
    "            \"\",\n",
    "            \"\",\n",
    "            \"\",\n",
    "            \"\",\n",
    "            \"\",\n",
    "            \"\",\n",
    "            \"\",\n",
    "            T.text(L.d(cn, \"word\"), fmt=\"text-trans-plain\"),\n",
    "            cn,\n",
    "        )\n",
    "    )\n",
    "    for pn in L.d(cn, \"phrase\"):\n",
    "        i += 1\n",
    "        if selected:\n",
    "            h += 1\n",
    "        j += 1\n",
    "        if j == CHUNK_SIZE:\n",
    "            j = 0\n",
    "            utils.caption(\n",
    "                0,\n",
    "                \"{:>6} selected of {:>6} constituents in {:>5} selected of {:>5} clauses ...\".format(\n",
    "                    h, i, d, c\n",
    "                ),\n",
    "            )\n",
    "\n",
    "        material = tpl.format(\n",
    "            \"COR\" if F.f_correction.v(pn) == \"y\" else \"\",\n",
    "            \"MAN\" if F.s_manual.v(pn) == \"y\" else \"\",\n",
    "            \"{} {}:{}\".format(*T.sectionFromNode(pn)),\n",
    "            \"\",\n",
    "            \"phrase\",\n",
    "            \"\",\n",
    "            \"\",\n",
    "            F.function.v(pn),\n",
    "            F.cfunction.v(pn),\n",
    "            F.typ.v(pn),\n",
    "            F.valence.v(pn),\n",
    "            F.predication.v(pn),\n",
    "            F.grammatical.v(pn),\n",
    "            F.original.v(pn),\n",
    "            F.lexical.v(pn),\n",
    "            F.semantic.v(pn),\n",
    "            T.text(L.d(pn, \"word\"), fmt=\"text-trans-plain\"),\n",
    "            pn,\n",
    "        )\n",
    "        f.write(material)\n",
    "        if selected:\n",
    "            g.write(material)\n",
    "    for scn in clause_objects[cn]:\n",
    "        i += 1\n",
    "        if selected:\n",
    "            h += 1\n",
    "        j += 1\n",
    "        if j == CHUNK_SIZE:\n",
    "            j = 0\n",
    "            utils.caption(0, \"{:>6} constituents in {:>5} clauses ...\".format(i, c))\n",
    "        material = tpl.format(\n",
    "            \"\",\n",
    "            \"\",\n",
    "            \"{} {}:{}\".format(*T.sectionFromNode(scn)),\n",
    "            \"\",\n",
    "            \"clause\",\n",
    "            F.rela.v(scn),\n",
    "            F.typ.v(scn),\n",
    "            \"\",\n",
    "            \"\",\n",
    "            \"\",\n",
    "            F.valence.v(scn),\n",
    "            F.predication.v(scn),\n",
    "            F.grammatical.v(scn),\n",
    "            F.original.v(scn),\n",
    "            F.lexical.v(scn),\n",
    "            F.semantic.v(scn),\n",
    "            T.text(L.d(scn, \"word\"), fmt=\"text-trans-plain\"),\n",
    "            scn,\n",
    "        )\n",
    "        f.write(material)\n",
    "        if selected:\n",
    "            g.write(material)"
   ]
  },
  {
   "cell_type": "code",
   "execution_count": 80,
   "metadata": {
    "lines_to_next_cell": 2
   },
   "outputs": [
    {
     "name": "stdout",
     "output_type": "stream",
     "text": [
      "    29s collecting constituents ...\n",
      "    30s   2439 selected of  10000 constituents in   698 selected of  3065 clauses ...\n",
      "    30s   4980 selected of  20000 constituents in  1444 selected of  6135 clauses ...\n",
      "    31s   8078 selected of  30000 constituents in  2299 selected of  9096 clauses ...\n",
      "    32s  10451 selected of  40000 constituents in  2965 selected of 12043 clauses ...\n",
      "    33s  13045 selected of  50000 constituents in  3714 selected of 15059 clauses ...\n",
      "    34s  15631 selected of  60000 constituents in  4470 selected of 18127 clauses ...\n",
      "    35s  18574 selected of  70000 constituents in  5306 selected of 21091 clauses ...\n",
      "    35s  21265 selected of  80000 constituents in  6133 selected of 24167 clauses ...\n",
      "    36s  24093 selected of  90000 constituents in  6962 selected of 27182 clauses ...\n",
      "    37s  26843 selected of 100000 constituents in  7780 selected of 30269 clauses ...\n",
      "    38s  29681 selected of 110000 constituents in  8674 selected of 33442 clauses ...\n",
      "    39s  31693 selected of 120000 constituents in  9317 selected of 36908 clauses ...\n",
      "    40s  33939 selected of 130000 constituents in 10005 selected of 40260 clauses ...\n",
      "    41s  36358 selected of 140000 constituents in 10736 selected of 43403 clauses ...\n",
      "    41s  39112 selected of 150000 constituents in 11553 selected of 46527 clauses ...\n",
      "    42s  41480 selected of 160000 constituents in 12281 selected of 49785 clauses ...\n",
      "    43s  43089 selected of 170000 constituents in 12801 selected of 53363 clauses ...\n",
      "    44s  44771 selected of 180000 constituents in 13374 selected of 56977 clauses ...\n",
      "    45s  46274 selected of 190000 constituents in 13878 selected of 60445 clauses ...\n",
      "    46s  48402 selected of 200000 constituents in 14534 selected of 63713 clauses ...\n",
      "    46s  50643 selected of 210000 constituents in 15165 selected of 66711 clauses ...\n",
      "    47s  53369 selected of 220000 constituents in 15936 selected of 69702 clauses ...\n",
      "    47s  53802 selected of 221472 constituents in 16053 selected of 70131 clauses done\n"
     ]
    }
   ],
   "source": [
    "f.close()\n",
    "g.close()\n",
    "utils.caption(\n",
    "    0,\n",
    "    \"{:>6} selected of {:>6} constituents in {:>5} selected of {:>5} clauses done\".format(\n",
    "        h, i, d, c\n",
    "    ),\n",
    ")"
   ]
  },
  {
   "cell_type": "markdown",
   "metadata": {
    "lines_to_next_cell": 2
   },
   "source": [
    "In[81]:"
   ]
  },
  {
   "cell_type": "code",
   "execution_count": 81,
   "metadata": {},
   "outputs": [
    {
     "name": "stdout",
     "output_type": "stream",
     "text": [
      "Cmpl\n",
      "True\n",
      "False\n",
      "\n"
     ]
    }
   ],
   "source": [
    "x = 671522\n",
    "print(pf_corr.get(x, F.function.v(x)))\n",
    "print(is_lex_local(\"FJM\", x))\n",
    "print(x in rule_cases[\"specific\"][\"phrase\"][(\"FJM\", 2)])\n",
    "print(F.lexical.v(x))"
   ]
  }
 ],
 "metadata": {
  "kernelspec": {
   "display_name": "Python 3 (ipykernel)",
   "language": "python",
   "name": "python3"
  },
  "language_info": {
   "codemirror_mode": {
    "name": "ipython",
    "version": 3
   },
   "file_extension": ".py",
   "mimetype": "text/x-python",
   "name": "python",
   "nbconvert_exporter": "python",
   "pygments_lexer": "ipython3",
   "version": "3.10.0"
  },
  "widgets": {
   "application/vnd.jupyter.widget-state+json": {
    "state": {},
    "version_major": 2,
    "version_minor": 0
   }
  }
 },
 "nbformat": 4,
 "nbformat_minor": 4
}
