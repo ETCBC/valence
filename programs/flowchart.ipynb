{
 "cells": [
  {
   "cell_type": "code",
   "execution_count": null,
   "metadata": {
    "collapsed": true,
    "lines_to_next_cell": 0
   },
   "outputs": [],
   "source": []
  },
  {
   "cell_type": "markdown",
   "metadata": {},
   "source": [
    "<img align=\"right\" src=\"images/dans-small.png\"/>\n",
    "<img align=\"right\" src=\"images/tf-small.png\"/>\n",
    "<img align=\"right\" src=\"images/etcbc.png\"/>\n",
    "\n",
    "\n",
    "# Verbal valence\n",
    "\n",
    "*Verbal valence* is a kind of signature of a verb, not unlike overloading in programming languages.\n",
    "The meaning of a verb depends on the number and kind of its complements, i.e. the linguistic entities that act as arguments for the semantic function of the verb.\n",
    "\n",
    "We will use a set of flowcharts to specify and compute the sense of a verb in specific contexts depending on the verbal valence. The flowcharts have been composed by Janet Dyk. Although they are not difficult to understand, it takes a good deal of ingenuity to apply them in all the real world situations that we encounter in our corpus.\n",
    "\n",
    "Read more in the [wiki](https://github.com/ETCBC/valence/wiki)."
   ]
  },
  {
   "cell_type": "markdown",
   "metadata": {},
   "source": [
    "# Pipeline\n",
    "See [operation](https://github.com/ETCBC/pipeline/blob/master/README.md#operation)\n",
    "for how to run this script in the pipeline."
   ]
  },
  {
   "cell_type": "code",
   "execution_count": null,
   "id": "checked-forge",
   "metadata": {
    "lines_to_next_cell": 2
   },
   "outputs": [],
   "source": [
    "import sys\n",
    "import os\n",
    "import collections\n",
    "from copy import deepcopy\n",
    "import utils\n",
    "from tf.fabric import Fabric"
   ]
  },
  {
   "cell_type": "markdown",
   "id": "lesbian-forth",
   "metadata": {
    "lines_to_next_cell": 2
   },
   "source": [
    "In[1]:"
   ]
  },
  {
   "cell_type": "code",
   "execution_count": null,
   "id": "relative-spring",
   "metadata": {},
   "outputs": [],
   "source": [
    "if \"SCRIPT\" not in locals():\n",
    "    SCRIPT = False\n",
    "    FORCE = True\n",
    "    CORE_NAME = \"bhsa\"\n",
    "    NAME = \"valence\"\n",
    "    VERSION = \"2021\"\n",
    "    CORE_MODULE = \"core\""
   ]
  },
  {
   "cell_type": "code",
   "execution_count": 1,
   "metadata": {
    "lines_to_next_cell": 2
   },
   "outputs": [],
   "source": [
    "def stop(good=False):\n",
    "    if SCRIPT:\n",
    "        sys.exit(0 if good else 1)"
   ]
  },
  {
   "cell_type": "markdown",
   "metadata": {},
   "source": [
    "## Authors\n",
    "\n",
    "[Janet Dyk and Dirk Roorda](https://github.com/ETCBC/valence/wiki/Authors)\n",
    "\n",
    "Last modified 2017-09-13."
   ]
  },
  {
   "cell_type": "markdown",
   "metadata": {},
   "source": [
    "## References\n",
    "\n",
    "[References](https://github.com/ETCBC/valence/wiki/References)"
   ]
  },
  {
   "cell_type": "markdown",
   "metadata": {},
   "source": [
    "## Data\n",
    "We have carried out the valence project against the Hebrew Text Database of the BHSA, version `4b`.\n",
    "See the description of the [sources](https://github.com/ETCBC/valence/wiki/Sources).\n",
    "\n",
    "However, we can run our stuff also against the newer versions.\n",
    "\n",
    "We also make use of corrected and enriched data delivered by the\n",
    "[enrich notebook](enrich.ipynb).\n",
    "The features of that data module are specified\n",
    "[here](https://github.com/ETCBC/valence/wiki/Data)."
   ]
  },
  {
   "cell_type": "markdown",
   "metadata": {},
   "source": [
    "## Results\n",
    "\n",
    "We produce a text-fabric feature `sense` with the sense labels per verb occurrence, and add\n",
    "this to the *valence* data module created in the\n",
    "[enrich](enrich.ipynb) notebook.\n",
    "\n",
    "We also show the results in\n",
    "[SHEBANQ](https://shebanq.ancient-data.org), the website of the ETCBC that exposes its Hebrew Text Database in such a way\n",
    "that users can query it, save their queries, add manual annotations and even upload bulks of generated annotations.\n",
    "That is exactly what we do: the valency results are visible in SHEBANQ in notes view, so that every outcome can be viewed in context."
   ]
  },
  {
   "cell_type": "markdown",
   "metadata": {},
   "source": [
    "# Flowchart logic\n",
    "\n",
    "Valence flowchart logic translates the verb context into a label that is characteristic for the context.\n",
    "You could say, it is a fingerprint of the context.\n",
    "Verb meanings are complex, depending on context. It turns out that we can organize\n",
    "the meaning selection of verbs around these finger prints.\n",
    "\n",
    "For each verb, the we can specify a *flowchart* as a mapping of fingerprints to concrete meanings.\n",
    "We have flowcharts for a limited, but open set of verbs.\n",
    "They are listed in the\n",
    "[wiki](https://github.com/ETCBC/valence/wiki),\n",
    "and will be referred to from the resulting valence annotations in SHEBANQ.\n",
    "\n",
    "For each verb, the flowchart is represented as a mapping of *sense labels* to meaning templates.\n",
    "A sense label is a code for the presence and nature of direct objects and  complements that are present in the context.\n",
    "See the [legend](https://github.com/ETCBC/valence/wiki/Legend) of sense labels.\n",
    "\n",
    "The interesting part is the *sense template*,\n",
    "which consist of a translation text augmented with placeholders for the direct objects and complements.\n",
    "\n",
    "See for example the flowchart of [NTN](https://github.com/ETCBC/valence/wiki/FC_NTN).\n",
    "\n",
    "* `{verb}` the verb occurrence in question\n",
    "* `{pdos}` principal direct objects (phrase)\n",
    "* `{kdos}` K-objects (phrase)\n",
    "* `{ldos}` L-objects (phrase)\n",
    "* `{ndos}` direct objects (phrase) (none of the above)\n",
    "* `{idos}` infinitive construct (clause) objects\n",
    "* `{cdos}` direct objects (clause) (none of the above)\n",
    "* `{inds}` indirect objects\n",
    "* `{bens}` benefactive adjuncts\n",
    "* `{locs}` locatives\n",
    "* `{cpls}` complements, not marked as either indirect object or locative\n",
    "\n",
    "In case there are multiple entities, the algorithm returns them chunked as phrases/clauses.\n",
    "\n",
    "Apart from the template, there is also a *status* and an optional *account*.\n",
    "\n",
    "The status is ``!`` in normal cases, ``?`` in dubious cases, and ``-`` in erroneous cases.\n",
    "In SHEBANQ these statuses are translated into colors of the notes (blue/orange/red).\n",
    "\n",
    "The account contains information about the grounds of which the algorithm has arrived at its conclusions."
   ]
  },
  {
   "cell_type": "markdown",
   "id": "honest-resident",
   "metadata": {
    "lines_to_next_cell": 2
   },
   "source": [
    "In[2]:"
   ]
  },
  {
   "cell_type": "code",
   "execution_count": null,
   "id": "tracked-standing",
   "metadata": {},
   "outputs": [],
   "source": [
    "senses = set(\n",
    "    \"\"\"\n",
    "<FH\n",
    "BR>\n",
    "CJT\n",
    "DBQ\n",
    "FJM\n",
    "NTN\n",
    "QR>\n",
    "ZQN\n",
    "\"\"\".strip().split()\n",
    ")"
   ]
  },
  {
   "cell_type": "code",
   "execution_count": null,
   "id": "hindu-parallel",
   "metadata": {},
   "outputs": [],
   "source": [
    "senseLabels = \"\"\"\n",
    "--\n",
    "-i\n",
    "-b\n",
    "-p\n",
    "-c\n",
    "d-\n",
    "di\n",
    "db\n",
    "dp\n",
    "dc\n",
    "n.\n",
    "l.\n",
    "k.\n",
    "i.\n",
    "c.\n",
    "\"\"\".strip().split()"
   ]
  },
  {
   "cell_type": "code",
   "execution_count": 2,
   "metadata": {
    "lines_to_next_cell": 2
   },
   "outputs": [],
   "source": [
    "constKindSpecs = \"\"\"\n",
    "verb:verb\n",
    "dos:direct object\n",
    "pdos:principal direct object\n",
    "kdos:K-object\n",
    "ldos:L-object\n",
    "ndos:NP-object\n",
    "idos:infinitive object clause\n",
    "cdos:direct object clause\n",
    "inds:indirect object\n",
    "bens:benefactive\n",
    "locs:locative\n",
    "cpls:complement\n",
    "\"\"\".strip().split(\n",
    "    \"\\n\"\n",
    ")"
   ]
  },
  {
   "cell_type": "markdown",
   "metadata": {},
   "source": [
    "# Results\n",
    "\n",
    "The complete set of results is in SHEBANQ.\n",
    "It is the note set\n",
    "[valence](https://shebanq.ancient-data.org/hebrew/note?version=4b&id=Mnx2YWxlbmNl&tp=txt_tb1&nget=v)."
   ]
  },
  {
   "cell_type": "markdown",
   "metadata": {},
   "source": [
    "# Firing up the engines"
   ]
  },
  {
   "cell_type": "markdown",
   "metadata": {},
   "source": [
    "# Setting up the context: source file and target directories\n",
    "\n",
    "The conversion is executed in an environment of directories, so that sources, temp files and\n",
    "results are in convenient places and do not have to be shifted around."
   ]
  },
  {
   "cell_type": "markdown",
   "id": "marine-austria",
   "metadata": {
    "lines_to_next_cell": 2
   },
   "source": [
    "In[4]:"
   ]
  },
  {
   "cell_type": "code",
   "execution_count": null,
   "id": "royal-hundred",
   "metadata": {},
   "outputs": [],
   "source": [
    "repoBase = os.path.expanduser(\"~/github/etcbc\")\n",
    "coreRepo = \"{}/{}\".format(repoBase, CORE_NAME)\n",
    "thisRepo = \"{}/{}\".format(repoBase, NAME)"
   ]
  },
  {
   "cell_type": "code",
   "execution_count": null,
   "id": "unable-tuning",
   "metadata": {},
   "outputs": [],
   "source": [
    "coreTf = \"{}/tf/{}\".format(coreRepo, VERSION)"
   ]
  },
  {
   "cell_type": "code",
   "execution_count": null,
   "id": "olive-anxiety",
   "metadata": {},
   "outputs": [],
   "source": [
    "thisSource = \"{}/source/{}\".format(thisRepo, VERSION)\n",
    "thisTemp = \"{}/_temp/{}\".format(thisRepo, VERSION)\n",
    "thisTempTf = \"{}/tf\".format(thisTemp)"
   ]
  },
  {
   "cell_type": "code",
   "execution_count": 4,
   "metadata": {
    "lines_to_next_cell": 2
   },
   "outputs": [],
   "source": [
    "thisTf = \"{}/tf/{}\".format(thisRepo, VERSION)\n",
    "thisNotes = \"{}/shebanq/{}\".format(thisRepo, VERSION)"
   ]
  },
  {
   "cell_type": "markdown",
   "id": "composed-ivory",
   "metadata": {
    "lines_to_next_cell": 2
   },
   "source": [
    "In[5]:"
   ]
  },
  {
   "cell_type": "code",
   "execution_count": null,
   "id": "productive-arnold",
   "metadata": {},
   "outputs": [],
   "source": [
    "notesFile = \"valenceNotes.csv\"\n",
    "flowchartBase = \"https://github.com/ETCBC/valence/wiki\""
   ]
  },
  {
   "cell_type": "code",
   "execution_count": 5,
   "metadata": {
    "lines_to_next_cell": 2
   },
   "outputs": [],
   "source": [
    "if not os.path.exists(thisNotes):\n",
    "    os.makedirs(thisNotes)"
   ]
  },
  {
   "cell_type": "markdown",
   "metadata": {},
   "source": [
    "# Test\n",
    "\n",
    "Check whether this conversion is needed in the first place.\n",
    "Only when run as a script."
   ]
  },
  {
   "cell_type": "markdown",
   "id": "infinite-greek",
   "metadata": {
    "lines_to_next_cell": 2
   },
   "source": [
    "In[6]:"
   ]
  },
  {
   "cell_type": "code",
   "execution_count": 6,
   "metadata": {
    "lines_to_next_cell": 2
   },
   "outputs": [],
   "source": [
    "if SCRIPT:\n",
    "    (good, work) = utils.mustRun(\n",
    "        None, \"{}/.tf/{}.tfx\".format(thisTf, \"sense\"), force=FORCE\n",
    "    )\n",
    "    if not good:\n",
    "        stop(good=False)\n",
    "    if not work:\n",
    "        stop(good=True)"
   ]
  },
  {
   "cell_type": "markdown",
   "metadata": {},
   "source": [
    "# Loading the feature data\n",
    "\n",
    "We load the features we need from the BHSA core database and from the valence module,\n",
    "as far as generated by the\n",
    "[enrich](https://github.com/ETCBC/valence/blob/master/programs/enrich.ipynb) notebook."
   ]
  },
  {
   "cell_type": "markdown",
   "id": "liked-athletics",
   "metadata": {
    "lines_to_next_cell": 2
   },
   "source": [
    "In[7]:"
   ]
  },
  {
   "cell_type": "code",
   "execution_count": 7,
   "metadata": {
    "lines_to_next_cell": 2
   },
   "outputs": [
    {
     "name": "stdout",
     "output_type": "stream",
     "text": [
      "..............................................................................................\n",
      ".       0.00s Load the existing TF dataset                                                   .\n",
      "..............................................................................................\n",
      "This is Text-Fabric 8.5.13\n",
      "Api reference : https://annotation.github.io/text-fabric/tf/cheatsheet.html\n",
      "\n",
      "97 features found and 0 ignored\n"
     ]
    }
   ],
   "source": [
    "utils.caption(4, \"Load the existing TF dataset\")\n",
    "TF = Fabric(locations=[coreTf, thisTf], modules=[\"\"])"
   ]
  },
  {
   "cell_type": "markdown",
   "metadata": {},
   "source": [
    "We instruct the API to load data."
   ]
  },
  {
   "cell_type": "markdown",
   "id": "allied-posting",
   "metadata": {
    "lines_to_next_cell": 2
   },
   "source": [
    "In[8]:"
   ]
  },
  {
   "cell_type": "code",
   "execution_count": 8,
   "metadata": {
    "lines_to_next_cell": 2
   },
   "outputs": [
    {
     "name": "stdout",
     "output_type": "stream",
     "text": [
      "  0.00s loading features ...\n",
      "   |     0.00s Dataset without structure sections in otext:no structure functions in the T-API\n",
      "  4.71s All features loaded/computed - for details use loadLog()\n"
     ]
    },
    {
     "data": {
      "text/plain": [
       "[('Computed',\n",
       "  'computed-data',\n",
       "  ('C Computed', 'Call AllComputeds', 'Cs ComputedString')),\n",
       " ('Features', 'edge-features', ('E Edge', 'Eall AllEdges', 'Es EdgeString')),\n",
       " ('Fabric', 'loading', ('TF',)),\n",
       " ('Locality', 'locality', ('L Locality',)),\n",
       " ('Nodes', 'navigating-nodes', ('N Nodes',)),\n",
       " ('Features',\n",
       "  'node-features',\n",
       "  ('F Feature', 'Fall AllFeatures', 'Fs FeatureString')),\n",
       " ('Search', 'search', ('S Search',)),\n",
       " ('Text', 'text', ('T Text',))]"
      ]
     },
     "execution_count": 8,
     "metadata": {},
     "output_type": "execute_result"
    }
   ],
   "source": [
    "api = TF.load(\n",
    "    \"\"\"\n",
    "    function rela typ\n",
    "    g_word_utf8 trailer_utf8\n",
    "    lex prs uvf sp pdp ls vs vt nametype gloss\n",
    "    book chapter verse label number\n",
    "    s_manual f_correction\n",
    "    valence predication grammatical original lexical semantic\n",
    "    mother\n",
    "\"\"\"\n",
    ")\n",
    "api.makeAvailableIn(globals())"
   ]
  },
  {
   "cell_type": "markdown",
   "metadata": {},
   "source": [
    "# Indicators\n",
    "\n",
    "Here we specify by what features we recognize key constituents.\n",
    "We use predominantly features that come from the correction/enrichment workflow."
   ]
  },
  {
   "cell_type": "markdown",
   "id": "trying-sodium",
   "metadata": {
    "lines_to_next_cell": 2
   },
   "source": [
    "In[9]:"
   ]
  },
  {
   "cell_type": "markdown",
   "id": "attached-remedy",
   "metadata": {},
   "source": [
    "pf ... : predication feature\n",
    "gf_... : grammatical feature\n",
    "vf_... : valence feature\n",
    "sf_... : lexical feature\n",
    "of_... : original feature"
   ]
  },
  {
   "cell_type": "code",
   "execution_count": null,
   "id": "designing-alexandria",
   "metadata": {},
   "outputs": [],
   "source": [
    "pf_predicate = {\n",
    "    \"regular\",\n",
    "}\n",
    "gf_direct_object = {\n",
    "    \"principal_direct_object\",\n",
    "    \"NP_direct_object\",\n",
    "    \"direct_object\",\n",
    "    \"L_object\",\n",
    "    \"K_object\",\n",
    "    \"infinitive_object\",\n",
    "}\n",
    "gf_indirect_object = {\n",
    "    \"indirect_object\",\n",
    "}\n",
    "gf_complement = {\n",
    "    \"*\",\n",
    "}\n",
    "sf_locative = {\n",
    "    \"location\",\n",
    "}\n",
    "sf_benefactive = {\n",
    "    \"benefactive\",\n",
    "}\n",
    "vf_locative = {\n",
    "    \"complement\",\n",
    "    \"adjunct\",\n",
    "}"
   ]
  },
  {
   "cell_type": "code",
   "execution_count": 9,
   "metadata": {
    "lines_to_next_cell": 2
   },
   "outputs": [],
   "source": [
    "verbal_stems = set(\n",
    "    \"\"\"\n",
    "    qal\n",
    "\"\"\".strip().split()\n",
    ")"
   ]
  },
  {
   "cell_type": "markdown",
   "metadata": {},
   "source": [
    "# Pronominal suffixes\n",
    "We collect the information to determine how to render pronominal suffixes on words.\n",
    "On verbs, they must be rendered *accusatively*, like `see him`.\n",
    "But on nouns, they must be rendered *genitively*, like `hand my`.\n",
    "So we make an inventory of part of speech types and the pronominal suffixes that occur on them.\n",
    "On that basis we make the translation dictionaries `pronominal suffix` and `switch_prs`.\n",
    "\n",
    "Finally, we define a function `get_prs_info` that for each word delivers the pronominal suffix info and gloss,\n",
    "if there is any, and else `(None, None)`."
   ]
  },
  {
   "cell_type": "markdown",
   "id": "great-disco",
   "metadata": {
    "lines_to_next_cell": 2
   },
   "source": [
    "In[10]:"
   ]
  },
  {
   "cell_type": "code",
   "execution_count": 10,
   "metadata": {
    "lines_to_next_cell": 2
   },
   "outputs": [
    {
     "name": "stdout",
     "output_type": "stream",
     "text": [
      "adjv  H   :    16\n",
      "adjv  HM  :    10\n",
      "adjv  J   :    25\n",
      "adjv  K   :    35\n",
      "adjv  K=  :     3\n",
      "adjv  KM  :     7\n",
      "adjv  M   :     8\n",
      "adjv  MW  :     1\n",
      "adjv  NW  :     5\n",
      "adjv  W   :    59\n",
      "adjv  absent :  9346\n",
      "advb  n/a :  4550\n",
      "art   n/a : 30386\n",
      "conj  n/a : 62722\n",
      "inrg  K   :     1\n",
      "inrg  M   :     2\n",
      "inrg  W   :     5\n",
      "inrg  absent :  1277\n",
      "intj  K   :    13\n",
      "intj  K=  :     7\n",
      "intj  KM  :     2\n",
      "intj  M   :    37\n",
      "intj  NJ  :   181\n",
      "intj  NW  :     8\n",
      "intj  W   :     3\n",
      "intj  absent :  1634\n",
      "nega  n/a :  6053\n",
      "nmpr  n/a : 33008\n",
      "prde  n/a :  2660\n",
      "prep  H   :  1019\n",
      "prep  H=  :    36\n",
      "prep  HJ  :    13\n",
      "prep  HM  :  1499\n",
      "prep  HN  :    74\n",
      "prep  HW  :   174\n",
      "prep  HWN :    19\n",
      "prep  J   :  1853\n",
      "prep  K   :  1634\n",
      "prep  K=  :   353\n",
      "prep  KM  :  1181\n",
      "prep  KN  :     2\n",
      "prep  KWN :     1\n",
      "prep  M   :   684\n",
      "prep  MW  :    68\n",
      "prep  N   :     3\n",
      "prep  N>  :     4\n",
      "prep  NJ  :   105\n",
      "prep  NW  :   539\n",
      "prep  W   :  3247\n",
      "prep  absent : 60765\n",
      "prin  n/a :  1021\n",
      "prps  n/a :  5011\n",
      "subs  H   :  1635\n",
      "subs  H=  :   108\n",
      "subs  HJ  :    58\n",
      "subs  HM  :  1417\n",
      "subs  HN  :   114\n",
      "subs  HW  :   340\n",
      "subs  HWN :    32\n",
      "subs  J   :  4332\n",
      "subs  K   :  4362\n",
      "subs  K=  :   744\n",
      "subs  KM  :  1335\n",
      "subs  KN  :    16\n",
      "subs  KWN :     7\n",
      "subs  M   :  1919\n",
      "subs  MW  :    25\n",
      "subs  N   :    29\n",
      "subs  N>  :     3\n",
      "subs  NJ  :    19\n",
      "subs  NW  :   809\n",
      "subs  W   :  7653\n",
      "subs  absent : 96548\n",
      "verb  H   :   682\n",
      "verb  H=  :    17\n",
      "verb  HJ  :     6\n",
      "verb  HM  :   121\n",
      "verb  HN  :     4\n",
      "verb  HW  :  1097\n",
      "verb  J   :   356\n",
      "verb  K   :  1089\n",
      "verb  K=  :   201\n",
      "verb  KM  :   132\n",
      "verb  KN  :     1\n",
      "verb  KWN :     2\n",
      "verb  M   :  1288\n",
      "verb  MW  :    23\n",
      "verb  N   :    15\n",
      "verb  N>  :     3\n",
      "verb  NJ  :  1016\n",
      "verb  NW  :   274\n",
      "verb  W   :   938\n",
      "verb  absent : 66445\n"
     ]
    }
   ],
   "source": [
    "prss = collections.defaultdict(lambda: collections.defaultdict(lambda: 0))\n",
    "for w in F.otype.s(\"word\"):\n",
    "    prss[F.sp.v(w)][F.prs.v(w)] += 1\n",
    "if not SCRIPT:\n",
    "    for sp in sorted(prss):\n",
    "        for prs in sorted(prss[sp]):\n",
    "            print(\"{:<5} {:<3} : {:>5}\".format(sp, prs, prss[sp][prs]))"
   ]
  },
  {
   "cell_type": "markdown",
   "id": "genuine-enterprise",
   "metadata": {
    "lines_to_next_cell": 2
   },
   "source": [
    "In[11]:"
   ]
  },
  {
   "cell_type": "code",
   "execution_count": null,
   "id": "pending-research",
   "metadata": {},
   "outputs": [],
   "source": [
    "pronominal_suffix = {\n",
    "    \"accusative\": {\n",
    "        \"W\": (\"p3-sg-m\", \"him\"),\n",
    "        \"K\": (\"p2-sg-m\", \"you:m\"),\n",
    "        \"J\": (\"p1-sg-\", \"me\"),\n",
    "        \"M\": (\"p3-pl-m\", \"them:mm\"),\n",
    "        \"H\": (\"p3-sg-f\", \"her\"),\n",
    "        \"HM\": (\"p3-pl-m\", \"them:mm\"),\n",
    "        \"KM\": (\"p2-pl-m\", \"you:mm\"),\n",
    "        \"NW\": (\"p1-pl-\", \"us\"),\n",
    "        \"HW\": (\"p3-sg-m\", \"him\"),\n",
    "        \"NJ\": (\"p1-sg-\", \"me\"),\n",
    "        \"K=\": (\"p2-sg-f\", \"you:f\"),\n",
    "        \"HN\": (\"p3-pl-f\", \"them:ff\"),\n",
    "        \"MW\": (\"p3-pl-m\", \"them:mm\"),\n",
    "        \"N\": (\"p3-pl-f\", \"them:ff\"),\n",
    "        \"KN\": (\"p2-pl-f\", \"you:ff\"),\n",
    "    },\n",
    "    \"genitive\": {\n",
    "        \"W\": (\"p3-sg-m\", \"his\"),\n",
    "        \"K\": (\"p2-sg-m\", \"your:m\"),\n",
    "        \"J\": (\"p1-sg-\", \"my\"),\n",
    "        \"M\": (\"p3-pl-m\", \"their:mm\"),\n",
    "        \"H\": (\"p3-sg-f\", \"her\"),\n",
    "        \"HM\": (\"p3-pl-m\", \"their:mm\"),\n",
    "        \"KM\": (\"p2-pl-m\", \"your:mm\"),\n",
    "        \"NW\": (\"p1-pl-\", \"our\"),\n",
    "        \"HW\": (\"p3-sg-m\", \"his\"),\n",
    "        \"NJ\": (\"p1-sg-\", \"my\"),\n",
    "        \"K=\": (\"p2-sg-f\", \"your:f\"),\n",
    "        \"HN\": (\"p3-pl-f\", \"their:ff\"),\n",
    "        \"MW\": (\"p3-pl-m\", \"their:mm\"),\n",
    "        \"N\": (\"p3-pl-f\", \"their:ff\"),\n",
    "        \"KN\": (\"p2-pl-f\", \"your:ff\"),\n",
    "    },\n",
    "}\n",
    "switch_prs = dict(\n",
    "    subs=\"genitive\",\n",
    "    verb=\"accusative\",\n",
    "    prep=\"accusative\",\n",
    "    conj=None,\n",
    "    nmpr=None,\n",
    "    art=None,\n",
    "    adjv=\"genitive\",\n",
    "    nega=None,\n",
    "    prps=None,\n",
    "    advb=None,\n",
    "    prde=None,\n",
    "    intj=\"accusative\",\n",
    "    inrg=\"genitive\",\n",
    "    prin=None,\n",
    ")"
   ]
  },
  {
   "cell_type": "code",
   "execution_count": 11,
   "metadata": {
    "lines_to_next_cell": 2
   },
   "outputs": [],
   "source": [
    "def get_prs_info(w):\n",
    "    sp = F.sp.v(w)\n",
    "    prs = F.prs.v(w)\n",
    "    switch = switch_prs[sp]\n",
    "    return pronominal_suffix.get(switch, {}).get(prs, (None, None))"
   ]
  },
  {
   "cell_type": "markdown",
   "metadata": {},
   "source": [
    "# Making a verb-clause index\n",
    "\n",
    "We generate an index which gives for each verb lexeme a list of clauses that have that lexeme as the main verb.\n",
    "In the index we store the clause node together with the word node(s) that carries the main verb(s).\n",
    "\n",
    "Clauses may have multiple verbs. In many cases it is a copula plus an other verb.\n",
    "In those cases, we are interested in the other verb, so we exclude copulas.\n",
    "\n",
    "Yet, there are also sentences with more than one main verb.\n",
    "In those cases, we treat both verbs separately as main verb of one and the same clause."
   ]
  },
  {
   "cell_type": "markdown",
   "id": "metropolitan-adventure",
   "metadata": {
    "lines_to_next_cell": 2
   },
   "source": [
    "In[12]:"
   ]
  },
  {
   "cell_type": "code",
   "execution_count": null,
   "id": "judicial-villa",
   "metadata": {},
   "outputs": [],
   "source": [
    "utils.caption(4, \"Making the verb-clause index\")\n",
    "occs = collections.defaultdict(\n",
    "    list\n",
    ")  # dictionary of all verb occurrence nodes per verb lexeme\n",
    "verb_clause = collections.defaultdict(\n",
    "    list\n",
    ")  # dictionary of all verb occurrence nodes per clause node\n",
    "clause_verb = (\n",
    "    collections.OrderedDict()\n",
    ")  # idem but for the occurrences of selected verbs"
   ]
  },
  {
   "cell_type": "code",
   "execution_count": 12,
   "metadata": {
    "lines_to_next_cell": 2
   },
   "outputs": [
    {
     "name": "stdout",
     "output_type": "stream",
     "text": [
      "..............................................................................................\n",
      ".         24s Making the verb-clause index                                                   .\n",
      "..............................................................................................\n",
      "|         26s \tDone (69439 clauses)\n"
     ]
    }
   ],
   "source": [
    "for w in F.otype.s(\"word\"):\n",
    "    if F.sp.v(w) != \"verb\":\n",
    "        continue\n",
    "    lex = F.lex.v(w).rstrip(\"[\")\n",
    "    pf = F.predication.v(L.u(w, \"phrase\")[0])\n",
    "    if pf in pf_predicate:\n",
    "        cn = L.u(w, \"clause\")[0]\n",
    "        clause_verb.setdefault(cn, []).append(w)\n",
    "        verb_clause[lex].append((cn, w))\n",
    "utils.caption(0, \"\\tDone ({} clauses)\".format(len(clause_verb)))"
   ]
  },
  {
   "cell_type": "markdown",
   "metadata": {},
   "source": [
    "# (Indirect) Objects, Locatives, Benefactives"
   ]
  },
  {
   "cell_type": "markdown",
   "id": "technical-birthday",
   "metadata": {
    "lines_to_next_cell": 2
   },
   "source": [
    "In[13]:"
   ]
  },
  {
   "cell_type": "code",
   "execution_count": null,
   "id": "contrary-martial",
   "metadata": {},
   "outputs": [],
   "source": [
    "utils.caption(4, \"Finding key constituents\")\n",
    "constituents = collections.defaultdict(lambda: collections.defaultdict(set))\n",
    "ckinds = \"\"\"\n",
    "    dos pdos ndos kdos ldos idos cdos inds locs cpls bens\n",
    "\"\"\".strip().split()"
   ]
  },
  {
   "cell_type": "code",
   "execution_count": null,
   "id": "delayed-bikini",
   "metadata": {},
   "outputs": [],
   "source": [
    "# go through all relevant clauses and collect all types of direct objects\n",
    "for c in clause_verb:\n",
    "    these_constituents = collections.defaultdict(set)\n",
    "    # phrase like constituents\n",
    "    for p in L.d(c, \"phrase\"):\n",
    "        gf = F.grammatical.v(p)\n",
    "        of = F.original.v(p)\n",
    "        sf = F.semantic.v(p)\n",
    "        vf = F.valence.v(p)\n",
    "        ckind = None\n",
    "        if gf in gf_direct_object:\n",
    "            if gf == \"principal_direct_object\":\n",
    "                ckind = \"pdos\"\n",
    "            elif gf == \"NP_direct_object\":\n",
    "                ckind = \"ndos\"\n",
    "            elif gf == \"L_object\":\n",
    "                ckind = \"ldos\"\n",
    "            elif gf == \"K_object\":\n",
    "                ckind = \"kdos\"\n",
    "            else:\n",
    "                ckind = \"dos\"\n",
    "        elif gf in gf_indirect_object:\n",
    "            ckind = \"inds\"\n",
    "        elif sf and sf in sf_benefactive:\n",
    "            ckind = \"bens\"\n",
    "        elif sf in sf_locative and vf in vf_locative:\n",
    "            ckind = \"locs\"\n",
    "        elif gf in gf_complement:\n",
    "            ckind = \"cpls\"\n",
    "        if ckind:\n",
    "            these_constituents[ckind].add(p)\n",
    "\n",
    "    # clause like constituents: only look for object clauses dependent on this clause\n",
    "    for ac in L.d(L.u(c, \"sentence\")[0], \"clause\"):\n",
    "        dep = list(E.mother.f(ac))\n",
    "        if len(dep) and dep[0] == c:\n",
    "            gf = F.grammatical.v(ac)\n",
    "            ckind = None\n",
    "            if gf in gf_direct_object:\n",
    "                if gf == \"direct_object\":\n",
    "                    ckind = \"cdos\"\n",
    "                elif gf == \"infinitive_object\":\n",
    "                    ckind = \"idos\"\n",
    "            if ckind:\n",
    "                these_constituents[ckind].add(ac)\n",
    "\n",
    "    for ckind in these_constituents:\n",
    "        constituents[c][ckind] |= these_constituents[ckind]"
   ]
  },
  {
   "cell_type": "code",
   "execution_count": 13,
   "metadata": {
    "lines_to_next_cell": 2
   },
   "outputs": [
    {
     "name": "stdout",
     "output_type": "stream",
     "text": [
      "..............................................................................................\n",
      ".         39s Finding key constituents                                                       .\n",
      "..............................................................................................\n",
      "|         42s \tDone, 47619 clauses with relevant constituents\n"
     ]
    }
   ],
   "source": [
    "utils.caption(\n",
    "    0, \"\\tDone, {} clauses with relevant constituents\".format(len(constituents))\n",
    ")"
   ]
  },
  {
   "cell_type": "markdown",
   "id": "celtic-psychiatry",
   "metadata": {
    "lines_to_next_cell": 2
   },
   "source": [
    "In[14]:"
   ]
  },
  {
   "cell_type": "code",
   "execution_count": null,
   "id": "embedded-finding",
   "metadata": {},
   "outputs": [],
   "source": [
    "def makegetGloss():\n",
    "    if \"lex\" in F.otype.all:\n",
    "\n",
    "        def _getGloss(w):\n",
    "            gloss = F.gloss.v(L.u(w, \"lex\")[0])\n",
    "            return \"?\" if gloss is None else gloss\n",
    "\n",
    "    else:\n",
    "\n",
    "        def _getGloss(w):\n",
    "            gloss = F.gloss.v(w)\n",
    "            return \"?\" if gloss is None else gloss\n",
    "\n",
    "    return _getGloss"
   ]
  },
  {
   "cell_type": "code",
   "execution_count": 14,
   "metadata": {
    "lines_to_next_cell": 2
   },
   "outputs": [],
   "source": [
    "getGloss = makegetGloss()"
   ]
  },
  {
   "cell_type": "markdown",
   "id": "spectacular-shark",
   "metadata": {
    "lines_to_next_cell": 2
   },
   "source": [
    "In[15]:"
   ]
  },
  {
   "cell_type": "code",
   "execution_count": null,
   "id": "confused-marks",
   "metadata": {},
   "outputs": [],
   "source": [
    "testcases = (\n",
    "    #    426955,\n",
    "    #    427654,\n",
    "    #    428420,\n",
    "    #    429412,\n",
    "    #    429501,\n",
    "    #    429862,\n",
    "    #    431695,\n",
    "    #    431893,\n",
    "    #    430372,\n",
    ")"
   ]
  },
  {
   "cell_type": "code",
   "execution_count": null,
   "id": "congressional-maryland",
   "metadata": {},
   "outputs": [],
   "source": [
    "def showcase(n):\n",
    "    otype = F.otype.v(n)\n",
    "    verseNode = L.u(n, \"verse\")[0]\n",
    "    place = T.sectionFromNode(verseNode)\n",
    "    print(\n",
    "        \"\"\"CASE {}={} ({}-{})\\nCLAUSE: {}\\nVERSE\\n{} {}\\nGLOSS {}\\n\"\"\".format(\n",
    "            n,\n",
    "            otype,\n",
    "            F.rela.v(n),\n",
    "            F.typ.v(n),\n",
    "            T.text(L.d(n, \"word\"), fmt=\"text-trans-plain\"),\n",
    "            \"{} {}:{}\".format(*place),\n",
    "            T.text(L.d(verseNode, \"word\"), fmt=\"text-trans-plain\"),\n",
    "            \" \".join(getGloss(w) for w in L.d(verseNode, \"word\")),\n",
    "        )\n",
    "    )\n",
    "    print(\"PHRASES\\n\")\n",
    "    for p in L.d(n, \"phrase\"):\n",
    "        print(\n",
    "            '''{} ({}-{}) {} \"{}\"'''.format(\n",
    "                p,\n",
    "                F.function.v(p),\n",
    "                F.typ.v(n),\n",
    "                T.text(L.d(p, \"word\"), fmt=\"text-trans-plain\"),\n",
    "                \" \".join(getGloss(w) for w in L.d(p, \"word\")),\n",
    "            )\n",
    "        )\n",
    "        print(\n",
    "            \"valence = {}; grammatical = {}; lexical = {}; semantic = {}\\n\".format(\n",
    "                F.valence.v(p),\n",
    "                F.grammatical.v(p),\n",
    "                F.lexical.v(p),\n",
    "                F.semantic.v(p),\n",
    "            )\n",
    "        )\n",
    "    print(\"SUBCLAUSES\\n\")\n",
    "    for ac in L.d(L.u(n, \"sentence\")[0], \"clause\"):\n",
    "        dep = list(E.mother.f(ac))\n",
    "        if not (len(dep) and dep[0] == n):\n",
    "            continue\n",
    "        print(\n",
    "            '''{} ({}-{}) {} \"{}\"'''.format(\n",
    "                ac,\n",
    "                F.rela.v(ac),\n",
    "                F.typ.v(ac),\n",
    "                T.text(L.d(ac, \"word\"), fmt=\"text-trans-plain\"),\n",
    "                \" \".join(getGloss(w) for w in L.d(ac, \"word\")),\n",
    "            )\n",
    "        )\n",
    "        print(\n",
    "            \"valence = {}; grammatical = {}; lexical = {}; semantic = {}\\n\".format(\n",
    "                F.valence.v(ac),\n",
    "                F.grammatical.v(ac),\n",
    "                F.lexical.v(ac),\n",
    "                F.semantic.v(ac),\n",
    "            )\n",
    "        )\n",
    "\n",
    "    print(\"CONSTITUENTS\")\n",
    "    for ckind in ckinds:\n",
    "        print(\n",
    "            \"{:<4}: {}\".format(\n",
    "                ckind, \",\".join(str(x) for x in sorted(constituents[n][ckind]))\n",
    "            )\n",
    "        )\n",
    "    print(\"================\\n\")"
   ]
  },
  {
   "cell_type": "code",
   "execution_count": 15,
   "metadata": {
    "lines_to_next_cell": 2
   },
   "outputs": [],
   "source": [
    "if not SCRIPT:\n",
    "    for n in testcases:\n",
    "        showcase(n)"
   ]
  },
  {
   "cell_type": "markdown",
   "metadata": {},
   "source": [
    "# Overview of quantities"
   ]
  },
  {
   "cell_type": "markdown",
   "id": "bibliographic-norwegian",
   "metadata": {
    "lines_to_next_cell": 2
   },
   "source": [
    "In[16]:"
   ]
  },
  {
   "cell_type": "code",
   "execution_count": null,
   "id": "flexible-bedroom",
   "metadata": {},
   "outputs": [],
   "source": [
    "utils.caption(4, \"Counting constituents\")"
   ]
  },
  {
   "cell_type": "code",
   "execution_count": null,
   "id": "vocal-melissa",
   "metadata": {},
   "outputs": [],
   "source": [
    "constituents_count = collections.defaultdict(collections.Counter)"
   ]
  },
  {
   "cell_type": "code",
   "execution_count": null,
   "id": "fantastic-warning",
   "metadata": {},
   "outputs": [],
   "source": [
    "for c in constituents:\n",
    "    for ckind in ckinds:\n",
    "        n = len(constituents[c][ckind])\n",
    "        constituents_count[ckind][n] += 1"
   ]
  },
  {
   "cell_type": "code",
   "execution_count": 16,
   "metadata": {
    "lines_to_next_cell": 2
   },
   "outputs": [
    {
     "name": "stdout",
     "output_type": "stream",
     "text": [
      "..............................................................................................\n",
      ".      1m 13s Counting constituents                                                          .\n",
      "..............................................................................................\n",
      "|      1m 14s \t22364 clauses with  1 dos        constituents\n",
      "|      1m 14s \t25255 clauses with  0 dos        constituents\n",
      "|      1m 14s \t22364 clauses with  a dos        constituent\n",
      "|      1m 14s \t 3556 clauses with  1 pdos       constituents\n",
      "|      1m 14s \t44063 clauses with  0 pdos       constituents\n",
      "|      1m 14s \t 3556 clauses with  a pdos       constituent\n",
      "|      1m 14s \t  989 clauses with  1 ndos       constituents\n",
      "|      1m 14s \t46630 clauses with  0 ndos       constituents\n",
      "|      1m 14s \t  989 clauses with  a ndos       constituent\n",
      "|      1m 14s \t  111 clauses with  1 kdos       constituents\n",
      "|      1m 14s \t47508 clauses with  0 kdos       constituents\n",
      "|      1m 14s \t  111 clauses with  a kdos       constituent\n",
      "|      1m 14s \t   33 clauses with  2 ldos       constituents\n",
      "|      1m 14s \t 3787 clauses with  1 ldos       constituents\n",
      "|      1m 14s \t43799 clauses with  0 ldos       constituents\n",
      "|      1m 14s \t 3820 clauses with  a ldos       constituent\n",
      "|      1m 14s \t    1 clauses with  3 idos       constituents\n",
      "|      1m 14s \t   18 clauses with  2 idos       constituents\n",
      "|      1m 14s \t 1193 clauses with  1 idos       constituents\n",
      "|      1m 14s \t46407 clauses with  0 idos       constituents\n",
      "|      1m 14s \t 1212 clauses with  a idos       constituent\n",
      "|      1m 14s \t 1310 clauses with  1 cdos       constituents\n",
      "|      1m 14s \t46309 clauses with  0 cdos       constituents\n",
      "|      1m 14s \t 1310 clauses with  a cdos       constituent\n",
      "|      1m 14s \t   57 clauses with  2 inds       constituents\n",
      "|      1m 14s \t 6254 clauses with  1 inds       constituents\n",
      "|      1m 14s \t41308 clauses with  0 inds       constituents\n",
      "|      1m 14s \t 6311 clauses with  a inds       constituent\n",
      "|      1m 14s \t    1 clauses with  6 locs       constituents\n",
      "|      1m 14s \t    1 clauses with  4 locs       constituents\n",
      "|      1m 14s \t   19 clauses with  3 locs       constituents\n",
      "|      1m 14s \t  380 clauses with  2 locs       constituents\n",
      "|      1m 14s \t12658 clauses with  1 locs       constituents\n",
      "|      1m 14s \t34560 clauses with  0 locs       constituents\n",
      "|      1m 14s \t13059 clauses with  a locs       constituent\n",
      "|      1m 14s \t    1 clauses with  3 cpls       constituents\n",
      "|      1m 14s \t   39 clauses with  2 cpls       constituents\n",
      "|      1m 14s \t 7229 clauses with  1 cpls       constituents\n",
      "|      1m 14s \t40350 clauses with  0 cpls       constituents\n",
      "|      1m 14s \t 7269 clauses with  a cpls       constituent\n",
      "|      1m 14s \t    2 clauses with  2 bens       constituents\n",
      "|      1m 14s \t  171 clauses with  1 bens       constituents\n",
      "|      1m 14s \t47446 clauses with  0 bens       constituents\n",
      "|      1m 14s \t  173 clauses with  a bens       constituent\n",
      "|      1m 14s \t69439 clauses\n"
     ]
    }
   ],
   "source": [
    "for ckind in ckinds:\n",
    "    total = 0\n",
    "    for (count, n) in sorted(constituents_count[ckind].items(), key=lambda y: -y[0]):\n",
    "        if count:\n",
    "            total += n\n",
    "        utils.caption(\n",
    "            0, \"\\t{:>5} clauses with {:>2} {:<10} constituents\".format(n, count, ckind)\n",
    "        )\n",
    "    utils.caption(\n",
    "        0, \"\\t{:>5} clauses with {:>2} {:<10} constituent\".format(total, \"a\", ckind)\n",
    "    )\n",
    "utils.caption(0, \"\\t{:>5} clauses\".format(len(clause_verb)))"
   ]
  },
  {
   "cell_type": "markdown",
   "metadata": {},
   "source": [
    "# Applying the flowchart\n",
    "\n",
    "We can now apply the flowchart in a straightforward manner.\n",
    "\n",
    "We output the results as a comma separated file that can be imported directly into SHEBANQ as a set of notes, so that the reader can check results within SHEBANQ. This has the benefit that the full context is available, and also data view can be called up easily to inspect the coding situation for each particular instance."
   ]
  },
  {
   "cell_type": "markdown",
   "id": "voluntary-samuel",
   "metadata": {
    "lines_to_next_cell": 2
   },
   "source": [
    "In[17]:"
   ]
  },
  {
   "cell_type": "code",
   "execution_count": 17,
   "metadata": {
    "lines_to_next_cell": 2
   },
   "outputs": [],
   "source": [
    "glossHacks = {\n",
    "    \"XQ/\": \"law/precept\",\n",
    "}"
   ]
  },
  {
   "cell_type": "markdown",
   "id": "married-climate",
   "metadata": {
    "lines_to_next_cell": 2
   },
   "source": [
    "In[23]:"
   ]
  },
  {
   "cell_type": "code",
   "execution_count": 23,
   "metadata": {
    "lines_to_next_cell": 2
   },
   "outputs": [],
   "source": [
    "def reptext(\n",
    "    label,\n",
    "    ckind,\n",
    "    v,\n",
    "    phrases,\n",
    "    num=False,\n",
    "    txt=False,\n",
    "    gloss=False,\n",
    "    textformat=\"text-trans-plain\",\n",
    "):\n",
    "    if phrases is None:\n",
    "        return \"\"\n",
    "    phrases_rep = []\n",
    "    for p in sorted(phrases, key=N.sortKey):\n",
    "        ptext = \"[{}|\".format(F.number.v(p) if num else \"[\")\n",
    "        if txt:\n",
    "            ptext += T.text(L.d(p, \"word\"), fmt=textformat)\n",
    "        if gloss:\n",
    "            words = L.d(p, \"word\")\n",
    "            if ckind == \"ldos\" and F.lex.v(words[0]) == \"L\":\n",
    "                words = words[1:]\n",
    "\n",
    "            wtexts = []\n",
    "            for w in words:\n",
    "                g = glossHacks.get(F.lex.v(w), getGloss(w)).replace(\n",
    "                    \"<object marker>\", \"&\"\n",
    "                )\n",
    "                if F.lex.v(w) == \"BJN/\" and F.pdp.v(w) == \"prep\":\n",
    "                    g = \"between\"\n",
    "                prs_g = get_prs_info(w)[1]\n",
    "                uvf = F.uvf.v(w)\n",
    "                wtext = \"\"\n",
    "                if uvf == \"H\":\n",
    "                    ptext += \"toward \"\n",
    "                wtext += (\n",
    "                    g if w != v else \"\"\n",
    "                )  # we do not have to put in the gloss of the verb in question\n",
    "                wtext += (\"~\" + prs_g) if prs_g is not None else \"\"\n",
    "                wtexts.append(wtext)\n",
    "            ptext += \" \".join(wtexts)\n",
    "        ptext += \"]\"\n",
    "        phrases_rep.append(ptext)\n",
    "    return \" \".join(phrases_rep)"
   ]
  },
  {
   "cell_type": "markdown",
   "id": "biological-scotland",
   "metadata": {
    "lines_to_next_cell": 2
   },
   "source": [
    "In[24]:"
   ]
  },
  {
   "cell_type": "code",
   "execution_count": 24,
   "metadata": {},
   "outputs": [],
   "source": [
    "debug_messages = collections.defaultdict(lambda: collections.defaultdict(list))"
   ]
  },
  {
   "cell_type": "code",
   "execution_count": null,
   "id": "dangerous-haiti",
   "metadata": {},
   "outputs": [],
   "source": [
    "constKinds = collections.OrderedDict()"
   ]
  },
  {
   "cell_type": "code",
   "execution_count": null,
   "id": "particular-moses",
   "metadata": {},
   "outputs": [],
   "source": [
    "for constKindSpec in constKindSpecs:\n",
    "    (constKind, constKindName) = constKindSpec.strip().split(\":\", 1)\n",
    "    constKinds[constKind] = constKindName"
   ]
  },
  {
   "cell_type": "code",
   "execution_count": null,
   "id": "complex-estate",
   "metadata": {
    "lines_to_next_cell": 2
   },
   "outputs": [],
   "source": [
    "def flowchart(v, lex, verb, consts):\n",
    "    consts = deepcopy(consts)\n",
    "    n_ = collections.defaultdict(lambda: 0)\n",
    "    for ckind in ckinds:\n",
    "        n_[ckind] = len(consts[ckind])\n",
    "    char1 = None\n",
    "    char2 = None\n",
    "    # determine char 1 of the sense label\n",
    "    if n_[\"pdos\"] > 0:\n",
    "        if n_[\"ndos\"] > 0:\n",
    "            char1 = \"n\"\n",
    "        elif n_[\"cdos\"] > 0:\n",
    "            char1 = \"c\"\n",
    "        elif n_[\"ldos\"] > 0:\n",
    "            char1 = \"l\"\n",
    "        elif n_[\"kdos\"] > 0:\n",
    "            char1 = \"k\"\n",
    "        elif n_[\"idos\"] > 0:\n",
    "            char1 = \"i\"\n",
    "        else:\n",
    "            # in trouble: if there is a principal direct object, there should be an other object as well\n",
    "            # and the other one should be an NP, object clause, L_object, K_object, or I_object\n",
    "            # If this happens, it is probably the result of manual correction\n",
    "            # We warn, and remedy\n",
    "            msg_rep = \"; \".join(\"{} {}\".format(n_[ckind], ckind) for ckind in ckinds)\n",
    "            if n_[\"dos\"] > 0:\n",
    "                # there is an other object (dos should only be used if there is a single object)\n",
    "                # we'll put the dos in the ndos (which was empty)\n",
    "                # This could be caused by a manual enrichment sheet that has been generated\n",
    "                # before the concept of NP_direct_object had been introduced\n",
    "                char1 = \"n\"\n",
    "                consts[\"ndos\"] = consts[\"dos\"]\n",
    "                del consts[\"dos\"]\n",
    "                debug_messages[lex][\"pdos with dos\"].append(\n",
    "                    \"{}: {}\".format(T.sectionFromNode(v), msg_rep)\n",
    "                )\n",
    "            else:\n",
    "                # there is not another object, we treat this as a single object, so as a dos\n",
    "                char1 = \"d\"\n",
    "                consts[\"dos\"] = consts[\"pdos\"]\n",
    "                del consts[\"pdos\"]\n",
    "                debug_messages[lex][\"lonely pdos\"].append(\n",
    "                    \"{}: {}\".format(T.sectionFromNode(v), msg_rep)\n",
    "                )\n",
    "    else:\n",
    "        if n_[\"cdos\"] > 0:\n",
    "            # in the case of a single object, the clause objects act as ordinary objects\n",
    "            char1 = \"d\"\n",
    "            consts[\"dos\"] |= consts[\"cdos\"]\n",
    "            del consts[\"cdos\"]\n",
    "        if n_[\"ndos\"] > 0:\n",
    "            # in the case of a single object, the np_objects act as ordinary objects\n",
    "            char1 = \"d\"\n",
    "            consts[\"dos\"] |= consts[\"ndos\"]\n",
    "            del consts[\"ndos\"]\n",
    "\n",
    "    n_ = collections.defaultdict(lambda: 0)\n",
    "    for ckind in ckinds:\n",
    "        n_[ckind] = len(consts[ckind])\n",
    "\n",
    "    if n_[\"pdos\"] == 0 and n_[\"dos\"] > 0:\n",
    "        char1 = \"d\"\n",
    "    if n_[\"pdos\"] == 0 and n_[\"dos\"] == 0:\n",
    "        char1 = \"-\"\n",
    "\n",
    "    # determine char 2 of the sense label\n",
    "    if char1 in \"nclki\":\n",
    "        char2 = \".\"\n",
    "    else:\n",
    "        if n_[\"inds\"] > 0:\n",
    "            char2 = \"i\"\n",
    "        elif n_[\"bens\"] > 0:\n",
    "            char2 = \"b\"\n",
    "        elif n_[\"locs\"] > 0:\n",
    "            char2 = \"p\"\n",
    "        elif n_[\"cpls\"] > 0:\n",
    "            char2 = \"c\"\n",
    "        else:\n",
    "            char2 = \"-\"\n",
    "\n",
    "    sense_label = char1 + char2\n",
    "    sense = lex if lex in senses else None\n",
    "    status = \"*\" if lex in senses else \"?\"\n",
    "\n",
    "    consts_rep = dict(\n",
    "        (ckind, reptext(\"\", ckind, v, consts[ckind], num=True, gloss=True))\n",
    "        for ckind in consts\n",
    "    )\n",
    "\n",
    "    return (sense_label, sense, status, consts_rep)"
   ]
  },
  {
   "cell_type": "markdown",
   "id": "equipped-brook",
   "metadata": {
    "lines_to_next_cell": 2
   },
   "source": [
    "In[25]:"
   ]
  },
  {
   "cell_type": "code",
   "execution_count": null,
   "id": "cloudy-curtis",
   "metadata": {},
   "outputs": [],
   "source": [
    "sfields = \"\"\"\n",
    "    version\n",
    "    book\n",
    "    chapter\n",
    "    verse\n",
    "    clause_atom\n",
    "    is_shared\n",
    "    is_published\n",
    "    status\n",
    "    keywords\n",
    "    ntext\n",
    "\"\"\".strip().split()"
   ]
  },
  {
   "cell_type": "code",
   "execution_count": 25,
   "metadata": {
    "lines_to_next_cell": 2
   },
   "outputs": [],
   "source": [
    "sfields_fmt = (\"{}\\t\" * (len(sfields) - 1)) + \"{}\\n\""
   ]
  },
  {
   "cell_type": "markdown",
   "metadata": {},
   "source": [
    "# Running the flowchart\n",
    "\n",
    "The next cell finally performs all the flowchart computations for all verbs in all contexts."
   ]
  },
  {
   "cell_type": "markdown",
   "id": "synthetic-discharge",
   "metadata": {
    "lines_to_next_cell": 2
   },
   "source": [
    "In[26]:"
   ]
  },
  {
   "cell_type": "code",
   "execution_count": 26,
   "metadata": {},
   "outputs": [
    {
     "name": "stdout",
     "output_type": "stream",
     "text": [
      "..............................................................................................\n",
      ".      3m 35s Checking the flowcharts                                                        .\n",
      "..............................................................................................\n",
      "|      3m 35s \tNo flowchart for 1544 verbs, e.g. <BC, <BD, <BH, <BR, <BR=, <BT, <BV, <BV=, <CC, <CN\n",
      "|      3m 35s \tAll flowcharts belong to a verb in the corpus\n"
     ]
    }
   ],
   "source": [
    "utils.caption(4, \"Checking the flowcharts\")\n",
    "missingFlowcharts = set()"
   ]
  },
  {
   "cell_type": "code",
   "execution_count": 27,
   "metadata": {},
   "outputs": [
    {
     "name": "stdout",
     "output_type": "stream",
     "text": [
      "..............................................................................................\n",
      ".      3m 35s Applying the flowcharts                                                        .\n",
      "..............................................................................................\n",
      "|      3m 37s \t10000 clauses\n",
      "|      3m 39s \t20000 clauses\n",
      "|      3m 41s \t30000 clauses\n",
      "|      3m 43s \t40000 clauses\n",
      "|      3m 44s \t47381 clauses\n"
     ]
    }
   ],
   "source": [
    "for lex in verb_clause:\n",
    "    if lex not in senses:\n",
    "        missingFlowcharts.add(lex)\n",
    "utils.caption(\n",
    "    0,\n",
    "    \"\\tNo flowchart for {} verbs, e.g. {}\".format(\n",
    "        len(missingFlowcharts), \", \".join(sorted(missingFlowcharts)[0:10])\n",
    "    ),\n",
    ")"
   ]
  },
  {
   "cell_type": "code",
   "execution_count": null,
   "id": "designing-hypothetical",
   "metadata": {
    "lines_to_next_cell": 2
   },
   "outputs": [],
   "source": [
    "good = True\n",
    "for lex in senses:\n",
    "    if lex not in verb_clause:\n",
    "        TF.error(\"No verb {} in enriched corpus\".format(lex))\n",
    "        good = False\n",
    "if good:\n",
    "    utils.caption(0, \"\\tAll flowcharts belong to a verb in the corpus\")"
   ]
  },
  {
   "cell_type": "markdown",
   "id": "unsigned-transport",
   "metadata": {
    "lines_to_next_cell": 2
   },
   "source": [
    "In[27]:"
   ]
  },
  {
   "cell_type": "code",
   "execution_count": null,
   "id": "narrative-brazil",
   "metadata": {},
   "outputs": [],
   "source": [
    "utils.caption(4, \"Applying the flowcharts\")"
   ]
  },
  {
   "cell_type": "code",
   "execution_count": null,
   "id": "worthy-association",
   "metadata": {},
   "outputs": [],
   "source": [
    "outcome_lab = collections.Counter()\n",
    "outcome_lab_l = collections.defaultdict(lambda: collections.Counter())"
   ]
  },
  {
   "cell_type": "markdown",
   "id": "educated-conflict",
   "metadata": {},
   "source": [
    "we want an overview of the flowchart decisions per lexeme\n",
    "Per lexeme, per sense_label we store the clauses"
   ]
  },
  {
   "cell_type": "code",
   "execution_count": null,
   "id": "ambient-roberts",
   "metadata": {},
   "outputs": [],
   "source": [
    "decisions = collections.defaultdict(lambda: collections.defaultdict(dict))"
   ]
  },
  {
   "cell_type": "code",
   "execution_count": null,
   "id": "plastic-search",
   "metadata": {},
   "outputs": [],
   "source": [
    "note_keyword_base = \"valence\""
   ]
  },
  {
   "cell_type": "code",
   "execution_count": null,
   "id": "frozen-attention",
   "metadata": {},
   "outputs": [],
   "source": [
    "nnotes = collections.Counter()"
   ]
  },
  {
   "cell_type": "code",
   "execution_count": null,
   "id": "sticky-summary",
   "metadata": {},
   "outputs": [],
   "source": [
    "senseFeature = dict()"
   ]
  },
  {
   "cell_type": "code",
   "execution_count": null,
   "id": "israeli-column",
   "metadata": {},
   "outputs": [],
   "source": [
    "ofs = open(\"{}/{}\".format(thisNotes, notesFile), \"w\")\n",
    "ofs.write(\"{}\\n\".format(\"\\t\".join(sfields)))"
   ]
  },
  {
   "cell_type": "code",
   "execution_count": null,
   "id": "centered-steam",
   "metadata": {},
   "outputs": [],
   "source": [
    "i = 0\n",
    "j = 0\n",
    "chunkSize = 10000"
   ]
  },
  {
   "cell_type": "code",
   "execution_count": null,
   "id": "adjustable-carroll",
   "metadata": {},
   "outputs": [],
   "source": [
    "for lex in verb_clause:\n",
    "    hasFlowchart = lex in senses\n",
    "    for (c, v) in verb_clause[lex]:\n",
    "        if F.vs.v(v) not in verbal_stems:\n",
    "            continue\n",
    "\n",
    "        i += 1\n",
    "        j += 1\n",
    "        if j == chunkSize:\n",
    "            j = 0\n",
    "            utils.caption(0, \"\\t{:>5} clauses\".format(i))\n",
    "        book = F.book.v(L.u(v, \"book\")[0])\n",
    "        chapter = F.chapter.v(L.u(v, \"chapter\")[0])\n",
    "        verse = F.verse.v(L.u(v, \"verse\")[0])\n",
    "        sentence_n = F.number.v(L.u(v, \"sentence\")[0])\n",
    "        clause_n = F.number.v(c)\n",
    "        clause_atom_n = F.number.v(L.u(v, \"clause_atom\")[0])\n",
    "\n",
    "        verb = [L.u(v, \"phrase\")[0]]\n",
    "        consts = constituents[c]\n",
    "        n_ = collections.defaultdict(lambda: 0)\n",
    "        for ckind in ckinds:\n",
    "            n_[ckind] = len(consts[ckind])\n",
    "\n",
    "        (sense_label, sense, status, constsRep) = flowchart(v, lex, verb, consts)\n",
    "        senseRep = \"legend\" if sense is None else sense\n",
    "        senseDoc = (\n",
    "            \"Legend\"\n",
    "            if sense is None\n",
    "            else \"FC_{}\".format(sense.replace(\">\", \"A\").replace(\"<\", \"O\"))\n",
    "        )\n",
    "        senseLink = \"{}/{}\".format(flowchartBase, senseDoc)\n",
    "\n",
    "        senseFeature[v] = sense_label\n",
    "\n",
    "        constElems = []\n",
    "        for (constKind, constKindName) in constKinds.items():\n",
    "            if constKind not in constsRep:\n",
    "                continue\n",
    "            material = constsRep[constKind]\n",
    "            if not material:\n",
    "                continue\n",
    "            constElems.append(\"*{}*={}\".format(constKindName, material))\n",
    "\n",
    "        outcome_lab[sense_label] += 1\n",
    "        outcome_lab_l[lex][sense_label] += 1\n",
    "        decisions[lex][sense_label][c] = sense_label\n",
    "\n",
    "        ofs.write(\n",
    "            sfields_fmt.format(\n",
    "                VERSION,\n",
    "                book,\n",
    "                chapter,\n",
    "                verse,\n",
    "                clause_atom_n,\n",
    "                \"T\",\n",
    "                \"\",\n",
    "                status,\n",
    "                note_keyword_base,\n",
    "                \"verb [{nm}|{vb}] has sense `{sl}` [{sn}]({slink}) {cs}\".format(\n",
    "                    nm=F.number.v(L.u(v, \"phrase\")[0]),\n",
    "                    vb=F.g_word_utf8.v(v),\n",
    "                    sn=senseRep,\n",
    "                    slink=senseLink,\n",
    "                    sl=sense_label,\n",
    "                    cs=\"; \".join(constElems),\n",
    "                ),\n",
    "            )\n",
    "        )\n",
    "        nnotes[note_keyword_base] += 1\n",
    "utils.caption(0, \"\\t{:>5} clauses\".format(i))\n",
    "ofs.close()"
   ]
  },
  {
   "cell_type": "code",
   "execution_count": null,
   "id": "floating-lithuania",
   "metadata": {
    "lines_to_next_cell": 2
   },
   "outputs": [],
   "source": [
    "show_limit = 20\n",
    "for lex in debug_messages:\n",
    "    TF.error(lex, continuation=True)\n",
    "    for kind in debug_messages[lex]:\n",
    "        utils.caption(0, \"\\tERROR: {}\".format(kind), continuation=True)\n",
    "        messages = debug_messages[lex][kind]\n",
    "        lm = len(messages)\n",
    "        utils.caption(\n",
    "            0,\n",
    "            \"\\tERROR: \\t{}{}\".format(\n",
    "                \"\\n\\t\\t\".join(messages[0:show_limit]),\n",
    "                \"\" if lm <= show_limit else \"\\n\\t\\tAND {} more\".format(lm - show_limit),\n",
    "            ),\n",
    "            continuation=True,\n",
    "        )"
   ]
  },
  {
   "cell_type": "markdown",
   "metadata": {},
   "source": [
    "# Add sense feature to valence module\n",
    "\n",
    "We create a new TF feature `sense`, being a mapping from verb word nodes to sense labels, as computed by the flowchart algorithm above.\n",
    "\n",
    "We add this feature to the valence module, which has been constructed by the [enrich](enrich.ipynb) notebook."
   ]
  },
  {
   "cell_type": "markdown",
   "id": "quantitative-morgan",
   "metadata": {
    "lines_to_next_cell": 2
   },
   "source": [
    "In[28]:"
   ]
  },
  {
   "cell_type": "code",
   "execution_count": 28,
   "metadata": {
    "lines_to_next_cell": 2
   },
   "outputs": [],
   "source": [
    "nodeFeatures = dict(sense=senseFeature)\n",
    "metaData = dict(\n",
    "    sense=dict(\n",
    "        valueType=\"str\",\n",
    "        description=\"sense label verb occurrences, computed by the flowchart algorithm, see https://github.com/ETCBC/valence/wiki/Legend\",\n",
    "        coreData=\"BHSA\",\n",
    "        coreVersion=VERSION,\n",
    "    )\n",
    ")"
   ]
  },
  {
   "cell_type": "markdown",
   "id": "olive-bikini",
   "metadata": {
    "lines_to_next_cell": 2
   },
   "source": [
    "In[29]:"
   ]
  },
  {
   "cell_type": "code",
   "execution_count": 29,
   "metadata": {
    "lines_to_next_cell": 2
   },
   "outputs": [
    {
     "name": "stdout",
     "output_type": "stream",
     "text": [
      "..............................................................................................\n",
      ".      3m 53s Writing sense feature to TF                                                    .\n",
      "..............................................................................................\n"
     ]
    },
    {
     "data": {
      "text/plain": [
       "True"
      ]
     },
     "execution_count": 29,
     "metadata": {},
     "output_type": "execute_result"
    }
   ],
   "source": [
    "utils.caption(4, \"Writing sense feature to TF\")\n",
    "TF = Fabric(locations=thisTempTf, silent=True)\n",
    "TF.save(nodeFeatures=nodeFeatures, edgeFeatures={}, metaData=metaData)"
   ]
  },
  {
   "cell_type": "markdown",
   "metadata": {},
   "source": [
    "# Diffs\n",
    "\n",
    "Check differences with previous versions."
   ]
  },
  {
   "cell_type": "markdown",
   "id": "bizarre-companion",
   "metadata": {
    "lines_to_next_cell": 2
   },
   "source": [
    "In[30]:"
   ]
  },
  {
   "cell_type": "code",
   "execution_count": 30,
   "metadata": {
    "lines_to_next_cell": 2
   },
   "outputs": [
    {
     "name": "stdout",
     "output_type": "stream",
     "text": [
      "..............................................................................................\n",
      ".      3m 59s Check differences with previous version                                        .\n",
      "..............................................................................................\n",
      "|      3m 59s \t1 features to add\n",
      "|      3m 59s \t\tsense\n",
      "|      3m 59s \tno features to delete\n",
      "|      3m 59s \t0 features in common\n",
      "|      3m 59s Done\n"
     ]
    }
   ],
   "source": [
    "utils.checkDiffs(thisTempTf, thisTf, only=set(nodeFeatures))"
   ]
  },
  {
   "cell_type": "markdown",
   "metadata": {},
   "source": [
    "# Deliver\n",
    "\n",
    "Copy the new TF feature from the temporary location where it has been created to its final destination."
   ]
  },
  {
   "cell_type": "markdown",
   "id": "assigned-richmond",
   "metadata": {
    "lines_to_next_cell": 2
   },
   "source": [
    "In[31]:"
   ]
  },
  {
   "cell_type": "code",
   "execution_count": 31,
   "metadata": {
    "lines_to_next_cell": 2
   },
   "outputs": [
    {
     "name": "stdout",
     "output_type": "stream",
     "text": [
      "..............................................................................................\n",
      ".      4m 00s Deliver features to /Users/dirk/github/etcbc/valence/tf/2021                   .\n",
      "..............................................................................................\n",
      "|      4m 00s \tsense\n"
     ]
    }
   ],
   "source": [
    "utils.deliverFeatures(thisTempTf, thisTf, nodeFeatures)"
   ]
  },
  {
   "cell_type": "markdown",
   "metadata": {},
   "source": [
    "# Compile TF"
   ]
  },
  {
   "cell_type": "markdown",
   "id": "aware-revelation",
   "metadata": {
    "lines_to_next_cell": 2
   },
   "source": [
    "In[32]:"
   ]
  },
  {
   "cell_type": "code",
   "execution_count": null,
   "id": "executed-defensive",
   "metadata": {},
   "outputs": [],
   "source": [
    "utils.caption(4, \"Load and compile the new TF features\")"
   ]
  },
  {
   "cell_type": "code",
   "execution_count": 32,
   "metadata": {
    "lines_to_next_cell": 2
   },
   "outputs": [
    {
     "name": "stdout",
     "output_type": "stream",
     "text": [
      "..............................................................................................\n",
      ".      4m 04s Load and compile the new TF features                                           .\n",
      "..............................................................................................\n",
      "This is Text-Fabric 8.5.13\n",
      "Api reference : https://annotation.github.io/text-fabric/tf/cheatsheet.html\n",
      "\n",
      "98 features found and 0 ignored\n",
      "  0.00s loading features ...\n",
      "   |     0.00s Dataset without structure sections in otext:no structure functions in the T-API\n",
      "   |     0.13s T sense                from ~/github/etcbc/valence/tf/2021\n",
      "  3.85s All features loaded/computed - for details use loadLog()\n"
     ]
    },
    {
     "data": {
      "text/plain": [
       "[('Computed',\n",
       "  'computed-data',\n",
       "  ('C Computed', 'Call AllComputeds', 'Cs ComputedString')),\n",
       " ('Features', 'edge-features', ('E Edge', 'Eall AllEdges', 'Es EdgeString')),\n",
       " ('Fabric', 'loading', ('TF',)),\n",
       " ('Locality', 'locality', ('L Locality',)),\n",
       " ('Nodes', 'navigating-nodes', ('N Nodes',)),\n",
       " ('Features',\n",
       "  'node-features',\n",
       "  ('F Feature', 'Fall AllFeatures', 'Fs FeatureString')),\n",
       " ('Search', 'search', ('S Search',)),\n",
       " ('Text', 'text', ('T Text',))]"
      ]
     },
     "execution_count": 32,
     "metadata": {},
     "output_type": "execute_result"
    }
   ],
   "source": [
    "TF = Fabric(locations=[coreTf, thisTf], modules=[\"\"])\n",
    "api = TF.load(\n",
    "    \"\"\"\n",
    "    lex sp vs\n",
    "    predication gloss\n",
    "\"\"\"\n",
    "    + \" \".join(nodeFeatures)\n",
    ")\n",
    "api.makeAvailableIn(globals())"
   ]
  },
  {
   "cell_type": "markdown",
   "metadata": {},
   "source": [
    "# Examples"
   ]
  },
  {
   "cell_type": "markdown",
   "id": "brief-spiritual",
   "metadata": {
    "lines_to_next_cell": 2
   },
   "source": [
    "In[33]:"
   ]
  },
  {
   "cell_type": "code",
   "execution_count": null,
   "id": "composite-source",
   "metadata": {},
   "outputs": [],
   "source": [
    "utils.caption(4, \"Show sense counts\")\n",
    "senseLabels = sorted({F.sense.v(v) for v in F.otype.s(\"word\")} - {None})\n",
    "utils.caption(0, \"\\tSense labels = {}\".format(\" \".join(senseLabels)))"
   ]
  },
  {
   "cell_type": "code",
   "execution_count": null,
   "id": "typical-healing",
   "metadata": {},
   "outputs": [],
   "source": [
    "senseCount = collections.Counter()\n",
    "noSense = []\n",
    "isPredicate = {\"regular\", \"copula\"}"
   ]
  },
  {
   "cell_type": "code",
   "execution_count": null,
   "id": "covered-attribute",
   "metadata": {},
   "outputs": [],
   "source": [
    "for v in F.sp.s(\"verb\"):\n",
    "    sense = F.sense.v(v)\n",
    "    if sense is None:\n",
    "        # skip words that are not verbs in the qal\n",
    "        if F.vs.v(v) != \"qal\":\n",
    "            continue\n",
    "        # skip verbs in a phrase that is not a verb phrase, e.g. some participles\n",
    "        # the criterion here is whether the value of feature `predication` is non trivial\n",
    "        p = L.u(v, \"phrase\")\n",
    "        if F.predication.v(p) not in isPredicate:\n",
    "            continue\n",
    "        noSense.append(v)\n",
    "        continue\n",
    "    senseCount[sense] += 1\n",
    "utils.caption(0, \"\\tCounted {} senses\".format(sum(senseCount.values())))\n",
    "if noSense:\n",
    "    utils.caption(\n",
    "        0, \"\\tWARNING: {} verb occurrences do not have a sense\".format(len(noSense))\n",
    "    )\n",
    "    for v in noSense[0:10]:\n",
    "        utils.caption(\n",
    "            0,\n",
    "            \"\\t\\t{:<20} word {:>6} phrase {:>6} = {:<5}\".format(\n",
    "                \"{} {}:{}\".format(*T.sectionFromNode(v)),\n",
    "                v,\n",
    "                L.u(v, \"phrase\")[0],\n",
    "                F.lex.v(v),\n",
    "            ),\n",
    "        )\n",
    "else:\n",
    "    utils.caption(0, \"\\tAll relevant verbs have been assigned a sense\")"
   ]
  },
  {
   "cell_type": "code",
   "execution_count": 33,
   "metadata": {
    "lines_to_next_cell": 2
   },
   "outputs": [
    {
     "name": "stdout",
     "output_type": "stream",
     "text": [
      "..............................................................................................\n",
      ".      4m 14s Show sense counts                                                              .\n",
      "..............................................................................................\n",
      "|      4m 14s \tSense labels = -- -b -c -i -p c. d- db dc di dp i. k. l. n.\n",
      "|      4m 14s \tCounted 47381 senses\n",
      "|      4m 14s \tAll relevant verbs have been assigned a sense\n",
      "|      4m 14s \t\t-- occurs  17942x\n",
      "|      4m 14s \t\td- occurs   9975x\n",
      "|      4m 14s \t\t-p occurs   6537x\n",
      "|      4m 14s \t\t-i occurs   3603x\n",
      "|      4m 14s \t\t-c occurs   3231x\n",
      "|      4m 14s \t\tdp occurs   1899x\n",
      "|      4m 14s \t\tdc occurs   1002x\n",
      "|      4m 14s \t\tdi occurs    918x\n",
      "|      4m 14s \t\tl. occurs    876x\n",
      "|      4m 14s \t\ti. occurs    630x\n",
      "|      4m 14s \t\tn. occurs    532x\n",
      "|      4m 14s \t\t-b occurs     64x\n",
      "|      4m 14s \t\tdb occurs     61x\n",
      "|      4m 14s \t\tc. occurs     57x\n",
      "|      4m 14s \t\tk. occurs     54x\n"
     ]
    }
   ],
   "source": [
    "for x in sorted(senseCount.items(), key=lambda x: (-x[1], x[0])):\n",
    "    utils.caption(0, \"\\t\\t{:<2} occurs {:>6}x\".format(*x))"
   ]
  },
  {
   "cell_type": "markdown",
   "metadata": {},
   "source": [
    "For more fine grained overview with graphics, see the\n",
    "[senses](senses.ipynb)\n",
    "notebook."
   ]
  },
  {
   "cell_type": "markdown",
   "id": "sapphire-transcript",
   "metadata": {
    "lines_to_next_cell": 2
   },
   "source": [
    "In[34]:"
   ]
  },
  {
   "cell_type": "code",
   "execution_count": 34,
   "metadata": {
    "lines_to_next_cell": 2
   },
   "outputs": [],
   "source": [
    "if SCRIPT:\n",
    "    stop(good=True)"
   ]
  },
  {
   "cell_type": "markdown",
   "id": "attractive-printing",
   "metadata": {
    "lines_to_next_cell": 2
   },
   "source": [
    "In[65]:"
   ]
  },
  {
   "cell_type": "code",
   "execution_count": 65,
   "metadata": {
    "lines_to_next_cell": 2
   },
   "outputs": [
    {
     "name": "stdout",
     "output_type": "stream",
     "text": [
      "|     41m 48s \tReporting flowchart application\n",
      "valence    notes: 47383\n",
      "Total      notes: 47383\n",
      "All lexemes\n",
      "     Sense    --     : 18014 clauses\n",
      "     Sense    -i     :  2870 clauses\n",
      "     Sense    -b     :    66 clauses\n",
      "     Sense    -p     :  6190 clauses\n",
      "     Sense    -c     :  4249 clauses\n",
      "     Sense    d-     :  9982 clauses\n",
      "     Sense    di     :   887 clauses\n",
      "     Sense    db     :    61 clauses\n",
      "     Sense    dp     :  1848 clauses\n",
      "     Sense    dc     :  1067 clauses\n",
      "     Sense    n.     :   534 clauses\n",
      "     Sense    l.     :   874 clauses\n",
      "     Sense    k.     :    54 clauses\n",
      "     Sense    i.     :   624 clauses\n",
      "     Sense    c.     :    63 clauses\n",
      "     All senses      : 47383 clauses\n",
      " \n",
      "<FH\n",
      "     Sense    --     :   752 clauses\n",
      "     Sense    -i     :   103 clauses\n",
      "     Sense    -b     :     1 clauses\n",
      "     Sense    -p     :    79 clauses\n",
      "     Sense    -c     :    35 clauses\n",
      "     Sense    d-     :   910 clauses\n",
      "     Sense    di     :   141 clauses\n",
      "     Sense    db     :     9 clauses\n",
      "     Sense    dp     :    88 clauses\n",
      "     Sense    dc     :    59 clauses\n",
      "     Sense    n.     :   127 clauses\n",
      "     Sense    l.     :   111 clauses\n",
      "     Sense    k.     :     6 clauses\n",
      "     Sense    i.     :    45 clauses\n",
      "     Sense    c.     :     2 clauses\n",
      "     All senses      :  2468 clauses\n",
      " \n",
      "BR>\n",
      "     Sense    --     :     4 clauses\n",
      "     Sense    -i     :     0 clauses\n",
      "     Sense    -b     :     0 clauses\n",
      "     Sense    -p     :     0 clauses\n",
      "     Sense    -c     :     0 clauses\n",
      "     Sense    d-     :    27 clauses\n",
      "     Sense    di     :     0 clauses\n",
      "     Sense    db     :     0 clauses\n",
      "     Sense    dp     :     2 clauses\n",
      "     Sense    dc     :     0 clauses\n",
      "     Sense    n.     :     2 clauses\n",
      "     Sense    l.     :     0 clauses\n",
      "     Sense    k.     :     0 clauses\n",
      "     Sense    i.     :     1 clauses\n",
      "     Sense    c.     :     0 clauses\n",
      "     All senses      :    36 clauses\n",
      " \n",
      "CJT\n",
      "     Sense    --     :     3 clauses\n",
      "     Sense    -i     :     1 clauses\n",
      "     Sense    -b     :     0 clauses\n",
      "     Sense    -p     :     2 clauses\n",
      "     Sense    -c     :     7 clauses\n",
      "     Sense    d-     :     7 clauses\n",
      "     Sense    di     :     3 clauses\n",
      "     Sense    db     :     1 clauses\n",
      "     Sense    dp     :    18 clauses\n",
      "     Sense    dc     :    10 clauses\n",
      "     Sense    n.     :    12 clauses\n",
      "     Sense    l.     :    10 clauses\n",
      "     Sense    k.     :     5 clauses\n",
      "     Sense    i.     :     3 clauses\n",
      "     Sense    c.     :     0 clauses\n",
      "     All senses      :    82 clauses\n",
      " \n",
      "DBQ\n",
      "     Sense    --     :     6 clauses\n",
      "     Sense    -i     :     0 clauses\n",
      "     Sense    -b     :     0 clauses\n",
      "     Sense    -p     :    26 clauses\n",
      "     Sense    -c     :     4 clauses\n",
      "     Sense    d-     :     1 clauses\n",
      "     Sense    di     :     0 clauses\n",
      "     Sense    db     :     0 clauses\n",
      "     Sense    dp     :     1 clauses\n",
      "     Sense    dc     :     1 clauses\n",
      "     Sense    n.     :     0 clauses\n",
      "     Sense    l.     :     0 clauses\n",
      "     Sense    k.     :     0 clauses\n",
      "     Sense    i.     :     0 clauses\n",
      "     Sense    c.     :     0 clauses\n",
      "     All senses      :    39 clauses\n",
      " \n",
      "FJM\n",
      "     Sense    --     :    13 clauses\n",
      "     Sense    -i     :     3 clauses\n",
      "     Sense    -b     :     2 clauses\n",
      "     Sense    -p     :    29 clauses\n",
      "     Sense    -c     :    31 clauses\n",
      "     Sense    d-     :    47 clauses\n",
      "     Sense    di     :    24 clauses\n",
      "     Sense    db     :     4 clauses\n",
      "     Sense    dp     :   155 clauses\n",
      "     Sense    dc     :    85 clauses\n",
      "     Sense    n.     :    62 clauses\n",
      "     Sense    l.     :    78 clauses\n",
      "     Sense    k.     :    19 clauses\n",
      "     Sense    i.     :    23 clauses\n",
      "     Sense    c.     :     2 clauses\n",
      "     All senses      :   577 clauses\n",
      " \n",
      "NTN\n",
      "     Sense    --     :   133 clauses\n",
      "     Sense    -i     :   156 clauses\n",
      "     Sense    -b     :     0 clauses\n",
      "     Sense    -p     :    57 clauses\n",
      "     Sense    -c     :    51 clauses\n",
      "     Sense    d-     :   189 clauses\n",
      "     Sense    di     :   303 clauses\n",
      "     Sense    db     :     2 clauses\n",
      "     Sense    dp     :   356 clauses\n",
      "     Sense    dc     :   133 clauses\n",
      "     Sense    n.     :    93 clauses\n",
      "     Sense    l.     :   324 clauses\n",
      "     Sense    k.     :    18 clauses\n",
      "     Sense    i.     :    89 clauses\n",
      "     Sense    c.     :     8 clauses\n",
      "     All senses      :  1912 clauses\n",
      " \n",
      "QR>\n",
      "     Sense    --     :   150 clauses\n",
      "     Sense    -i     :    71 clauses\n",
      "     Sense    -b     :     1 clauses\n",
      "     Sense    -p     :    69 clauses\n",
      "     Sense    -c     :    56 clauses\n",
      "     Sense    d-     :   102 clauses\n",
      "     Sense    di     :    35 clauses\n",
      "     Sense    db     :     0 clauses\n",
      "     Sense    dp     :    23 clauses\n",
      "     Sense    dc     :     8 clauses\n",
      "     Sense    n.     :    98 clauses\n",
      "     Sense    l.     :    30 clauses\n",
      "     Sense    k.     :     1 clauses\n",
      "     Sense    i.     :     8 clauses\n",
      "     Sense    c.     :     0 clauses\n",
      "     All senses      :   652 clauses\n",
      " \n",
      "ZQN\n",
      "     Sense    --     :    22 clauses\n",
      "     Sense    -i     :     0 clauses\n",
      "     Sense    -b     :     0 clauses\n",
      "     Sense    -p     :     0 clauses\n",
      "     Sense    -c     :     0 clauses\n",
      "     Sense    d-     :     0 clauses\n",
      "     Sense    di     :     0 clauses\n",
      "     Sense    db     :     0 clauses\n",
      "     Sense    dp     :     0 clauses\n",
      "     Sense    dc     :     0 clauses\n",
      "     Sense    n.     :     0 clauses\n",
      "     Sense    l.     :     0 clauses\n",
      "     Sense    k.     :     0 clauses\n",
      "     Sense    i.     :     0 clauses\n",
      "     Sense    c.     :     0 clauses\n",
      "     All senses      :    22 clauses\n",
      " \n"
     ]
    }
   ],
   "source": [
    "if not SCRIPT:\n",
    "    utils.caption(0, \"\\tReporting flowchart application\")\n",
    "    ntot = 0\n",
    "    for (lab, n) in sorted(nnotes.items(), key=lambda x: x[0]):\n",
    "        ntot += n\n",
    "        print(\"{:<10} notes: {}\".format(lab, n))\n",
    "    print(\"{:<10} notes: {}\".format(\"Total\", ntot))\n",
    "\n",
    "    for lex in [\"\"] + sorted(senses):\n",
    "        print(\"All lexemes\" if lex == \"\" else lex)\n",
    "        src_lab = (\n",
    "            outcome_lab\n",
    "            if lex == \"\"\n",
    "            else outcome_lab_l.get(lex, collections.defaultdict(lambda: 0))\n",
    "        )\n",
    "        tot = 0\n",
    "        for x in senseLabels:\n",
    "            n = src_lab[x]\n",
    "            tot += n\n",
    "            print(\"     Sense    {:<7}: {:>5} clauses\".format(x, n))\n",
    "        print(\"     All senses      : {:>5} clauses\".format(tot))\n",
    "        print(\" \")"
   ]
  },
  {
   "cell_type": "markdown",
   "id": "vulnerable-cooling",
   "metadata": {
    "lines_to_next_cell": 2
   },
   "source": [
    "In[49]:"
   ]
  },
  {
   "cell_type": "code",
   "execution_count": 49,
   "metadata": {
    "collapsed": true,
    "lines_to_next_cell": 2
   },
   "outputs": [],
   "source": [
    "def show_decision(\n",
    "    verbs=None, labels=None, books=None\n",
    "):  # show all clauses that have a verb in verbs and a sense label in labels\n",
    "    results = []\n",
    "    for verb in decisions:\n",
    "        if verbs is not None and verb not in verbs:\n",
    "            continue\n",
    "        for label in decisions[verb]:\n",
    "            if labels is not None and label not in labels:\n",
    "                continue\n",
    "            for (c, stxt) in sorted(decisions[verb][label].items()):\n",
    "                book = T.sectionFromNode(L.u(c, \"book\")[0])[0]\n",
    "                if books is not None and book not in books:\n",
    "                    continue\n",
    "                sentence_words = L.d(L.u(c, \"sentence\")[0], \"word\")\n",
    "                results.append(\n",
    "                    \"{:<7} {:<12} {:<5} {:<2} {}\\n\\t{}\\n\\t{}\\n\".format(\n",
    "                        c,\n",
    "                        \"{} {}: {}\".format(*T.sectionFromNode(c)),\n",
    "                        verb,\n",
    "                        label,\n",
    "                        stxt,\n",
    "                        T.text(sentence_words, fmt=\"text-trans-plain\"),\n",
    "                        \" \".join(getGloss(w) for w in sentence_words),\n",
    "                    ).replace(\"<\", \"&lt;\")\n",
    "                )\n",
    "    print(\"\\n\".join(sorted(results)))"
   ]
  },
  {
   "cell_type": "markdown",
   "id": "internal-northeast",
   "metadata": {
    "lines_to_next_cell": 2
   },
   "source": [
    "In[50]:"
   ]
  },
  {
   "cell_type": "code",
   "execution_count": 50,
   "metadata": {
    "lines_to_next_cell": 2
   },
   "outputs": [
    {
     "name": "stdout",
     "output_type": "stream",
     "text": [
      "467293  Isaiah 3: 7  FJM   n. n.\n",
      "\tL> TFJMNJ QYJN &lt;M \n",
      "\tnot put chief people\n",
      "\n",
      "467456  Isaiah 5: 20 FJM   l. l.\n",
      "\tHWJ H >MRJM L  R&lt; W L  VWB FMJM XCK L >WR W >WR L XCK FMJM MR L MTWQ W MTWQ L MR \n",
      "\talas the say to the evil and to the good put darkness to light and light to darkness put bitter to sweet and sweet to bitter\n",
      "\n",
      "467458  Isaiah 5: 20 FJM   l. l.\n",
      "\tHWJ H >MRJM L  R&lt; W L  VWB FMJM XCK L >WR W >WR L XCK FMJM MR L MTWQ W MTWQ L MR \n",
      "\talas the say to the evil and to the good put darkness to light and light to darkness put bitter to sweet and sweet to bitter\n",
      "\n",
      "467855  Isaiah 10: 6 FJM   n. n.\n",
      "\tW &lt;L &lt;M &lt;BRTJ >YWNW L CLL CLL W L BZ BZ W L FJMW MRMS K XMR XWYWT \n",
      "\tand upon people anger command to plunder plunder and to spoil spoiling and to put trampled land as clay outside\n",
      "\n",
      "468059  Isaiah 13: 9 FJM   l. l.\n",
      "\tHNH JWM JHWH B> >KZRJ W &lt;BRH W XRWN >P L FWM H >RY L CMH \n",
      "\tbehold day YHWH come cruel and anger and anger nose to put the earth to destruction\n",
      "\n",
      "468161  Isaiah 14: 17 FJM   k. k.\n",
      "\tFM TBL K  MDBR \n",
      "\tput world as the desert\n",
      "\n",
      "468182  Isaiah 14: 23 FJM   l. l.\n",
      "\tW FMTJH L MWRC QPD W >GMJ MJM \n",
      "\tand put to possession hedgehog and reedy pool water\n",
      "\n",
      "468546  Isaiah 21: 4 FJM   l. l.\n",
      "\t>T NCP XCQJ FM LJ L XRDH \n",
      "\t&lt;object marker> breeze desire put to to trembling\n",
      "\n",
      "468747  Isaiah 23: 13 FJM   l. l.\n",
      "\tFMH L MPLH \n",
      "\tput to decay\n",
      "\n",
      "468867  Isaiah 25: 2 FJM   l. l.\n",
      "\tKJ FMT M &lt;JR L  GL QRJH BYWRH L MPLH >RMWN ZRJM M &lt;JR \n",
      "\tthat put from town to the heap town fortified to decay dwelling tower strange from town\n",
      "\n",
      "469020  Isaiah 27: 9 FJM   k. k.\n",
      "\tB FWMW KL >BNJ MZBX K >BNJ GR MNPYWT L> JQMW >CRJM W XMNJM \n",
      "\tin put whole stone altar as stone chalk shatter not arise asherah and incense-stand\n",
      "\n",
      "469107  Isaiah 28: 15 FJM   n. n.\n",
      "\tKJ FMNW KZB MXSNW \n",
      "\tthat put lie refuge\n",
      "\n",
      "469113  Isaiah 28: 17 FJM   l. l.\n",
      "\tW FMTJ MCPV L QW W YDQH L MCQLT \n",
      "\tand put justice to line and justice to leveller\n",
      "\n",
      "469152  Isaiah 28: 25 FJM   n. n.\n",
      "\tW FM XVH FWRH W F&lt;RH NSMN W KSMT GBLTW \n",
      "\tand put wheat &lt;animal> and barley &lt;uncertain> and spelt boundary\n",
      "\n",
      "469975  Isaiah 37: 29 FJM   dp dp\n",
      "\tW FMTJ XXJ B >PK W MTGJ B FPTJK \n",
      "\tand put thorn in nose and bridle in lip\n",
      "\n",
      "470345  Isaiah 41: 15 FJM   l. l.\n",
      "\tHNH FMTJK L MWRG XRWY XDC B&lt;L PJPJWT \n",
      "\tbehold put to threshing-sledge threshing instrument new lord, baal double-edged\n",
      "\n",
      "470348  Isaiah 41: 15 FJM   k. k.\n",
      "\tW GB&lt;WT K  MY TFJM \n",
      "\tand hill as the chaff put\n",
      "\n",
      "470363  Isaiah 41: 18 FJM   l. l.\n",
      "\t>FJM MDBR L >GM MJM W >RY YJH L MWY>J MJM \n",
      "\tput desert to reedy pool water and earth dry country to issue water\n",
      "\n",
      "470366  Isaiah 41: 19 FJM   dp dp\n",
      "\t>FJM B  &lt;RBH BRWC TDHR W T>CWR JXDW \n",
      "\tput in the desert juniper box tree and cypress together\n",
      "\n",
      "470369  Isaiah 41: 20 FJM   -- --\n",
      "\tW JFJMW \n",
      "\tand put\n",
      "\n",
      "470383  Isaiah 41: 22 FJM   d- d-\n",
      "\tW NFJMH LBNW \n",
      "\tand put heart\n",
      "\n",
      "470440  Isaiah 42: 4 FJM   dp dp\n",
      "\t&lt;D JFJM B  >RY MCPV \n",
      "\tunto put in the earth justice\n",
      "\n",
      "470473  Isaiah 42: 12 FJM   d- d-\n",
      "\tJFJMW L JHWH KBWD \n",
      "\tput to YHWH weight\n",
      "\n",
      "470488  Isaiah 42: 15 FJM   l. l.\n",
      "\tW FMTJ NHRWT L  >JJM \n",
      "\tand put stream to the coast, island\n",
      "\n",
      "470494  Isaiah 42: 16 FJM   l. l.\n",
      "\t>FJM MXCK L PNJHM L  >WR W M&lt;QCJM L MJCWR \n",
      "\tput dark place to face to the light and rugged country to fairness\n",
      "\n",
      "470544  Isaiah 42: 25 FJM   -c -c\n",
      "\tW L> JFJM &lt;L LB \n",
      "\tand not put upon heart\n",
      "\n",
      "470636  Isaiah 43: 19 FJM   dp dp\n",
      "\t>P >FJM B  MDBR DRK B JCMWN NHRWT \n",
      "\teven put in the desert way in wilderness stream\n",
      "\n",
      "470697  Isaiah 44: 7 FJM   d- d-\n",
      "\tW J&lt;RKH LJ M FWMJ &lt;M &lt;WLM \n",
      "\tand arrange to from put people eternity\n",
      "\n",
      "471069  Isaiah 47: 6 FJM   d- d-\n",
      "\tL> FMT LHM RXMJM \n",
      "\tnot put to compassion\n",
      "\n",
      "471073  Isaiah 47: 7 FJM   dc dc\n",
      "\t&lt;D L> FMT >LH &lt;L LBK \n",
      "\tunto not put these upon heart\n",
      "\n",
      "471243  Isaiah 49: 2 FJM   k. k.\n",
      "\tW JFM PJ K XRB XDH \n",
      "\tand put mouth as dagger sharp\n",
      "\n",
      "471245  Isaiah 49: 2 FJM   l. l.\n",
      "\tW JFJMNJ L XY BRWR \n",
      "\tand put to arrow purge\n",
      "\n",
      "471296  Isaiah 49: 11 FJM   l. l.\n",
      "\tW FMTJ KL HRJ L  DRK \n",
      "\tand put whole mountain to the way\n",
      "\n",
      "471384  Isaiah 50: 2 FJM   n. n.\n",
      "\t>FJM NHRWT MDBR \n",
      "\tput stream desert\n",
      "\n",
      "471388  Isaiah 50: 3 FJM   n. n.\n",
      "\tW FQ >FJM KSWTM \n",
      "\tand sack put covering\n",
      "\n",
      "471403  Isaiah 50: 7 FJM   k. k.\n",
      "\t&lt;L KN FMTJ PNJ K  XLMJC \n",
      "\tupon thus put face as the flint\n",
      "\n",
      "471445  Isaiah 51: 3 FJM   k. k.\n",
      "\tW JFM MDBRH K &lt;DN W &lt;RBTH K GN JHWH \n",
      "\tand put desert as Eden and desert as garden YHWH\n",
      "\n",
      "471486  Isaiah 51: 10 FJM   n. n.\n",
      "\tH LW> >T HJ> H MXRBT JM MJ THWM RBH H FMH M&lt;MQJ JM DRK L &lt;BR G>WLJM \n",
      "\t&lt;interrogative> not you she the be dry sea water primeval ocean much the put depths sea way to pass redeem\n",
      "\n",
      "471516  Isaiah 51: 16 FJM   dp dp\n",
      "\tW >FJM DBRJ B PJK \n",
      "\tand put word in mouth\n",
      "\n",
      "471552  Isaiah 51: 23 FJM   dp dp\n",
      "\tW FMTJH B JD MWGJK >CR >MRW L NPCK \n",
      "\tand put in hand grieve &lt;relative> say to soul\n",
      "\n",
      "471556  Isaiah 51: 23 FJM   k. k.\n",
      "\tW TFJMJ K  >RY GWK W K  XWY L  &lt;BRJM \n",
      "\tand put as the earth back and as the outside to the pass\n",
      "\n",
      "471678  Isaiah 53: 10 FJM   n. n.\n",
      "\t>M TFJM >CM NPCW \n",
      "\tif put guilt soul\n",
      "\n",
      "471743  Isaiah 54: 12 FJM   n. n.\n",
      "\tW FMTJ KDKD CMCTJK W C&lt;RJK L >BNJ >QDX W KL GBWLK L >BNJ XPY \n",
      "\tand put ruby sun and gate to stone beryl and whole boundary to stone pleasure\n",
      "\n",
      "471906  Isaiah 57: 1 FJM   -c -c\n",
      "\tW >JN >JC FM &lt;L LB \n",
      "\tand &lt;NEG> man put upon heart\n",
      "\n",
      "471929  Isaiah 57: 7 FJM   dp dp\n",
      "\t&lt;L HR GBH W NF> FMT MCKBK \n",
      "\tupon mountain high and lift put couch\n",
      "\n",
      "471932  Isaiah 57: 8 FJM   dp dp\n",
      "\tW >XR H DLT W H MZWZH FMT ZKRWNK \n",
      "\tand after the door and the door-post put remembrance\n",
      "\n",
      "471952  Isaiah 57: 11 FJM   -c -c\n",
      "\tL> FMT &lt;L LBK \n",
      "\tnot put upon heart\n",
      "\n",
      "472184  Isaiah 59: 21 FJM   -p -p\n",
      "\tRWXJ >CR &lt;LJK W DBRJ >CR FMTJ B PJK L> JMWCW M PJK W M PJ ZR&lt;K W M PJ ZR&lt; ZR&lt;K M &lt;TH W &lt;D &lt;WLM \n",
      "\twind &lt;relative> upon and word &lt;relative> put in mouth not depart from mouth and from mouth seed and from mouth seed seed from now and unto eternity\n",
      "\n",
      "472244  Isaiah 60: 15 FJM   d- d-\n",
      "\tTXT HJWTK &lt;ZWBH W FNW>H W >JN &lt;WBR W FMTJK L G>WN &lt;WLM MFWF DWR W DWR \n",
      "\tunder part be leave and hate and &lt;NEG> pass and put to height eternity joy generation and generation\n",
      "\n",
      "472253  Isaiah 60: 17 FJM   n. n.\n",
      "\tW FMTJ PQDTK CLWM W NGFJK YDQH \n",
      "\tand put commission peace and drive justice\n",
      "\n",
      "472285  Isaiah 61: 3 FJM   -- --\n",
      "\tCLXNJ L XBC L NCBRJ LB L QR> L CBWJM DRWR W L >SWRJM PQX_QWX L QR> CNT RYWN L JHWH W JWM NQM L >LHJNW L NXM KL >BLJM L FWM L >BLJ YJWN L TT LHM P>R TXT >PR CMN FFWN TXT >BL M&lt;VH THLH TXT RWX KHH \n",
      "\tsend to saddle to break heart to call to take captive release and to bind opening to call year pleasure to YHWH and day vengeance to god(s) to repent, console whole mourning to put to mourning Zion to give to headdress under part dust oil rejoicing under part mourning rites wrap praise under part wind dim\n",
      "\n",
      "472357  Isaiah 62: 7 FJM   n. n.\n",
      "\tW &lt;D JFJM >T JRWCLM THLH B  >RY \n",
      "\tand unto put &lt;object marker> Jerusalem praise in the earth\n",
      "\n",
      "472436  Isaiah 63: 11 FJM   dp dp\n",
      "\t>JH H FM B QRBW >T RWX QDCW MWLJK L JMJN MCH ZRW&lt; TP>RTW BWQ&lt; MJM M PNJHM L &lt;FWT LW CM &lt;WLM MWLJKM B  THMWT \n",
      "\twhere the put in interior &lt;object marker> wind holiness walk to right-hand side Moses arm splendour split water from face to make to name eternity walk in the primeval ocean\n",
      "\n",
      "472738  Isaiah 66: 19 FJM   dp dp\n",
      "\tW FMTJ BHM >WT \n",
      "\tand put in sign\n",
      "\n"
     ]
    }
   ],
   "source": [
    "show_decision(verbs={\"FJM\"}, books={\"Isaiah\"})"
   ]
  },
  {
   "cell_type": "markdown",
   "id": "electoral-exception",
   "metadata": {},
   "source": [
    "In[ ]:"
   ]
  }
 ],
 "metadata": {
  "kernelspec": {
   "display_name": "Python 3",
   "language": "python",
   "name": "python3"
  },
  "language_info": {
   "codemirror_mode": {
    "name": "ipython",
    "version": 3
   },
   "file_extension": ".py",
   "mimetype": "text/x-python",
   "name": "python",
   "nbconvert_exporter": "python",
   "pygments_lexer": "ipython3",
   "version": "3.9.5"
  },
  "widgets": {
   "application/vnd.jupyter.widget-state+json": {
    "state": {},
    "version_major": 2,
    "version_minor": 0
   }
  }
 },
 "nbformat": 4,
 "nbformat_minor": 4
}
