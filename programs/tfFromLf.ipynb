{
 "cells": [
  {
   "cell_type": "markdown",
   "metadata": {},
   "source": [
    "# Sheet conversion LF => TF\n",
    "\n",
    "This notebook converts filled out sheets that are based on LAF-Fabric into sheets that are based on Text-Fabric.\n",
    "The basic thing that needs to be done is to increment all node numbers by one."
   ]
  },
  {
   "cell_type": "code",
   "execution_count": null,
   "id": "ordinary-suspension",
   "metadata": {},
   "outputs": [],
   "source": [
    "import os\n",
    "import glob"
   ]
  },
  {
   "cell_type": "code",
   "execution_count": 6,
   "metadata": {
    "collapsed": true
   },
   "outputs": [],
   "source": [
    "homeDir = os.path.expanduser(\"~\").replace(\"\\\\\", \"/\")\n",
    "lfDir = \"{}/Dropbox/SYNVAR/4b\".format(homeDir)\n",
    "tfDir = \"{}/github/valence/workflow\".format(homeDir)\n",
    "if not os.path.exists(tfDir):\n",
    "    os.makedirs(tfDir)\n",
    "toBeConverted = [\"corr_filled\"]"
   ]
  },
  {
   "cell_type": "code",
   "execution_count": 7,
   "metadata": {
    "collapsed": true
   },
   "outputs": [],
   "source": [
    "def shiftNode(sourcePath, targetPath):\n",
    "    wh = open(targetPath, \"w\")\n",
    "    with open(sourcePath) as fh:\n",
    "        for (i, line) in enumerate(fh):\n",
    "            newFields = []\n",
    "            fields = line.rstrip(\"\\n\").split(\";\")\n",
    "            for field in fields:\n",
    "                newField = (str(int(field) + 1)) if field.isdigit() else field\n",
    "                newFields.append(newField)\n",
    "            wh.write(\"{}\\n\".format(\";\".join(newFields)))\n",
    "        wh.close()"
   ]
  },
  {
   "cell_type": "code",
   "execution_count": 10,
   "metadata": {},
   "outputs": [
    {
     "name": "stdout",
     "output_type": "stream",
     "text": [
      "BRa_etcbc4b.csv\n",
      "BWa_etcbc4b.csv\n",
      "CJT_etcbc4b.csv\n",
      "CWB_etcbc4b.csv\n",
      "FJM_etcbc4b.csv\n",
      "HLK_etcbc4b.csv\n",
      "NFa_etcbc4b.csv\n",
      "NTN_etcbc4b.csv\n",
      "NWS_etcbc4b.csv\n",
      "oBR_etcbc4b.csv\n",
      "oFH_etcbc4b.csv\n",
      "PQD_etcbc4b.csv\n",
      "QRa_etcbc4b.csv\n",
      "SWR_etcbc4b.csv\n"
     ]
    }
   ],
   "source": [
    "for task in toBeConverted:\n",
    "    sourceDir = \"{}/{}\".format(lfDir, task)\n",
    "    targetDir = \"{}/{}\".format(tfDir, task)\n",
    "    for sourcePath in glob.glob(\"{}/*.csv\".format(sourceDir)):\n",
    "        fileName = os.path.basename(sourcePath)\n",
    "        targetPath = \"{}/{}\".format(targetDir, fileName)\n",
    "        print(fileName)\n",
    "        # print('{} => {}'.format(sourcePath, targetPath))\n",
    "        shiftNode(sourcePath, targetPath)"
   ]
  }
 ],
 "metadata": {
  "kernelspec": {
   "display_name": "Python 3",
   "language": "python",
   "name": "python3"
  },
  "language_info": {
   "codemirror_mode": {
    "name": "ipython",
    "version": 3
   },
   "file_extension": ".py",
   "mimetype": "text/x-python",
   "name": "python",
   "nbconvert_exporter": "python",
   "pygments_lexer": "ipython3",
   "version": "3.6.2"
  }
 },
 "nbformat": 4,
 "nbformat_minor": 2
}
